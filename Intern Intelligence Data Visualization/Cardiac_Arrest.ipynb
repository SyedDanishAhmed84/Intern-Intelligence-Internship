{
  "nbformat": 4,
  "nbformat_minor": 0,
  "metadata": {
    "colab": {
      "provenance": []
    },
    "kernelspec": {
      "name": "python3",
      "display_name": "Python 3"
    },
    "language_info": {
      "name": "python"
    }
  },
  "cells": [
    {
      "cell_type": "code",
      "execution_count": 114,
      "metadata": {
        "colab": {
          "base_uri": "https://localhost:8080/"
        },
        "id": "miakffCZsxwz",
        "outputId": "ef5fc6d1-a870-419c-bfba-738ea97d5db0",
        "collapsed": true
      },
      "outputs": [
        {
          "output_type": "stream",
          "name": "stdout",
          "text": [
            "Requirement already satisfied: plotly in /usr/local/lib/python3.11/dist-packages (5.24.1)\n",
            "Requirement already satisfied: tenacity>=6.2.0 in /usr/local/lib/python3.11/dist-packages (from plotly) (8.5.0)\n",
            "Requirement already satisfied: packaging in /usr/local/lib/python3.11/dist-packages (from plotly) (25.0)\n"
          ]
        }
      ],
      "source": [
        "!pip install plotly"
      ]
    },
    {
      "cell_type": "code",
      "source": [
        "!pip install dash pandas plotly"
      ],
      "metadata": {
        "colab": {
          "base_uri": "https://localhost:8080/"
        },
        "id": "aU2stYWwtBRl",
        "outputId": "3fe25f04-0f86-4c74-896d-6245d18c9845",
        "collapsed": true
      },
      "execution_count": 115,
      "outputs": [
        {
          "output_type": "stream",
          "name": "stdout",
          "text": [
            "Requirement already satisfied: dash in /usr/local/lib/python3.11/dist-packages (3.1.1)\n",
            "Requirement already satisfied: pandas in /usr/local/lib/python3.11/dist-packages (2.2.2)\n",
            "Requirement already satisfied: plotly in /usr/local/lib/python3.11/dist-packages (5.24.1)\n",
            "Requirement already satisfied: Flask<3.2,>=1.0.4 in /usr/local/lib/python3.11/dist-packages (from dash) (3.1.1)\n",
            "Requirement already satisfied: Werkzeug<3.2 in /usr/local/lib/python3.11/dist-packages (from dash) (3.1.3)\n",
            "Requirement already satisfied: importlib-metadata in /usr/local/lib/python3.11/dist-packages (from dash) (8.7.0)\n",
            "Requirement already satisfied: typing-extensions>=4.1.1 in /usr/local/lib/python3.11/dist-packages (from dash) (4.14.1)\n",
            "Requirement already satisfied: requests in /usr/local/lib/python3.11/dist-packages (from dash) (2.32.3)\n",
            "Requirement already satisfied: retrying in /usr/local/lib/python3.11/dist-packages (from dash) (1.4.0)\n",
            "Requirement already satisfied: nest-asyncio in /usr/local/lib/python3.11/dist-packages (from dash) (1.6.0)\n",
            "Requirement already satisfied: setuptools in /usr/local/lib/python3.11/dist-packages (from dash) (75.2.0)\n",
            "Requirement already satisfied: numpy>=1.23.2 in /usr/local/lib/python3.11/dist-packages (from pandas) (2.0.2)\n",
            "Requirement already satisfied: python-dateutil>=2.8.2 in /usr/local/lib/python3.11/dist-packages (from pandas) (2.9.0.post0)\n",
            "Requirement already satisfied: pytz>=2020.1 in /usr/local/lib/python3.11/dist-packages (from pandas) (2025.2)\n",
            "Requirement already satisfied: tzdata>=2022.7 in /usr/local/lib/python3.11/dist-packages (from pandas) (2025.2)\n",
            "Requirement already satisfied: tenacity>=6.2.0 in /usr/local/lib/python3.11/dist-packages (from plotly) (8.5.0)\n",
            "Requirement already satisfied: packaging in /usr/local/lib/python3.11/dist-packages (from plotly) (25.0)\n",
            "Requirement already satisfied: blinker>=1.9.0 in /usr/local/lib/python3.11/dist-packages (from Flask<3.2,>=1.0.4->dash) (1.9.0)\n",
            "Requirement already satisfied: click>=8.1.3 in /usr/local/lib/python3.11/dist-packages (from Flask<3.2,>=1.0.4->dash) (8.2.1)\n",
            "Requirement already satisfied: itsdangerous>=2.2.0 in /usr/local/lib/python3.11/dist-packages (from Flask<3.2,>=1.0.4->dash) (2.2.0)\n",
            "Requirement already satisfied: jinja2>=3.1.2 in /usr/local/lib/python3.11/dist-packages (from Flask<3.2,>=1.0.4->dash) (3.1.6)\n",
            "Requirement already satisfied: markupsafe>=2.1.1 in /usr/local/lib/python3.11/dist-packages (from Flask<3.2,>=1.0.4->dash) (3.0.2)\n",
            "Requirement already satisfied: six>=1.5 in /usr/local/lib/python3.11/dist-packages (from python-dateutil>=2.8.2->pandas) (1.17.0)\n",
            "Requirement already satisfied: zipp>=3.20 in /usr/local/lib/python3.11/dist-packages (from importlib-metadata->dash) (3.23.0)\n",
            "Requirement already satisfied: charset-normalizer<4,>=2 in /usr/local/lib/python3.11/dist-packages (from requests->dash) (3.4.2)\n",
            "Requirement already satisfied: idna<4,>=2.5 in /usr/local/lib/python3.11/dist-packages (from requests->dash) (3.10)\n",
            "Requirement already satisfied: urllib3<3,>=1.21.1 in /usr/local/lib/python3.11/dist-packages (from requests->dash) (2.4.0)\n",
            "Requirement already satisfied: certifi>=2017.4.17 in /usr/local/lib/python3.11/dist-packages (from requests->dash) (2025.7.14)\n"
          ]
        }
      ]
    },
    {
      "cell_type": "code",
      "source": [
        "import pandas as pd\n",
        "import numpy as np\n",
        "import seaborn as sns\n",
        "import matplotlib.pyplot as plt\n",
        "import dash\n",
        "from dash import dcc, html, Input, Output\n",
        "import plotly.express as px\n",
        "import plotly.graph_objects as go"
      ],
      "metadata": {
        "id": "H71I5xfItH8R"
      },
      "execution_count": 116,
      "outputs": []
    },
    {
      "cell_type": "code",
      "source": [
        "df=pd.read_csv('cardiac arrest dataset.csv')\n",
        "df.head()"
      ],
      "metadata": {
        "colab": {
          "base_uri": "https://localhost:8080/",
          "height": 206
        },
        "id": "Bd0aFN2ttSQK",
        "outputId": "d1326d4c-2675-4b02-fb72-c2507bf3df75"
      },
      "execution_count": 117,
      "outputs": [
        {
          "output_type": "execute_result",
          "data": {
            "text/plain": [
              "   age  sex  cp  trestbps  chol  fbs  restecg  thalach  exang  oldpeak  slope  \\\n",
              "0   52    1   0       125   212    0        1      168      0      1.0      2   \n",
              "1   53    1   0       140   203    1        0      155      1      3.1      0   \n",
              "2   70    1   0       145   174    0        1      125      1      2.6      0   \n",
              "3   61    1   0       148   203    0        1      161      0      0.0      2   \n",
              "4   62    0   0       138   294    1        1      106      0      1.9      1   \n",
              "\n",
              "   ca  thal  target  \n",
              "0   2     3       0  \n",
              "1   0     3       0  \n",
              "2   0     3       0  \n",
              "3   1     3       0  \n",
              "4   3     2       0  "
            ],
            "text/html": [
              "\n",
              "  <div id=\"df-473d3825-0bf5-4a5d-ad2b-2384e63c7051\" class=\"colab-df-container\">\n",
              "    <div>\n",
              "<style scoped>\n",
              "    .dataframe tbody tr th:only-of-type {\n",
              "        vertical-align: middle;\n",
              "    }\n",
              "\n",
              "    .dataframe tbody tr th {\n",
              "        vertical-align: top;\n",
              "    }\n",
              "\n",
              "    .dataframe thead th {\n",
              "        text-align: right;\n",
              "    }\n",
              "</style>\n",
              "<table border=\"1\" class=\"dataframe\">\n",
              "  <thead>\n",
              "    <tr style=\"text-align: right;\">\n",
              "      <th></th>\n",
              "      <th>age</th>\n",
              "      <th>sex</th>\n",
              "      <th>cp</th>\n",
              "      <th>trestbps</th>\n",
              "      <th>chol</th>\n",
              "      <th>fbs</th>\n",
              "      <th>restecg</th>\n",
              "      <th>thalach</th>\n",
              "      <th>exang</th>\n",
              "      <th>oldpeak</th>\n",
              "      <th>slope</th>\n",
              "      <th>ca</th>\n",
              "      <th>thal</th>\n",
              "      <th>target</th>\n",
              "    </tr>\n",
              "  </thead>\n",
              "  <tbody>\n",
              "    <tr>\n",
              "      <th>0</th>\n",
              "      <td>52</td>\n",
              "      <td>1</td>\n",
              "      <td>0</td>\n",
              "      <td>125</td>\n",
              "      <td>212</td>\n",
              "      <td>0</td>\n",
              "      <td>1</td>\n",
              "      <td>168</td>\n",
              "      <td>0</td>\n",
              "      <td>1.0</td>\n",
              "      <td>2</td>\n",
              "      <td>2</td>\n",
              "      <td>3</td>\n",
              "      <td>0</td>\n",
              "    </tr>\n",
              "    <tr>\n",
              "      <th>1</th>\n",
              "      <td>53</td>\n",
              "      <td>1</td>\n",
              "      <td>0</td>\n",
              "      <td>140</td>\n",
              "      <td>203</td>\n",
              "      <td>1</td>\n",
              "      <td>0</td>\n",
              "      <td>155</td>\n",
              "      <td>1</td>\n",
              "      <td>3.1</td>\n",
              "      <td>0</td>\n",
              "      <td>0</td>\n",
              "      <td>3</td>\n",
              "      <td>0</td>\n",
              "    </tr>\n",
              "    <tr>\n",
              "      <th>2</th>\n",
              "      <td>70</td>\n",
              "      <td>1</td>\n",
              "      <td>0</td>\n",
              "      <td>145</td>\n",
              "      <td>174</td>\n",
              "      <td>0</td>\n",
              "      <td>1</td>\n",
              "      <td>125</td>\n",
              "      <td>1</td>\n",
              "      <td>2.6</td>\n",
              "      <td>0</td>\n",
              "      <td>0</td>\n",
              "      <td>3</td>\n",
              "      <td>0</td>\n",
              "    </tr>\n",
              "    <tr>\n",
              "      <th>3</th>\n",
              "      <td>61</td>\n",
              "      <td>1</td>\n",
              "      <td>0</td>\n",
              "      <td>148</td>\n",
              "      <td>203</td>\n",
              "      <td>0</td>\n",
              "      <td>1</td>\n",
              "      <td>161</td>\n",
              "      <td>0</td>\n",
              "      <td>0.0</td>\n",
              "      <td>2</td>\n",
              "      <td>1</td>\n",
              "      <td>3</td>\n",
              "      <td>0</td>\n",
              "    </tr>\n",
              "    <tr>\n",
              "      <th>4</th>\n",
              "      <td>62</td>\n",
              "      <td>0</td>\n",
              "      <td>0</td>\n",
              "      <td>138</td>\n",
              "      <td>294</td>\n",
              "      <td>1</td>\n",
              "      <td>1</td>\n",
              "      <td>106</td>\n",
              "      <td>0</td>\n",
              "      <td>1.9</td>\n",
              "      <td>1</td>\n",
              "      <td>3</td>\n",
              "      <td>2</td>\n",
              "      <td>0</td>\n",
              "    </tr>\n",
              "  </tbody>\n",
              "</table>\n",
              "</div>\n",
              "    <div class=\"colab-df-buttons\">\n",
              "\n",
              "  <div class=\"colab-df-container\">\n",
              "    <button class=\"colab-df-convert\" onclick=\"convertToInteractive('df-473d3825-0bf5-4a5d-ad2b-2384e63c7051')\"\n",
              "            title=\"Convert this dataframe to an interactive table.\"\n",
              "            style=\"display:none;\">\n",
              "\n",
              "  <svg xmlns=\"http://www.w3.org/2000/svg\" height=\"24px\" viewBox=\"0 -960 960 960\">\n",
              "    <path d=\"M120-120v-720h720v720H120Zm60-500h600v-160H180v160Zm220 220h160v-160H400v160Zm0 220h160v-160H400v160ZM180-400h160v-160H180v160Zm440 0h160v-160H620v160ZM180-180h160v-160H180v160Zm440 0h160v-160H620v160Z\"/>\n",
              "  </svg>\n",
              "    </button>\n",
              "\n",
              "  <style>\n",
              "    .colab-df-container {\n",
              "      display:flex;\n",
              "      gap: 12px;\n",
              "    }\n",
              "\n",
              "    .colab-df-convert {\n",
              "      background-color: #E8F0FE;\n",
              "      border: none;\n",
              "      border-radius: 50%;\n",
              "      cursor: pointer;\n",
              "      display: none;\n",
              "      fill: #1967D2;\n",
              "      height: 32px;\n",
              "      padding: 0 0 0 0;\n",
              "      width: 32px;\n",
              "    }\n",
              "\n",
              "    .colab-df-convert:hover {\n",
              "      background-color: #E2EBFA;\n",
              "      box-shadow: 0px 1px 2px rgba(60, 64, 67, 0.3), 0px 1px 3px 1px rgba(60, 64, 67, 0.15);\n",
              "      fill: #174EA6;\n",
              "    }\n",
              "\n",
              "    .colab-df-buttons div {\n",
              "      margin-bottom: 4px;\n",
              "    }\n",
              "\n",
              "    [theme=dark] .colab-df-convert {\n",
              "      background-color: #3B4455;\n",
              "      fill: #D2E3FC;\n",
              "    }\n",
              "\n",
              "    [theme=dark] .colab-df-convert:hover {\n",
              "      background-color: #434B5C;\n",
              "      box-shadow: 0px 1px 3px 1px rgba(0, 0, 0, 0.15);\n",
              "      filter: drop-shadow(0px 1px 2px rgba(0, 0, 0, 0.3));\n",
              "      fill: #FFFFFF;\n",
              "    }\n",
              "  </style>\n",
              "\n",
              "    <script>\n",
              "      const buttonEl =\n",
              "        document.querySelector('#df-473d3825-0bf5-4a5d-ad2b-2384e63c7051 button.colab-df-convert');\n",
              "      buttonEl.style.display =\n",
              "        google.colab.kernel.accessAllowed ? 'block' : 'none';\n",
              "\n",
              "      async function convertToInteractive(key) {\n",
              "        const element = document.querySelector('#df-473d3825-0bf5-4a5d-ad2b-2384e63c7051');\n",
              "        const dataTable =\n",
              "          await google.colab.kernel.invokeFunction('convertToInteractive',\n",
              "                                                    [key], {});\n",
              "        if (!dataTable) return;\n",
              "\n",
              "        const docLinkHtml = 'Like what you see? Visit the ' +\n",
              "          '<a target=\"_blank\" href=https://colab.research.google.com/notebooks/data_table.ipynb>data table notebook</a>'\n",
              "          + ' to learn more about interactive tables.';\n",
              "        element.innerHTML = '';\n",
              "        dataTable['output_type'] = 'display_data';\n",
              "        await google.colab.output.renderOutput(dataTable, element);\n",
              "        const docLink = document.createElement('div');\n",
              "        docLink.innerHTML = docLinkHtml;\n",
              "        element.appendChild(docLink);\n",
              "      }\n",
              "    </script>\n",
              "  </div>\n",
              "\n",
              "\n",
              "    <div id=\"df-d38f0198-9e72-4019-ab10-6284e05a7709\">\n",
              "      <button class=\"colab-df-quickchart\" onclick=\"quickchart('df-d38f0198-9e72-4019-ab10-6284e05a7709')\"\n",
              "                title=\"Suggest charts\"\n",
              "                style=\"display:none;\">\n",
              "\n",
              "<svg xmlns=\"http://www.w3.org/2000/svg\" height=\"24px\"viewBox=\"0 0 24 24\"\n",
              "     width=\"24px\">\n",
              "    <g>\n",
              "        <path d=\"M19 3H5c-1.1 0-2 .9-2 2v14c0 1.1.9 2 2 2h14c1.1 0 2-.9 2-2V5c0-1.1-.9-2-2-2zM9 17H7v-7h2v7zm4 0h-2V7h2v10zm4 0h-2v-4h2v4z\"/>\n",
              "    </g>\n",
              "</svg>\n",
              "      </button>\n",
              "\n",
              "<style>\n",
              "  .colab-df-quickchart {\n",
              "      --bg-color: #E8F0FE;\n",
              "      --fill-color: #1967D2;\n",
              "      --hover-bg-color: #E2EBFA;\n",
              "      --hover-fill-color: #174EA6;\n",
              "      --disabled-fill-color: #AAA;\n",
              "      --disabled-bg-color: #DDD;\n",
              "  }\n",
              "\n",
              "  [theme=dark] .colab-df-quickchart {\n",
              "      --bg-color: #3B4455;\n",
              "      --fill-color: #D2E3FC;\n",
              "      --hover-bg-color: #434B5C;\n",
              "      --hover-fill-color: #FFFFFF;\n",
              "      --disabled-bg-color: #3B4455;\n",
              "      --disabled-fill-color: #666;\n",
              "  }\n",
              "\n",
              "  .colab-df-quickchart {\n",
              "    background-color: var(--bg-color);\n",
              "    border: none;\n",
              "    border-radius: 50%;\n",
              "    cursor: pointer;\n",
              "    display: none;\n",
              "    fill: var(--fill-color);\n",
              "    height: 32px;\n",
              "    padding: 0;\n",
              "    width: 32px;\n",
              "  }\n",
              "\n",
              "  .colab-df-quickchart:hover {\n",
              "    background-color: var(--hover-bg-color);\n",
              "    box-shadow: 0 1px 2px rgba(60, 64, 67, 0.3), 0 1px 3px 1px rgba(60, 64, 67, 0.15);\n",
              "    fill: var(--button-hover-fill-color);\n",
              "  }\n",
              "\n",
              "  .colab-df-quickchart-complete:disabled,\n",
              "  .colab-df-quickchart-complete:disabled:hover {\n",
              "    background-color: var(--disabled-bg-color);\n",
              "    fill: var(--disabled-fill-color);\n",
              "    box-shadow: none;\n",
              "  }\n",
              "\n",
              "  .colab-df-spinner {\n",
              "    border: 2px solid var(--fill-color);\n",
              "    border-color: transparent;\n",
              "    border-bottom-color: var(--fill-color);\n",
              "    animation:\n",
              "      spin 1s steps(1) infinite;\n",
              "  }\n",
              "\n",
              "  @keyframes spin {\n",
              "    0% {\n",
              "      border-color: transparent;\n",
              "      border-bottom-color: var(--fill-color);\n",
              "      border-left-color: var(--fill-color);\n",
              "    }\n",
              "    20% {\n",
              "      border-color: transparent;\n",
              "      border-left-color: var(--fill-color);\n",
              "      border-top-color: var(--fill-color);\n",
              "    }\n",
              "    30% {\n",
              "      border-color: transparent;\n",
              "      border-left-color: var(--fill-color);\n",
              "      border-top-color: var(--fill-color);\n",
              "      border-right-color: var(--fill-color);\n",
              "    }\n",
              "    40% {\n",
              "      border-color: transparent;\n",
              "      border-right-color: var(--fill-color);\n",
              "      border-top-color: var(--fill-color);\n",
              "    }\n",
              "    60% {\n",
              "      border-color: transparent;\n",
              "      border-right-color: var(--fill-color);\n",
              "    }\n",
              "    80% {\n",
              "      border-color: transparent;\n",
              "      border-right-color: var(--fill-color);\n",
              "      border-bottom-color: var(--fill-color);\n",
              "    }\n",
              "    90% {\n",
              "      border-color: transparent;\n",
              "      border-bottom-color: var(--fill-color);\n",
              "    }\n",
              "  }\n",
              "</style>\n",
              "\n",
              "      <script>\n",
              "        async function quickchart(key) {\n",
              "          const quickchartButtonEl =\n",
              "            document.querySelector('#' + key + ' button');\n",
              "          quickchartButtonEl.disabled = true;  // To prevent multiple clicks.\n",
              "          quickchartButtonEl.classList.add('colab-df-spinner');\n",
              "          try {\n",
              "            const charts = await google.colab.kernel.invokeFunction(\n",
              "                'suggestCharts', [key], {});\n",
              "          } catch (error) {\n",
              "            console.error('Error during call to suggestCharts:', error);\n",
              "          }\n",
              "          quickchartButtonEl.classList.remove('colab-df-spinner');\n",
              "          quickchartButtonEl.classList.add('colab-df-quickchart-complete');\n",
              "        }\n",
              "        (() => {\n",
              "          let quickchartButtonEl =\n",
              "            document.querySelector('#df-d38f0198-9e72-4019-ab10-6284e05a7709 button');\n",
              "          quickchartButtonEl.style.display =\n",
              "            google.colab.kernel.accessAllowed ? 'block' : 'none';\n",
              "        })();\n",
              "      </script>\n",
              "    </div>\n",
              "\n",
              "    </div>\n",
              "  </div>\n"
            ],
            "application/vnd.google.colaboratory.intrinsic+json": {
              "type": "dataframe",
              "variable_name": "df",
              "summary": "{\n  \"name\": \"df\",\n  \"rows\": 1025,\n  \"fields\": [\n    {\n      \"column\": \"age\",\n      \"properties\": {\n        \"dtype\": \"number\",\n        \"std\": 9,\n        \"min\": 29,\n        \"max\": 77,\n        \"num_unique_values\": 41,\n        \"samples\": [\n          65,\n          50,\n          54\n        ],\n        \"semantic_type\": \"\",\n        \"description\": \"\"\n      }\n    },\n    {\n      \"column\": \"sex\",\n      \"properties\": {\n        \"dtype\": \"number\",\n        \"std\": 0,\n        \"min\": 0,\n        \"max\": 1,\n        \"num_unique_values\": 2,\n        \"samples\": [\n          0,\n          1\n        ],\n        \"semantic_type\": \"\",\n        \"description\": \"\"\n      }\n    },\n    {\n      \"column\": \"cp\",\n      \"properties\": {\n        \"dtype\": \"number\",\n        \"std\": 1,\n        \"min\": 0,\n        \"max\": 3,\n        \"num_unique_values\": 4,\n        \"samples\": [\n          1,\n          3\n        ],\n        \"semantic_type\": \"\",\n        \"description\": \"\"\n      }\n    },\n    {\n      \"column\": \"trestbps\",\n      \"properties\": {\n        \"dtype\": \"number\",\n        \"std\": 17,\n        \"min\": 94,\n        \"max\": 200,\n        \"num_unique_values\": 49,\n        \"samples\": [\n          128,\n          172\n        ],\n        \"semantic_type\": \"\",\n        \"description\": \"\"\n      }\n    },\n    {\n      \"column\": \"chol\",\n      \"properties\": {\n        \"dtype\": \"number\",\n        \"std\": 51,\n        \"min\": 126,\n        \"max\": 564,\n        \"num_unique_values\": 152,\n        \"samples\": [\n          267,\n          262\n        ],\n        \"semantic_type\": \"\",\n        \"description\": \"\"\n      }\n    },\n    {\n      \"column\": \"fbs\",\n      \"properties\": {\n        \"dtype\": \"number\",\n        \"std\": 0,\n        \"min\": 0,\n        \"max\": 1,\n        \"num_unique_values\": 2,\n        \"samples\": [\n          1,\n          0\n        ],\n        \"semantic_type\": \"\",\n        \"description\": \"\"\n      }\n    },\n    {\n      \"column\": \"restecg\",\n      \"properties\": {\n        \"dtype\": \"number\",\n        \"std\": 0,\n        \"min\": 0,\n        \"max\": 2,\n        \"num_unique_values\": 3,\n        \"samples\": [\n          1,\n          0\n        ],\n        \"semantic_type\": \"\",\n        \"description\": \"\"\n      }\n    },\n    {\n      \"column\": \"thalach\",\n      \"properties\": {\n        \"dtype\": \"number\",\n        \"std\": 23,\n        \"min\": 71,\n        \"max\": 202,\n        \"num_unique_values\": 91,\n        \"samples\": [\n          180,\n          152\n        ],\n        \"semantic_type\": \"\",\n        \"description\": \"\"\n      }\n    },\n    {\n      \"column\": \"exang\",\n      \"properties\": {\n        \"dtype\": \"number\",\n        \"std\": 0,\n        \"min\": 0,\n        \"max\": 1,\n        \"num_unique_values\": 2,\n        \"samples\": [\n          1,\n          0\n        ],\n        \"semantic_type\": \"\",\n        \"description\": \"\"\n      }\n    },\n    {\n      \"column\": \"oldpeak\",\n      \"properties\": {\n        \"dtype\": \"number\",\n        \"std\": 1.175053255150173,\n        \"min\": 0.0,\n        \"max\": 6.2,\n        \"num_unique_values\": 40,\n        \"samples\": [\n          2.8,\n          0.4\n        ],\n        \"semantic_type\": \"\",\n        \"description\": \"\"\n      }\n    },\n    {\n      \"column\": \"slope\",\n      \"properties\": {\n        \"dtype\": \"number\",\n        \"std\": 0,\n        \"min\": 0,\n        \"max\": 2,\n        \"num_unique_values\": 3,\n        \"samples\": [\n          2,\n          0\n        ],\n        \"semantic_type\": \"\",\n        \"description\": \"\"\n      }\n    },\n    {\n      \"column\": \"ca\",\n      \"properties\": {\n        \"dtype\": \"number\",\n        \"std\": 1,\n        \"min\": 0,\n        \"max\": 4,\n        \"num_unique_values\": 5,\n        \"samples\": [\n          0,\n          4\n        ],\n        \"semantic_type\": \"\",\n        \"description\": \"\"\n      }\n    },\n    {\n      \"column\": \"thal\",\n      \"properties\": {\n        \"dtype\": \"number\",\n        \"std\": 0,\n        \"min\": 0,\n        \"max\": 3,\n        \"num_unique_values\": 4,\n        \"samples\": [\n          2,\n          0\n        ],\n        \"semantic_type\": \"\",\n        \"description\": \"\"\n      }\n    },\n    {\n      \"column\": \"target\",\n      \"properties\": {\n        \"dtype\": \"number\",\n        \"std\": 0,\n        \"min\": 0,\n        \"max\": 1,\n        \"num_unique_values\": 2,\n        \"samples\": [\n          1,\n          0\n        ],\n        \"semantic_type\": \"\",\n        \"description\": \"\"\n      }\n    }\n  ]\n}"
            }
          },
          "metadata": {},
          "execution_count": 117
        }
      ]
    },
    {
      "cell_type": "code",
      "source": [
        "df.isnull().sum()"
      ],
      "metadata": {
        "colab": {
          "base_uri": "https://localhost:8080/",
          "height": 523
        },
        "id": "qbB79Dixtg5l",
        "outputId": "18b0eb1b-f934-418d-a22d-048c94ee19a5"
      },
      "execution_count": 118,
      "outputs": [
        {
          "output_type": "execute_result",
          "data": {
            "text/plain": [
              "age         0\n",
              "sex         0\n",
              "cp          0\n",
              "trestbps    0\n",
              "chol        0\n",
              "fbs         0\n",
              "restecg     0\n",
              "thalach     0\n",
              "exang       0\n",
              "oldpeak     0\n",
              "slope       0\n",
              "ca          0\n",
              "thal        0\n",
              "target      0\n",
              "dtype: int64"
            ],
            "text/html": [
              "<div>\n",
              "<style scoped>\n",
              "    .dataframe tbody tr th:only-of-type {\n",
              "        vertical-align: middle;\n",
              "    }\n",
              "\n",
              "    .dataframe tbody tr th {\n",
              "        vertical-align: top;\n",
              "    }\n",
              "\n",
              "    .dataframe thead th {\n",
              "        text-align: right;\n",
              "    }\n",
              "</style>\n",
              "<table border=\"1\" class=\"dataframe\">\n",
              "  <thead>\n",
              "    <tr style=\"text-align: right;\">\n",
              "      <th></th>\n",
              "      <th>0</th>\n",
              "    </tr>\n",
              "  </thead>\n",
              "  <tbody>\n",
              "    <tr>\n",
              "      <th>age</th>\n",
              "      <td>0</td>\n",
              "    </tr>\n",
              "    <tr>\n",
              "      <th>sex</th>\n",
              "      <td>0</td>\n",
              "    </tr>\n",
              "    <tr>\n",
              "      <th>cp</th>\n",
              "      <td>0</td>\n",
              "    </tr>\n",
              "    <tr>\n",
              "      <th>trestbps</th>\n",
              "      <td>0</td>\n",
              "    </tr>\n",
              "    <tr>\n",
              "      <th>chol</th>\n",
              "      <td>0</td>\n",
              "    </tr>\n",
              "    <tr>\n",
              "      <th>fbs</th>\n",
              "      <td>0</td>\n",
              "    </tr>\n",
              "    <tr>\n",
              "      <th>restecg</th>\n",
              "      <td>0</td>\n",
              "    </tr>\n",
              "    <tr>\n",
              "      <th>thalach</th>\n",
              "      <td>0</td>\n",
              "    </tr>\n",
              "    <tr>\n",
              "      <th>exang</th>\n",
              "      <td>0</td>\n",
              "    </tr>\n",
              "    <tr>\n",
              "      <th>oldpeak</th>\n",
              "      <td>0</td>\n",
              "    </tr>\n",
              "    <tr>\n",
              "      <th>slope</th>\n",
              "      <td>0</td>\n",
              "    </tr>\n",
              "    <tr>\n",
              "      <th>ca</th>\n",
              "      <td>0</td>\n",
              "    </tr>\n",
              "    <tr>\n",
              "      <th>thal</th>\n",
              "      <td>0</td>\n",
              "    </tr>\n",
              "    <tr>\n",
              "      <th>target</th>\n",
              "      <td>0</td>\n",
              "    </tr>\n",
              "  </tbody>\n",
              "</table>\n",
              "</div><br><label><b>dtype:</b> int64</label>"
            ]
          },
          "metadata": {},
          "execution_count": 118
        }
      ]
    },
    {
      "cell_type": "code",
      "source": [
        "df['sex_label']=df['sex'].map({1:'Male',0:'Female'})"
      ],
      "metadata": {
        "id": "OnZJYVwGA8tr"
      },
      "execution_count": 119,
      "outputs": []
    },
    {
      "cell_type": "code",
      "source": [
        "df['sex'].value_counts()"
      ],
      "metadata": {
        "colab": {
          "base_uri": "https://localhost:8080/",
          "height": 178
        },
        "id": "umP-IWO1AzNi",
        "outputId": "94391e14-b553-4542-8a38-73a38a504ac5"
      },
      "execution_count": 120,
      "outputs": [
        {
          "output_type": "execute_result",
          "data": {
            "text/plain": [
              "sex\n",
              "1    713\n",
              "0    312\n",
              "Name: count, dtype: int64"
            ],
            "text/html": [
              "<div>\n",
              "<style scoped>\n",
              "    .dataframe tbody tr th:only-of-type {\n",
              "        vertical-align: middle;\n",
              "    }\n",
              "\n",
              "    .dataframe tbody tr th {\n",
              "        vertical-align: top;\n",
              "    }\n",
              "\n",
              "    .dataframe thead th {\n",
              "        text-align: right;\n",
              "    }\n",
              "</style>\n",
              "<table border=\"1\" class=\"dataframe\">\n",
              "  <thead>\n",
              "    <tr style=\"text-align: right;\">\n",
              "      <th></th>\n",
              "      <th>count</th>\n",
              "    </tr>\n",
              "    <tr>\n",
              "      <th>sex</th>\n",
              "      <th></th>\n",
              "    </tr>\n",
              "  </thead>\n",
              "  <tbody>\n",
              "    <tr>\n",
              "      <th>1</th>\n",
              "      <td>713</td>\n",
              "    </tr>\n",
              "    <tr>\n",
              "      <th>0</th>\n",
              "      <td>312</td>\n",
              "    </tr>\n",
              "  </tbody>\n",
              "</table>\n",
              "</div><br><label><b>dtype:</b> int64</label>"
            ]
          },
          "metadata": {},
          "execution_count": 120
        }
      ]
    },
    {
      "cell_type": "code",
      "source": [
        "fig=px.scatter(df,x='age',y='trestbps',title='Age vs Blood Pressure',hover_data=['sex'])\n",
        "fig.update_traces(\n",
        "    marker=dict(symbol='circle',size=16,color='Red',\n",
        "                line=dict(width=2)))\n",
        "fig.show()"
      ],
      "metadata": {
        "colab": {
          "base_uri": "https://localhost:8080/",
          "height": 542
        },
        "id": "H-TKDr3htlw9",
        "outputId": "a320e38e-0fc2-4ba2-b8d7-16962e97b8e3"
      },
      "execution_count": 121,
      "outputs": [
        {
          "output_type": "display_data",
          "data": {
            "text/html": [
              "<html>\n",
              "<head><meta charset=\"utf-8\" /></head>\n",
              "<body>\n",
              "    <div>            <script src=\"https://cdnjs.cloudflare.com/ajax/libs/mathjax/2.7.5/MathJax.js?config=TeX-AMS-MML_SVG\"></script><script type=\"text/javascript\">if (window.MathJax && window.MathJax.Hub && window.MathJax.Hub.Config) {window.MathJax.Hub.Config({SVG: {font: \"STIX-Web\"}});}</script>                <script type=\"text/javascript\">window.PlotlyConfig = {MathJaxConfig: 'local'};</script>\n",
              "        <script charset=\"utf-8\" src=\"https://cdn.plot.ly/plotly-2.35.2.min.js\"></script>                <div id=\"f86c309e-2785-4b21-a36c-5d2a3a5597fd\" class=\"plotly-graph-div\" style=\"height:525px; width:100%;\"></div>            <script type=\"text/javascript\">                                    window.PLOTLYENV=window.PLOTLYENV || {};                                    if (document.getElementById(\"f86c309e-2785-4b21-a36c-5d2a3a5597fd\")) {                    Plotly.newPlot(                        \"f86c309e-2785-4b21-a36c-5d2a3a5597fd\",                        [{\"customdata\":[[1],[1],[1],[1],[0],[0],[1],[1],[1],[1],[0],[0],[0],[1],[1],[0],[0],[1],[0],[1],[1],[0],[1],[0],[0],[0],[1],[0],[1],[0],[1],[0],[1],[1],[1],[1],[1],[1],[1],[1],[0],[1],[0],[1],[0],[1],[1],[0],[0],[1],[0],[0],[1],[1],[1],[1],[1],[1],[1],[1],[1],[0],[1],[1],[1],[1],[1],[1],[0],[0],[1],[1],[1],[1],[1],[1],[1],[1],[1],[1],[1],[1],[1],[1],[0],[1],[1],[0],[0],[1],[0],[0],[1],[1],[1],[0],[0],[1],[1],[0],[0],[1],[1],[1],[1],[1],[1],[1],[1],[1],[1],[1],[1],[1],[1],[0],[1],[1],[1],[1],[1],[1],[1],[0],[1],[0],[1],[1],[1],[1],[0],[0],[1],[1],[1],[0],[0],[0],[1],[1],[1],[0],[1],[1],[1],[1],[0],[1],[1],[1],[1],[1],[1],[1],[1],[1],[1],[1],[0],[1],[1],[1],[1],[1],[1],[1],[1],[0],[1],[0],[1],[1],[1],[0],[1],[0],[1],[1],[1],[0],[1],[1],[1],[1],[1],[1],[1],[1],[1],[1],[1],[1],[0],[1],[1],[1],[1],[1],[0],[1],[0],[1],[1],[1],[0],[1],[1],[1],[1],[1],[1],[1],[1],[1],[1],[1],[1],[1],[1],[1],[0],[1],[1],[0],[1],[1],[1],[0],[1],[0],[1],[1],[1],[0],[0],[1],[1],[1],[1],[0],[0],[1],[1],[1],[1],[1],[1],[1],[0],[1],[1],[0],[1],[1],[1],[0],[0],[0],[1],[1],[1],[1],[1],[0],[0],[1],[1],[1],[1],[0],[1],[1],[0],[1],[1],[1],[1],[1],[1],[0],[0],[1],[0],[1],[1],[0],[0],[0],[0],[1],[1],[1],[1],[1],[0],[1],[1],[1],[1],[1],[0],[1],[0],[1],[0],[1],[0],[1],[1],[0],[1],[1],[1],[0],[1],[1],[0],[0],[1],[0],[0],[0],[1],[1],[1],[0],[1],[1],[1],[0],[0],[0],[1],[0],[1],[1],[1],[1],[1],[1],[1],[1],[0],[1],[1],[1],[1],[0],[1],[0],[1],[1],[1],[1],[1],[0],[1],[1],[1],[0],[1],[1],[0],[1],[0],[1],[1],[1],[1],[1],[0],[1],[0],[1],[0],[1],[1],[0],[1],[1],[1],[1],[1],[1],[1],[1],[0],[1],[1],[1],[0],[1],[1],[0],[1],[0],[1],[1],[1],[1],[1],[0],[1],[0],[1],[1],[1],[1],[0],[1],[0],[1],[1],[1],[1],[0],[1],[1],[0],[0],[0],[0],[0],[0],[1],[0],[0],[1],[1],[1],[1],[0],[0],[1],[0],[0],[0],[1],[1],[1],[0],[1],[1],[1],[1],[1],[1],[1],[0],[1],[0],[0],[0],[0],[0],[1],[1],[0],[1],[1],[1],[1],[1],[1],[0],[1],[1],[1],[1],[1],[0],[0],[0],[1],[1],[1],[1],[1],[1],[1],[0],[0],[1],[1],[1],[1],[1],[1],[0],[1],[0],[1],[1],[1],[1],[1],[1],[1],[1],[0],[0],[0],[0],[0],[1],[0],[1],[0],[0],[0],[0],[1],[1],[1],[1],[1],[1],[0],[1],[1],[1],[1],[0],[1],[1],[0],[0],[0],[1],[1],[0],[0],[0],[0],[0],[0],[0],[1],[1],[1],[1],[1],[0],[1],[1],[1],[1],[0],[0],[1],[1],[1],[0],[1],[1],[1],[1],[1],[0],[1],[0],[0],[0],[1],[1],[0],[0],[1],[0],[1],[0],[1],[1],[1],[1],[1],[1],[1],[0],[1],[1],[1],[1],[1],[1],[1],[1],[1],[0],[1],[0],[0],[1],[0],[1],[1],[1],[1],[1],[0],[0],[1],[0],[0],[1],[0],[1],[1],[1],[0],[0],[0],[0],[1],[0],[0],[1],[0],[1],[1],[1],[1],[0],[1],[1],[1],[1],[1],[0],[1],[1],[1],[0],[1],[1],[0],[0],[0],[1],[0],[0],[0],[1],[1],[1],[1],[1],[0],[0],[0],[1],[1],[0],[1],[0],[1],[0],[0],[1],[1],[1],[1],[1],[0],[0],[0],[1],[1],[1],[1],[0],[1],[1],[1],[1],[1],[1],[1],[0],[1],[1],[1],[1],[1],[1],[0],[1],[1],[0],[0],[1],[0],[1],[0],[1],[1],[0],[1],[1],[1],[1],[1],[0],[1],[1],[1],[1],[0],[0],[1],[1],[1],[0],[0],[1],[1],[0],[1],[0],[1],[1],[1],[0],[0],[0],[0],[1],[1],[1],[0],[1],[1],[1],[0],[1],[1],[1],[1],[1],[1],[1],[0],[1],[1],[0],[1],[1],[1],[1],[1],[1],[0],[1],[1],[0],[1],[1],[1],[0],[0],[1],[0],[1],[0],[1],[1],[1],[1],[1],[0],[1],[0],[0],[0],[0],[1],[0],[1],[1],[0],[1],[1],[0],[1],[1],[1],[1],[1],[0],[1],[1],[1],[1],[0],[1],[1],[1],[0],[1],[1],[1],[1],[0],[1],[0],[1],[1],[1],[1],[0],[1],[1],[0],[1],[1],[1],[1],[1],[1],[0],[1],[0],[1],[1],[1],[0],[1],[1],[1],[1],[1],[1],[1],[1],[1],[1],[0],[1],[1],[1],[1],[0],[1],[1],[1],[1],[0],[1],[0],[1],[1],[1],[1],[1],[1],[1],[0],[1],[0],[1],[1],[1],[1],[1],[1],[0],[1],[1],[1],[1],[0],[1],[1],[1],[1],[1],[1],[0],[1],[1],[1],[1],[1],[1],[1],[1],[1],[1],[0],[0],[0],[0],[1],[1],[1],[0],[1],[1],[0],[1],[1],[0],[0],[1],[1],[1],[1],[0],[1],[1],[1],[0],[1],[1],[1],[1],[1],[1],[1],[1],[1],[1],[1],[1],[0],[1],[1],[1],[1],[1],[1],[1],[0],[1],[1],[1],[1],[1],[1],[0],[0],[0],[0],[1],[0],[1],[0],[0],[1],[1],[1],[0],[0],[0],[0],[1],[0],[1],[0],[0],[0],[0],[1],[0],[0],[0],[1],[0],[1],[1],[1],[1],[1],[1],[1],[1],[0],[1],[1],[1],[1],[1],[0],[1],[1],[1],[0],[1],[1],[0],[1],[1],[0],[1],[1],[1],[0],[1],[1],[1],[1],[1],[1],[1],[0],[0],[1],[1],[1],[1],[1],[1],[1],[1],[0],[1],[1],[1],[1],[1],[1],[1],[1],[0],[1]],\"hovertemplate\":\"age=%{x}\\u003cbr\\u003etrestbps=%{y}\\u003cbr\\u003esex=%{customdata[0]}\\u003cextra\\u003e\\u003c\\u002fextra\\u003e\",\"legendgroup\":\"\",\"marker\":{\"color\":\"Red\",\"symbol\":\"circle\",\"line\":{\"width\":2},\"size\":16},\"mode\":\"markers\",\"name\":\"\",\"showlegend\":false,\"x\":[52,53,70,61,62,58,58,55,46,54,71,43,34,51,52,34,51,54,50,58,60,67,45,63,42,61,44,58,56,55,44,50,57,70,50,46,51,59,64,57,65,54,61,46,55,42,41,66,66,60,58,57,38,49,55,55,56,48,67,57,29,66,67,59,29,59,53,42,37,62,59,61,56,59,48,47,48,63,52,52,50,49,46,38,37,44,58,59,62,68,54,62,63,44,62,45,57,53,65,76,43,57,54,47,52,47,51,62,40,54,44,53,48,57,59,61,63,43,29,42,54,44,60,65,61,60,66,53,52,57,60,51,41,50,54,58,55,64,47,41,57,63,61,34,47,40,51,41,52,39,58,54,58,54,63,54,40,54,67,41,77,51,77,48,56,59,56,57,43,45,43,56,56,39,54,56,56,64,44,56,63,64,60,42,45,57,40,56,63,64,41,56,67,69,67,59,58,45,60,50,62,34,52,64,66,42,59,41,38,62,42,67,50,43,45,49,65,41,46,54,57,63,64,39,51,54,49,44,52,66,58,56,60,41,49,64,49,57,60,62,54,67,38,60,51,44,54,46,39,42,47,45,55,57,35,62,35,64,38,66,44,54,48,55,58,45,53,67,58,71,43,44,39,54,66,56,57,44,55,41,45,35,41,64,58,71,64,71,58,40,52,58,61,59,56,67,67,58,35,52,46,51,55,60,52,62,44,44,59,56,61,48,70,74,40,42,64,63,59,53,53,48,45,66,48,56,54,57,70,53,37,63,37,54,60,58,57,54,56,60,38,44,65,52,41,66,50,54,43,62,66,50,57,57,57,46,59,67,59,53,48,62,43,53,57,53,58,48,58,51,43,55,54,58,46,66,59,64,67,52,58,58,59,58,35,51,42,77,64,63,58,45,51,62,63,66,68,40,66,63,49,71,70,46,61,56,58,58,46,46,41,56,57,70,59,41,54,52,62,65,57,42,57,58,45,51,54,57,43,47,67,65,60,37,41,57,59,67,47,58,62,60,57,57,47,52,53,55,51,52,63,49,66,49,65,69,47,39,43,51,69,48,52,43,67,38,44,47,61,67,60,64,58,41,48,57,57,57,39,58,51,63,51,35,65,62,41,65,54,61,57,57,64,55,51,59,68,57,54,46,71,35,46,45,47,44,61,41,56,55,54,43,44,54,44,49,60,41,49,61,59,58,67,61,58,51,62,62,59,69,60,65,63,53,54,76,50,52,46,64,58,44,62,59,54,48,70,67,51,68,69,54,43,53,58,67,59,48,39,67,58,65,42,44,56,53,50,41,54,42,54,60,34,44,60,43,52,70,62,58,46,44,55,43,55,40,64,59,61,54,74,63,70,63,64,61,59,38,58,63,62,46,58,63,47,71,66,42,64,55,43,55,58,55,51,50,43,41,49,65,57,48,62,61,59,69,58,38,69,65,45,49,45,61,52,53,59,58,65,58,46,56,64,65,44,50,47,64,71,45,62,41,66,56,41,41,57,39,64,59,61,58,47,58,66,65,35,57,29,66,61,52,68,54,63,58,60,63,41,68,42,59,59,43,60,63,52,58,56,54,58,55,53,63,39,35,50,67,66,35,41,35,71,57,51,58,57,56,60,45,56,35,45,66,51,70,55,56,55,52,64,45,67,68,74,60,48,56,46,55,44,52,51,44,52,50,59,67,58,52,44,41,63,58,60,51,64,60,44,58,55,65,48,65,51,48,64,66,46,61,57,49,56,58,63,57,57,68,46,71,41,45,62,65,48,51,61,53,59,34,44,58,64,56,54,55,67,51,62,62,54,54,68,60,61,62,41,65,59,43,67,63,63,52,58,53,57,44,51,54,40,57,62,53,62,58,70,45,42,58,61,62,60,54,61,63,42,57,44,54,51,58,68,55,42,49,53,52,51,51,70,35,58,59,60,56,35,61,58,52,58,37,52,67,65,46,68,43,68,51,52,64,59,52,59,60,41,41,56,56,48,39,64,57,59,60,61,43,54,59,57,57,57,48,70,57,61,57,60,63,55,64,54,52,51,62,59,52,42,59,61,42,62,59,55,64,42,50,62,50,50,58,35,45,66,46,65,47,59,38,39,58,44,54,61,57,54,42,54,60,65,40,51,38,42,56,43,64,53,49,57,52,69,65,66,56,67,54,70,57,67,62,54,45,53,62,49,50,65,69,52,58,52,57,44,76,58,60,53,52,38,52,52,51,43,39,63,52,44,45,57,39,67,64,59,62,55,57,60,71,56,60,50,43,59,44,56,54,42,67,64,42,66,52,51,55,58,56,42,40,51,45,48,58,44,58,65,53,41,47,59,60,47,50,54],\"xaxis\":\"x\",\"y\":[125,140,145,148,138,100,114,160,120,122,112,132,118,140,128,118,140,124,120,140,140,106,104,135,120,145,130,136,130,180,120,120,130,160,129,150,125,138,128,128,160,120,130,120,132,140,135,178,146,117,150,140,138,120,140,140,120,130,152,154,130,146,100,150,130,170,130,136,120,160,170,140,125,140,130,138,124,140,134,134,140,118,150,138,120,120,140,174,140,144,108,124,140,120,128,138,128,123,110,140,122,150,108,138,118,110,140,120,152,110,110,142,130,110,126,145,130,120,130,120,108,120,145,140,120,150,120,130,138,140,150,130,135,129,108,170,132,180,138,110,152,124,134,118,112,110,120,110,152,140,114,192,125,120,130,108,140,120,115,120,125,100,125,124,125,170,132,120,130,112,150,130,120,94,110,200,130,120,110,134,140,110,140,130,128,165,110,125,130,125,112,130,115,160,160,150,100,115,102,144,124,118,152,170,146,148,126,112,138,120,120,100,150,130,128,130,135,120,140,122,130,130,110,94,140,150,118,118,128,178,125,120,125,126,130,170,118,124,117,150,132,152,138,140,125,130,192,140,138,130,110,112,132,165,120,140,138,180,120,120,120,150,122,132,170,104,123,120,132,110,110,120,138,110,160,130,132,130,160,105,130,122,130,110,132,110,140,160,120,152,138,128,150,150,200,100,120,150,122,120,105,94,132,145,136,120,118,120,126,140,120,130,160,120,140,148,140,135,140,128,130,130,142,160,130,140,192,150,130,128,120,108,130,110,130,150,150,125,130,130,138,120,155,172,120,160,150,108,132,130,120,144,110,110,124,138,164,160,134,128,122,130,122,130,130,130,112,110,105,110,132,132,110,120,142,160,140,130,120,118,146,132,110,150,126,110,120,125,120,145,136,110,110,160,130,146,180,110,160,145,120,112,156,105,140,130,140,100,138,150,105,125,150,130,170,130,125,138,124,160,128,102,120,136,142,130,160,150,132,108,152,150,102,130,112,120,174,120,130,120,150,140,152,150,130,128,130,160,120,112,150,134,178,134,150,160,108,138,150,140,140,124,118,110,115,138,130,110,150,160,150,140,130,130,110,150,165,128,140,128,130,150,140,122,110,120,110,135,132,150,128,150,125,132,125,135,180,154,140,142,112,138,142,130,108,118,120,130,200,180,132,120,112,110,120,120,130,105,120,148,140,125,152,148,112,130,160,124,178,160,150,155,124,138,108,140,120,120,120,170,128,140,140,134,125,110,130,106,120,118,140,122,132,130,100,125,140,122,94,120,130,155,120,112,132,138,110,130,160,120,135,145,118,112,125,150,152,130,140,146,101,140,130,120,132,140,125,164,145,122,120,108,160,108,145,148,140,138,120,140,130,140,120,140,130,110,112,136,145,180,132,128,170,140,130,120,115,126,130,110,152,130,138,134,178,140,132,120,140,138,110,130,130,138,125,130,174,120,138,130,138,134,128,120,120,150,108,130,112,130,120,120,150,130,126,110,130,138,125,138,138,114,112,100,150,140,122,124,130,160,130,125,118,120,130,100,130,130,112,180,120,170,164,120,140,150,128,125,200,135,105,135,140,140,118,126,120,152,112,126,130,120,160,110,94,128,128,140,120,110,130,120,112,150,125,156,128,130,135,108,140,115,152,120,120,150,124,130,140,135,120,112,94,108,128,129,110,120,125,128,140,112,130,125,102,100,140,117,120,125,130,160,130,120,130,124,120,160,105,130,150,130,130,150,140,110,110,144,101,110,135,138,150,150,130,100,145,123,134,118,120,146,130,120,150,160,125,140,138,120,110,110,144,120,134,128,135,150,170,115,120,145,124,112,130,142,150,130,94,110,110,124,140,140,128,105,156,115,148,170,140,140,130,140,138,135,130,128,130,124,100,125,118,140,136,118,138,172,125,140,145,138,112,160,140,132,138,138,150,128,120,130,128,120,138,101,120,115,120,140,112,140,170,125,160,150,112,110,120,120,130,140,170,140,160,130,140,122,120,138,132,154,130,124,145,165,120,110,150,150,128,180,110,128,140,130,178,134,102,135,134,102,140,126,130,120,140,120,120,144,140,136,120,104,112,120,135,130,134,120,118,146,120,140,130,130,110,120,124,130,135,152,140,120,130,120,130,140,142,134,140,136,140,120,178,120,152,160,145,132,160,130,135,138,130,130,130,140,140,140,136,100,108,140,108,140,128,120,140,120,138,172,118,125,110,118,108,128,110,142,140,118,106,128,135,130,180,154,140,160,120,117,110,132,110,120,134,120,136,125,145,140,112,108,140,128,140,120,120,152,140,128,110,114,108,128,138,123,110,112,140,125,110,110,120],\"yaxis\":\"y\",\"type\":\"scattergl\"}],                        {\"template\":{\"data\":{\"histogram2dcontour\":[{\"type\":\"histogram2dcontour\",\"colorbar\":{\"outlinewidth\":0,\"ticks\":\"\"},\"colorscale\":[[0.0,\"#0d0887\"],[0.1111111111111111,\"#46039f\"],[0.2222222222222222,\"#7201a8\"],[0.3333333333333333,\"#9c179e\"],[0.4444444444444444,\"#bd3786\"],[0.5555555555555556,\"#d8576b\"],[0.6666666666666666,\"#ed7953\"],[0.7777777777777778,\"#fb9f3a\"],[0.8888888888888888,\"#fdca26\"],[1.0,\"#f0f921\"]]}],\"choropleth\":[{\"type\":\"choropleth\",\"colorbar\":{\"outlinewidth\":0,\"ticks\":\"\"}}],\"histogram2d\":[{\"type\":\"histogram2d\",\"colorbar\":{\"outlinewidth\":0,\"ticks\":\"\"},\"colorscale\":[[0.0,\"#0d0887\"],[0.1111111111111111,\"#46039f\"],[0.2222222222222222,\"#7201a8\"],[0.3333333333333333,\"#9c179e\"],[0.4444444444444444,\"#bd3786\"],[0.5555555555555556,\"#d8576b\"],[0.6666666666666666,\"#ed7953\"],[0.7777777777777778,\"#fb9f3a\"],[0.8888888888888888,\"#fdca26\"],[1.0,\"#f0f921\"]]}],\"heatmap\":[{\"type\":\"heatmap\",\"colorbar\":{\"outlinewidth\":0,\"ticks\":\"\"},\"colorscale\":[[0.0,\"#0d0887\"],[0.1111111111111111,\"#46039f\"],[0.2222222222222222,\"#7201a8\"],[0.3333333333333333,\"#9c179e\"],[0.4444444444444444,\"#bd3786\"],[0.5555555555555556,\"#d8576b\"],[0.6666666666666666,\"#ed7953\"],[0.7777777777777778,\"#fb9f3a\"],[0.8888888888888888,\"#fdca26\"],[1.0,\"#f0f921\"]]}],\"heatmapgl\":[{\"type\":\"heatmapgl\",\"colorbar\":{\"outlinewidth\":0,\"ticks\":\"\"},\"colorscale\":[[0.0,\"#0d0887\"],[0.1111111111111111,\"#46039f\"],[0.2222222222222222,\"#7201a8\"],[0.3333333333333333,\"#9c179e\"],[0.4444444444444444,\"#bd3786\"],[0.5555555555555556,\"#d8576b\"],[0.6666666666666666,\"#ed7953\"],[0.7777777777777778,\"#fb9f3a\"],[0.8888888888888888,\"#fdca26\"],[1.0,\"#f0f921\"]]}],\"contourcarpet\":[{\"type\":\"contourcarpet\",\"colorbar\":{\"outlinewidth\":0,\"ticks\":\"\"}}],\"contour\":[{\"type\":\"contour\",\"colorbar\":{\"outlinewidth\":0,\"ticks\":\"\"},\"colorscale\":[[0.0,\"#0d0887\"],[0.1111111111111111,\"#46039f\"],[0.2222222222222222,\"#7201a8\"],[0.3333333333333333,\"#9c179e\"],[0.4444444444444444,\"#bd3786\"],[0.5555555555555556,\"#d8576b\"],[0.6666666666666666,\"#ed7953\"],[0.7777777777777778,\"#fb9f3a\"],[0.8888888888888888,\"#fdca26\"],[1.0,\"#f0f921\"]]}],\"surface\":[{\"type\":\"surface\",\"colorbar\":{\"outlinewidth\":0,\"ticks\":\"\"},\"colorscale\":[[0.0,\"#0d0887\"],[0.1111111111111111,\"#46039f\"],[0.2222222222222222,\"#7201a8\"],[0.3333333333333333,\"#9c179e\"],[0.4444444444444444,\"#bd3786\"],[0.5555555555555556,\"#d8576b\"],[0.6666666666666666,\"#ed7953\"],[0.7777777777777778,\"#fb9f3a\"],[0.8888888888888888,\"#fdca26\"],[1.0,\"#f0f921\"]]}],\"mesh3d\":[{\"type\":\"mesh3d\",\"colorbar\":{\"outlinewidth\":0,\"ticks\":\"\"}}],\"scatter\":[{\"fillpattern\":{\"fillmode\":\"overlay\",\"size\":10,\"solidity\":0.2},\"type\":\"scatter\"}],\"parcoords\":[{\"type\":\"parcoords\",\"line\":{\"colorbar\":{\"outlinewidth\":0,\"ticks\":\"\"}}}],\"scatterpolargl\":[{\"type\":\"scatterpolargl\",\"marker\":{\"colorbar\":{\"outlinewidth\":0,\"ticks\":\"\"}}}],\"bar\":[{\"error_x\":{\"color\":\"#2a3f5f\"},\"error_y\":{\"color\":\"#2a3f5f\"},\"marker\":{\"line\":{\"color\":\"#E5ECF6\",\"width\":0.5},\"pattern\":{\"fillmode\":\"overlay\",\"size\":10,\"solidity\":0.2}},\"type\":\"bar\"}],\"scattergeo\":[{\"type\":\"scattergeo\",\"marker\":{\"colorbar\":{\"outlinewidth\":0,\"ticks\":\"\"}}}],\"scatterpolar\":[{\"type\":\"scatterpolar\",\"marker\":{\"colorbar\":{\"outlinewidth\":0,\"ticks\":\"\"}}}],\"histogram\":[{\"marker\":{\"pattern\":{\"fillmode\":\"overlay\",\"size\":10,\"solidity\":0.2}},\"type\":\"histogram\"}],\"scattergl\":[{\"type\":\"scattergl\",\"marker\":{\"colorbar\":{\"outlinewidth\":0,\"ticks\":\"\"}}}],\"scatter3d\":[{\"type\":\"scatter3d\",\"line\":{\"colorbar\":{\"outlinewidth\":0,\"ticks\":\"\"}},\"marker\":{\"colorbar\":{\"outlinewidth\":0,\"ticks\":\"\"}}}],\"scattermapbox\":[{\"type\":\"scattermapbox\",\"marker\":{\"colorbar\":{\"outlinewidth\":0,\"ticks\":\"\"}}}],\"scatterternary\":[{\"type\":\"scatterternary\",\"marker\":{\"colorbar\":{\"outlinewidth\":0,\"ticks\":\"\"}}}],\"scattercarpet\":[{\"type\":\"scattercarpet\",\"marker\":{\"colorbar\":{\"outlinewidth\":0,\"ticks\":\"\"}}}],\"carpet\":[{\"aaxis\":{\"endlinecolor\":\"#2a3f5f\",\"gridcolor\":\"white\",\"linecolor\":\"white\",\"minorgridcolor\":\"white\",\"startlinecolor\":\"#2a3f5f\"},\"baxis\":{\"endlinecolor\":\"#2a3f5f\",\"gridcolor\":\"white\",\"linecolor\":\"white\",\"minorgridcolor\":\"white\",\"startlinecolor\":\"#2a3f5f\"},\"type\":\"carpet\"}],\"table\":[{\"cells\":{\"fill\":{\"color\":\"#EBF0F8\"},\"line\":{\"color\":\"white\"}},\"header\":{\"fill\":{\"color\":\"#C8D4E3\"},\"line\":{\"color\":\"white\"}},\"type\":\"table\"}],\"barpolar\":[{\"marker\":{\"line\":{\"color\":\"#E5ECF6\",\"width\":0.5},\"pattern\":{\"fillmode\":\"overlay\",\"size\":10,\"solidity\":0.2}},\"type\":\"barpolar\"}],\"pie\":[{\"automargin\":true,\"type\":\"pie\"}]},\"layout\":{\"autotypenumbers\":\"strict\",\"colorway\":[\"#636efa\",\"#EF553B\",\"#00cc96\",\"#ab63fa\",\"#FFA15A\",\"#19d3f3\",\"#FF6692\",\"#B6E880\",\"#FF97FF\",\"#FECB52\"],\"font\":{\"color\":\"#2a3f5f\"},\"hovermode\":\"closest\",\"hoverlabel\":{\"align\":\"left\"},\"paper_bgcolor\":\"white\",\"plot_bgcolor\":\"#E5ECF6\",\"polar\":{\"bgcolor\":\"#E5ECF6\",\"angularaxis\":{\"gridcolor\":\"white\",\"linecolor\":\"white\",\"ticks\":\"\"},\"radialaxis\":{\"gridcolor\":\"white\",\"linecolor\":\"white\",\"ticks\":\"\"}},\"ternary\":{\"bgcolor\":\"#E5ECF6\",\"aaxis\":{\"gridcolor\":\"white\",\"linecolor\":\"white\",\"ticks\":\"\"},\"baxis\":{\"gridcolor\":\"white\",\"linecolor\":\"white\",\"ticks\":\"\"},\"caxis\":{\"gridcolor\":\"white\",\"linecolor\":\"white\",\"ticks\":\"\"}},\"coloraxis\":{\"colorbar\":{\"outlinewidth\":0,\"ticks\":\"\"}},\"colorscale\":{\"sequential\":[[0.0,\"#0d0887\"],[0.1111111111111111,\"#46039f\"],[0.2222222222222222,\"#7201a8\"],[0.3333333333333333,\"#9c179e\"],[0.4444444444444444,\"#bd3786\"],[0.5555555555555556,\"#d8576b\"],[0.6666666666666666,\"#ed7953\"],[0.7777777777777778,\"#fb9f3a\"],[0.8888888888888888,\"#fdca26\"],[1.0,\"#f0f921\"]],\"sequentialminus\":[[0.0,\"#0d0887\"],[0.1111111111111111,\"#46039f\"],[0.2222222222222222,\"#7201a8\"],[0.3333333333333333,\"#9c179e\"],[0.4444444444444444,\"#bd3786\"],[0.5555555555555556,\"#d8576b\"],[0.6666666666666666,\"#ed7953\"],[0.7777777777777778,\"#fb9f3a\"],[0.8888888888888888,\"#fdca26\"],[1.0,\"#f0f921\"]],\"diverging\":[[0,\"#8e0152\"],[0.1,\"#c51b7d\"],[0.2,\"#de77ae\"],[0.3,\"#f1b6da\"],[0.4,\"#fde0ef\"],[0.5,\"#f7f7f7\"],[0.6,\"#e6f5d0\"],[0.7,\"#b8e186\"],[0.8,\"#7fbc41\"],[0.9,\"#4d9221\"],[1,\"#276419\"]]},\"xaxis\":{\"gridcolor\":\"white\",\"linecolor\":\"white\",\"ticks\":\"\",\"title\":{\"standoff\":15},\"zerolinecolor\":\"white\",\"automargin\":true,\"zerolinewidth\":2},\"yaxis\":{\"gridcolor\":\"white\",\"linecolor\":\"white\",\"ticks\":\"\",\"title\":{\"standoff\":15},\"zerolinecolor\":\"white\",\"automargin\":true,\"zerolinewidth\":2},\"scene\":{\"xaxis\":{\"backgroundcolor\":\"#E5ECF6\",\"gridcolor\":\"white\",\"linecolor\":\"white\",\"showbackground\":true,\"ticks\":\"\",\"zerolinecolor\":\"white\",\"gridwidth\":2},\"yaxis\":{\"backgroundcolor\":\"#E5ECF6\",\"gridcolor\":\"white\",\"linecolor\":\"white\",\"showbackground\":true,\"ticks\":\"\",\"zerolinecolor\":\"white\",\"gridwidth\":2},\"zaxis\":{\"backgroundcolor\":\"#E5ECF6\",\"gridcolor\":\"white\",\"linecolor\":\"white\",\"showbackground\":true,\"ticks\":\"\",\"zerolinecolor\":\"white\",\"gridwidth\":2}},\"shapedefaults\":{\"line\":{\"color\":\"#2a3f5f\"}},\"annotationdefaults\":{\"arrowcolor\":\"#2a3f5f\",\"arrowhead\":0,\"arrowwidth\":1},\"geo\":{\"bgcolor\":\"white\",\"landcolor\":\"#E5ECF6\",\"subunitcolor\":\"white\",\"showland\":true,\"showlakes\":true,\"lakecolor\":\"white\"},\"title\":{\"x\":0.05},\"mapbox\":{\"style\":\"light\"}}},\"xaxis\":{\"anchor\":\"y\",\"domain\":[0.0,1.0],\"title\":{\"text\":\"age\"}},\"yaxis\":{\"anchor\":\"x\",\"domain\":[0.0,1.0],\"title\":{\"text\":\"trestbps\"}},\"legend\":{\"tracegroupgap\":0},\"title\":{\"text\":\"Age vs Blood Pressure\"}},                        {\"responsive\": true}                    ).then(function(){\n",
              "                            \n",
              "var gd = document.getElementById('f86c309e-2785-4b21-a36c-5d2a3a5597fd');\n",
              "var x = new MutationObserver(function (mutations, observer) {{\n",
              "        var display = window.getComputedStyle(gd).display;\n",
              "        if (!display || display === 'none') {{\n",
              "            console.log([gd, 'removed!']);\n",
              "            Plotly.purge(gd);\n",
              "            observer.disconnect();\n",
              "        }}\n",
              "}});\n",
              "\n",
              "// Listen for the removal of the full notebook cells\n",
              "var notebookContainer = gd.closest('#notebook-container');\n",
              "if (notebookContainer) {{\n",
              "    x.observe(notebookContainer, {childList: true});\n",
              "}}\n",
              "\n",
              "// Listen for the clearing of the current output cell\n",
              "var outputEl = gd.closest('.output');\n",
              "if (outputEl) {{\n",
              "    x.observe(outputEl, {childList: true});\n",
              "}}\n",
              "\n",
              "                        })                };                            </script>        </div>\n",
              "</body>\n",
              "</html>"
            ]
          },
          "metadata": {}
        }
      ]
    },
    {
      "cell_type": "code",
      "source": [
        "fig=px.scatter(df,x='age',y='chol',title='Age vs Cholestrol')\n",
        "fig.update_traces(\n",
        "    marker=dict(symbol='circle',size=13,color='lightblue',\n",
        "    line=dict(width=2,color='blue')\n",
        "))\n",
        "fig.show()"
      ],
      "metadata": {
        "colab": {
          "base_uri": "https://localhost:8080/",
          "height": 542
        },
        "id": "oUo30EfJwvD8",
        "outputId": "0e059739-2718-4f9b-e353-c58fc8c2af74"
      },
      "execution_count": 122,
      "outputs": [
        {
          "output_type": "display_data",
          "data": {
            "text/html": [
              "<html>\n",
              "<head><meta charset=\"utf-8\" /></head>\n",
              "<body>\n",
              "    <div>            <script src=\"https://cdnjs.cloudflare.com/ajax/libs/mathjax/2.7.5/MathJax.js?config=TeX-AMS-MML_SVG\"></script><script type=\"text/javascript\">if (window.MathJax && window.MathJax.Hub && window.MathJax.Hub.Config) {window.MathJax.Hub.Config({SVG: {font: \"STIX-Web\"}});}</script>                <script type=\"text/javascript\">window.PlotlyConfig = {MathJaxConfig: 'local'};</script>\n",
              "        <script charset=\"utf-8\" src=\"https://cdn.plot.ly/plotly-2.35.2.min.js\"></script>                <div id=\"17867b31-041b-45dd-8c1b-65d14c966907\" class=\"plotly-graph-div\" style=\"height:525px; width:100%;\"></div>            <script type=\"text/javascript\">                                    window.PLOTLYENV=window.PLOTLYENV || {};                                    if (document.getElementById(\"17867b31-041b-45dd-8c1b-65d14c966907\")) {                    Plotly.newPlot(                        \"17867b31-041b-45dd-8c1b-65d14c966907\",                        [{\"hovertemplate\":\"age=%{x}\\u003cbr\\u003echol=%{y}\\u003cextra\\u003e\\u003c\\u002fextra\\u003e\",\"legendgroup\":\"\",\"marker\":{\"color\":\"lightblue\",\"symbol\":\"circle\",\"line\":{\"color\":\"blue\",\"width\":2},\"size\":13},\"mode\":\"markers\",\"name\":\"\",\"showlegend\":false,\"x\":[52,53,70,61,62,58,58,55,46,54,71,43,34,51,52,34,51,54,50,58,60,67,45,63,42,61,44,58,56,55,44,50,57,70,50,46,51,59,64,57,65,54,61,46,55,42,41,66,66,60,58,57,38,49,55,55,56,48,67,57,29,66,67,59,29,59,53,42,37,62,59,61,56,59,48,47,48,63,52,52,50,49,46,38,37,44,58,59,62,68,54,62,63,44,62,45,57,53,65,76,43,57,54,47,52,47,51,62,40,54,44,53,48,57,59,61,63,43,29,42,54,44,60,65,61,60,66,53,52,57,60,51,41,50,54,58,55,64,47,41,57,63,61,34,47,40,51,41,52,39,58,54,58,54,63,54,40,54,67,41,77,51,77,48,56,59,56,57,43,45,43,56,56,39,54,56,56,64,44,56,63,64,60,42,45,57,40,56,63,64,41,56,67,69,67,59,58,45,60,50,62,34,52,64,66,42,59,41,38,62,42,67,50,43,45,49,65,41,46,54,57,63,64,39,51,54,49,44,52,66,58,56,60,41,49,64,49,57,60,62,54,67,38,60,51,44,54,46,39,42,47,45,55,57,35,62,35,64,38,66,44,54,48,55,58,45,53,67,58,71,43,44,39,54,66,56,57,44,55,41,45,35,41,64,58,71,64,71,58,40,52,58,61,59,56,67,67,58,35,52,46,51,55,60,52,62,44,44,59,56,61,48,70,74,40,42,64,63,59,53,53,48,45,66,48,56,54,57,70,53,37,63,37,54,60,58,57,54,56,60,38,44,65,52,41,66,50,54,43,62,66,50,57,57,57,46,59,67,59,53,48,62,43,53,57,53,58,48,58,51,43,55,54,58,46,66,59,64,67,52,58,58,59,58,35,51,42,77,64,63,58,45,51,62,63,66,68,40,66,63,49,71,70,46,61,56,58,58,46,46,41,56,57,70,59,41,54,52,62,65,57,42,57,58,45,51,54,57,43,47,67,65,60,37,41,57,59,67,47,58,62,60,57,57,47,52,53,55,51,52,63,49,66,49,65,69,47,39,43,51,69,48,52,43,67,38,44,47,61,67,60,64,58,41,48,57,57,57,39,58,51,63,51,35,65,62,41,65,54,61,57,57,64,55,51,59,68,57,54,46,71,35,46,45,47,44,61,41,56,55,54,43,44,54,44,49,60,41,49,61,59,58,67,61,58,51,62,62,59,69,60,65,63,53,54,76,50,52,46,64,58,44,62,59,54,48,70,67,51,68,69,54,43,53,58,67,59,48,39,67,58,65,42,44,56,53,50,41,54,42,54,60,34,44,60,43,52,70,62,58,46,44,55,43,55,40,64,59,61,54,74,63,70,63,64,61,59,38,58,63,62,46,58,63,47,71,66,42,64,55,43,55,58,55,51,50,43,41,49,65,57,48,62,61,59,69,58,38,69,65,45,49,45,61,52,53,59,58,65,58,46,56,64,65,44,50,47,64,71,45,62,41,66,56,41,41,57,39,64,59,61,58,47,58,66,65,35,57,29,66,61,52,68,54,63,58,60,63,41,68,42,59,59,43,60,63,52,58,56,54,58,55,53,63,39,35,50,67,66,35,41,35,71,57,51,58,57,56,60,45,56,35,45,66,51,70,55,56,55,52,64,45,67,68,74,60,48,56,46,55,44,52,51,44,52,50,59,67,58,52,44,41,63,58,60,51,64,60,44,58,55,65,48,65,51,48,64,66,46,61,57,49,56,58,63,57,57,68,46,71,41,45,62,65,48,51,61,53,59,34,44,58,64,56,54,55,67,51,62,62,54,54,68,60,61,62,41,65,59,43,67,63,63,52,58,53,57,44,51,54,40,57,62,53,62,58,70,45,42,58,61,62,60,54,61,63,42,57,44,54,51,58,68,55,42,49,53,52,51,51,70,35,58,59,60,56,35,61,58,52,58,37,52,67,65,46,68,43,68,51,52,64,59,52,59,60,41,41,56,56,48,39,64,57,59,60,61,43,54,59,57,57,57,48,70,57,61,57,60,63,55,64,54,52,51,62,59,52,42,59,61,42,62,59,55,64,42,50,62,50,50,58,35,45,66,46,65,47,59,38,39,58,44,54,61,57,54,42,54,60,65,40,51,38,42,56,43,64,53,49,57,52,69,65,66,56,67,54,70,57,67,62,54,45,53,62,49,50,65,69,52,58,52,57,44,76,58,60,53,52,38,52,52,51,43,39,63,52,44,45,57,39,67,64,59,62,55,57,60,71,56,60,50,43,59,44,56,54,42,67,64,42,66,52,51,55,58,56,42,40,51,45,48,58,44,58,65,53,41,47,59,60,47,50,54],\"xaxis\":\"x\",\"y\":[212,203,174,203,294,248,318,289,249,286,149,341,210,298,204,210,308,266,244,211,185,223,208,252,209,307,233,319,256,327,169,244,131,269,196,231,213,271,263,229,360,258,330,249,342,226,203,228,278,230,283,241,175,188,217,217,193,245,212,232,204,278,299,212,204,288,197,315,215,164,326,207,249,177,256,257,255,187,201,201,233,149,231,175,215,220,211,249,268,193,267,209,187,169,208,236,303,282,248,197,213,126,309,257,186,275,299,281,223,206,197,226,256,335,218,307,254,177,204,295,309,169,282,417,260,240,302,197,223,192,240,256,203,196,309,225,342,325,257,235,274,197,234,182,204,167,295,172,298,321,318,283,300,258,330,309,199,258,564,157,304,222,304,274,249,326,184,354,315,160,247,283,240,199,239,288,283,246,197,409,187,211,293,180,308,289,167,249,254,309,250,221,564,234,286,212,234,260,318,200,209,182,298,227,278,244,218,250,175,281,240,299,243,315,308,266,254,157,311,286,236,254,211,199,261,232,149,242,205,228,300,236,258,306,269,227,149,261,230,244,288,212,175,185,245,219,283,311,220,180,275,160,353,289,198,394,183,325,231,302,226,232,222,342,225,208,282,237,224,265,211,263,220,206,228,283,207,219,289,198,234,192,204,211,224,265,313,302,340,223,223,259,243,212,288,299,237,270,192,325,204,227,342,282,196,267,242,220,218,294,260,256,269,269,199,244,313,252,177,216,264,275,309,246,245,294,283,276,322,216,215,269,250,214,206,270,126,273,256,253,175,226,269,199,157,246,243,267,247,263,302,200,335,201,261,243,176,286,204,216,222,231,213,246,236,246,230,229,240,175,341,353,214,284,177,228,221,303,237,186,218,224,239,270,282,175,209,304,246,233,319,264,175,164,330,278,274,167,228,233,188,149,245,204,207,256,211,234,243,231,198,249,276,322,288,204,273,223,209,360,303,265,354,319,309,305,201,168,247,243,212,225,318,250,268,354,249,229,253,284,244,293,274,168,253,205,246,289,295,230,407,271,228,271,225,234,243,220,247,261,254,255,186,211,564,175,219,275,243,286,240,313,197,214,229,126,289,229,321,216,305,407,298,192,248,281,172,254,288,243,303,168,309,353,245,234,274,232,239,177,149,183,177,234,243,242,260,204,288,327,288,177,290,206,220,188,206,198,188,203,177,220,277,203,230,256,164,209,270,234,258,269,197,234,267,197,219,325,249,227,259,235,394,204,273,229,322,223,295,277,254,286,341,197,234,254,177,222,199,237,197,269,209,290,184,234,254,214,201,240,304,282,182,290,258,247,298,322,394,218,197,235,262,177,353,199,309,176,307,286,269,269,269,269,212,203,221,175,284,195,263,311,340,195,253,265,212,315,212,327,341,205,225,217,305,219,303,306,266,248,274,256,294,234,270,254,224,231,239,282,264,266,234,166,212,264,249,340,282,197,243,409,263,177,226,243,243,303,149,234,267,157,226,283,306,235,236,220,309,271,166,318,204,248,226,417,192,261,204,246,330,212,277,258,330,234,253,254,268,274,295,326,176,177,185,407,204,300,288,304,240,250,203,195,219,282,219,212,212,282,214,198,302,201,227,216,229,294,178,264,221,198,160,226,213,245,205,256,250,233,335,260,277,211,269,258,274,221,311,250,220,230,227,141,204,196,239,229,300,255,235,268,330,220,318,222,335,230,226,220,262,360,245,177,256,255,246,228,204,330,276,269,221,283,187,335,335,193,197,265,203,236,244,225,275,222,307,282,204,210,169,218,303,240,232,289,254,298,294,281,239,239,193,178,234,208,203,225,288,303,229,233,197,230,197,226,276,233,227,214,167,261,268,203,208,240,245,260,244,225,207,268,253,239,166,252,180,229,233,266,222,220,277,217,315,149,234,199,213,261,174,183,230,273,293,184,183,166,283,255,284,250,255,229,282,197,211,303,211,299,230,335,288,212,273,240,250,235,240,236,275,321,227,192,273,206,207,213,188,271,207,232,131,274,174,289,260,201,258,407,205,325,239,204,299,263,270,201,265,234,234,265,268,218,262,246,226,244,267,200,233,319,198,208,212,249,254,253,204,231,219,218,263,239,330,131,206,240,266,206,254,223,308,231,180,240,315,335,226,271,241,196,239,177,228,193,277,201,174,207,286,263,304,236,264,231,269,233,417,239,196,248,233,241,141,197,259,178,203,325,175,199,186,245,211,219,269,205,197,309,192,219,223,263,234,231,327,232,293,302,236,230,254,247,239,263,409,188,315,254,212,226,212,233,308,205,211,193,295,223,299,308,229,318,141,216,282,282,172,204,221,258,275,254,188],\"yaxis\":\"y\",\"type\":\"scattergl\"}],                        {\"template\":{\"data\":{\"histogram2dcontour\":[{\"type\":\"histogram2dcontour\",\"colorbar\":{\"outlinewidth\":0,\"ticks\":\"\"},\"colorscale\":[[0.0,\"#0d0887\"],[0.1111111111111111,\"#46039f\"],[0.2222222222222222,\"#7201a8\"],[0.3333333333333333,\"#9c179e\"],[0.4444444444444444,\"#bd3786\"],[0.5555555555555556,\"#d8576b\"],[0.6666666666666666,\"#ed7953\"],[0.7777777777777778,\"#fb9f3a\"],[0.8888888888888888,\"#fdca26\"],[1.0,\"#f0f921\"]]}],\"choropleth\":[{\"type\":\"choropleth\",\"colorbar\":{\"outlinewidth\":0,\"ticks\":\"\"}}],\"histogram2d\":[{\"type\":\"histogram2d\",\"colorbar\":{\"outlinewidth\":0,\"ticks\":\"\"},\"colorscale\":[[0.0,\"#0d0887\"],[0.1111111111111111,\"#46039f\"],[0.2222222222222222,\"#7201a8\"],[0.3333333333333333,\"#9c179e\"],[0.4444444444444444,\"#bd3786\"],[0.5555555555555556,\"#d8576b\"],[0.6666666666666666,\"#ed7953\"],[0.7777777777777778,\"#fb9f3a\"],[0.8888888888888888,\"#fdca26\"],[1.0,\"#f0f921\"]]}],\"heatmap\":[{\"type\":\"heatmap\",\"colorbar\":{\"outlinewidth\":0,\"ticks\":\"\"},\"colorscale\":[[0.0,\"#0d0887\"],[0.1111111111111111,\"#46039f\"],[0.2222222222222222,\"#7201a8\"],[0.3333333333333333,\"#9c179e\"],[0.4444444444444444,\"#bd3786\"],[0.5555555555555556,\"#d8576b\"],[0.6666666666666666,\"#ed7953\"],[0.7777777777777778,\"#fb9f3a\"],[0.8888888888888888,\"#fdca26\"],[1.0,\"#f0f921\"]]}],\"heatmapgl\":[{\"type\":\"heatmapgl\",\"colorbar\":{\"outlinewidth\":0,\"ticks\":\"\"},\"colorscale\":[[0.0,\"#0d0887\"],[0.1111111111111111,\"#46039f\"],[0.2222222222222222,\"#7201a8\"],[0.3333333333333333,\"#9c179e\"],[0.4444444444444444,\"#bd3786\"],[0.5555555555555556,\"#d8576b\"],[0.6666666666666666,\"#ed7953\"],[0.7777777777777778,\"#fb9f3a\"],[0.8888888888888888,\"#fdca26\"],[1.0,\"#f0f921\"]]}],\"contourcarpet\":[{\"type\":\"contourcarpet\",\"colorbar\":{\"outlinewidth\":0,\"ticks\":\"\"}}],\"contour\":[{\"type\":\"contour\",\"colorbar\":{\"outlinewidth\":0,\"ticks\":\"\"},\"colorscale\":[[0.0,\"#0d0887\"],[0.1111111111111111,\"#46039f\"],[0.2222222222222222,\"#7201a8\"],[0.3333333333333333,\"#9c179e\"],[0.4444444444444444,\"#bd3786\"],[0.5555555555555556,\"#d8576b\"],[0.6666666666666666,\"#ed7953\"],[0.7777777777777778,\"#fb9f3a\"],[0.8888888888888888,\"#fdca26\"],[1.0,\"#f0f921\"]]}],\"surface\":[{\"type\":\"surface\",\"colorbar\":{\"outlinewidth\":0,\"ticks\":\"\"},\"colorscale\":[[0.0,\"#0d0887\"],[0.1111111111111111,\"#46039f\"],[0.2222222222222222,\"#7201a8\"],[0.3333333333333333,\"#9c179e\"],[0.4444444444444444,\"#bd3786\"],[0.5555555555555556,\"#d8576b\"],[0.6666666666666666,\"#ed7953\"],[0.7777777777777778,\"#fb9f3a\"],[0.8888888888888888,\"#fdca26\"],[1.0,\"#f0f921\"]]}],\"mesh3d\":[{\"type\":\"mesh3d\",\"colorbar\":{\"outlinewidth\":0,\"ticks\":\"\"}}],\"scatter\":[{\"fillpattern\":{\"fillmode\":\"overlay\",\"size\":10,\"solidity\":0.2},\"type\":\"scatter\"}],\"parcoords\":[{\"type\":\"parcoords\",\"line\":{\"colorbar\":{\"outlinewidth\":0,\"ticks\":\"\"}}}],\"scatterpolargl\":[{\"type\":\"scatterpolargl\",\"marker\":{\"colorbar\":{\"outlinewidth\":0,\"ticks\":\"\"}}}],\"bar\":[{\"error_x\":{\"color\":\"#2a3f5f\"},\"error_y\":{\"color\":\"#2a3f5f\"},\"marker\":{\"line\":{\"color\":\"#E5ECF6\",\"width\":0.5},\"pattern\":{\"fillmode\":\"overlay\",\"size\":10,\"solidity\":0.2}},\"type\":\"bar\"}],\"scattergeo\":[{\"type\":\"scattergeo\",\"marker\":{\"colorbar\":{\"outlinewidth\":0,\"ticks\":\"\"}}}],\"scatterpolar\":[{\"type\":\"scatterpolar\",\"marker\":{\"colorbar\":{\"outlinewidth\":0,\"ticks\":\"\"}}}],\"histogram\":[{\"marker\":{\"pattern\":{\"fillmode\":\"overlay\",\"size\":10,\"solidity\":0.2}},\"type\":\"histogram\"}],\"scattergl\":[{\"type\":\"scattergl\",\"marker\":{\"colorbar\":{\"outlinewidth\":0,\"ticks\":\"\"}}}],\"scatter3d\":[{\"type\":\"scatter3d\",\"line\":{\"colorbar\":{\"outlinewidth\":0,\"ticks\":\"\"}},\"marker\":{\"colorbar\":{\"outlinewidth\":0,\"ticks\":\"\"}}}],\"scattermapbox\":[{\"type\":\"scattermapbox\",\"marker\":{\"colorbar\":{\"outlinewidth\":0,\"ticks\":\"\"}}}],\"scatterternary\":[{\"type\":\"scatterternary\",\"marker\":{\"colorbar\":{\"outlinewidth\":0,\"ticks\":\"\"}}}],\"scattercarpet\":[{\"type\":\"scattercarpet\",\"marker\":{\"colorbar\":{\"outlinewidth\":0,\"ticks\":\"\"}}}],\"carpet\":[{\"aaxis\":{\"endlinecolor\":\"#2a3f5f\",\"gridcolor\":\"white\",\"linecolor\":\"white\",\"minorgridcolor\":\"white\",\"startlinecolor\":\"#2a3f5f\"},\"baxis\":{\"endlinecolor\":\"#2a3f5f\",\"gridcolor\":\"white\",\"linecolor\":\"white\",\"minorgridcolor\":\"white\",\"startlinecolor\":\"#2a3f5f\"},\"type\":\"carpet\"}],\"table\":[{\"cells\":{\"fill\":{\"color\":\"#EBF0F8\"},\"line\":{\"color\":\"white\"}},\"header\":{\"fill\":{\"color\":\"#C8D4E3\"},\"line\":{\"color\":\"white\"}},\"type\":\"table\"}],\"barpolar\":[{\"marker\":{\"line\":{\"color\":\"#E5ECF6\",\"width\":0.5},\"pattern\":{\"fillmode\":\"overlay\",\"size\":10,\"solidity\":0.2}},\"type\":\"barpolar\"}],\"pie\":[{\"automargin\":true,\"type\":\"pie\"}]},\"layout\":{\"autotypenumbers\":\"strict\",\"colorway\":[\"#636efa\",\"#EF553B\",\"#00cc96\",\"#ab63fa\",\"#FFA15A\",\"#19d3f3\",\"#FF6692\",\"#B6E880\",\"#FF97FF\",\"#FECB52\"],\"font\":{\"color\":\"#2a3f5f\"},\"hovermode\":\"closest\",\"hoverlabel\":{\"align\":\"left\"},\"paper_bgcolor\":\"white\",\"plot_bgcolor\":\"#E5ECF6\",\"polar\":{\"bgcolor\":\"#E5ECF6\",\"angularaxis\":{\"gridcolor\":\"white\",\"linecolor\":\"white\",\"ticks\":\"\"},\"radialaxis\":{\"gridcolor\":\"white\",\"linecolor\":\"white\",\"ticks\":\"\"}},\"ternary\":{\"bgcolor\":\"#E5ECF6\",\"aaxis\":{\"gridcolor\":\"white\",\"linecolor\":\"white\",\"ticks\":\"\"},\"baxis\":{\"gridcolor\":\"white\",\"linecolor\":\"white\",\"ticks\":\"\"},\"caxis\":{\"gridcolor\":\"white\",\"linecolor\":\"white\",\"ticks\":\"\"}},\"coloraxis\":{\"colorbar\":{\"outlinewidth\":0,\"ticks\":\"\"}},\"colorscale\":{\"sequential\":[[0.0,\"#0d0887\"],[0.1111111111111111,\"#46039f\"],[0.2222222222222222,\"#7201a8\"],[0.3333333333333333,\"#9c179e\"],[0.4444444444444444,\"#bd3786\"],[0.5555555555555556,\"#d8576b\"],[0.6666666666666666,\"#ed7953\"],[0.7777777777777778,\"#fb9f3a\"],[0.8888888888888888,\"#fdca26\"],[1.0,\"#f0f921\"]],\"sequentialminus\":[[0.0,\"#0d0887\"],[0.1111111111111111,\"#46039f\"],[0.2222222222222222,\"#7201a8\"],[0.3333333333333333,\"#9c179e\"],[0.4444444444444444,\"#bd3786\"],[0.5555555555555556,\"#d8576b\"],[0.6666666666666666,\"#ed7953\"],[0.7777777777777778,\"#fb9f3a\"],[0.8888888888888888,\"#fdca26\"],[1.0,\"#f0f921\"]],\"diverging\":[[0,\"#8e0152\"],[0.1,\"#c51b7d\"],[0.2,\"#de77ae\"],[0.3,\"#f1b6da\"],[0.4,\"#fde0ef\"],[0.5,\"#f7f7f7\"],[0.6,\"#e6f5d0\"],[0.7,\"#b8e186\"],[0.8,\"#7fbc41\"],[0.9,\"#4d9221\"],[1,\"#276419\"]]},\"xaxis\":{\"gridcolor\":\"white\",\"linecolor\":\"white\",\"ticks\":\"\",\"title\":{\"standoff\":15},\"zerolinecolor\":\"white\",\"automargin\":true,\"zerolinewidth\":2},\"yaxis\":{\"gridcolor\":\"white\",\"linecolor\":\"white\",\"ticks\":\"\",\"title\":{\"standoff\":15},\"zerolinecolor\":\"white\",\"automargin\":true,\"zerolinewidth\":2},\"scene\":{\"xaxis\":{\"backgroundcolor\":\"#E5ECF6\",\"gridcolor\":\"white\",\"linecolor\":\"white\",\"showbackground\":true,\"ticks\":\"\",\"zerolinecolor\":\"white\",\"gridwidth\":2},\"yaxis\":{\"backgroundcolor\":\"#E5ECF6\",\"gridcolor\":\"white\",\"linecolor\":\"white\",\"showbackground\":true,\"ticks\":\"\",\"zerolinecolor\":\"white\",\"gridwidth\":2},\"zaxis\":{\"backgroundcolor\":\"#E5ECF6\",\"gridcolor\":\"white\",\"linecolor\":\"white\",\"showbackground\":true,\"ticks\":\"\",\"zerolinecolor\":\"white\",\"gridwidth\":2}},\"shapedefaults\":{\"line\":{\"color\":\"#2a3f5f\"}},\"annotationdefaults\":{\"arrowcolor\":\"#2a3f5f\",\"arrowhead\":0,\"arrowwidth\":1},\"geo\":{\"bgcolor\":\"white\",\"landcolor\":\"#E5ECF6\",\"subunitcolor\":\"white\",\"showland\":true,\"showlakes\":true,\"lakecolor\":\"white\"},\"title\":{\"x\":0.05},\"mapbox\":{\"style\":\"light\"}}},\"xaxis\":{\"anchor\":\"y\",\"domain\":[0.0,1.0],\"title\":{\"text\":\"age\"}},\"yaxis\":{\"anchor\":\"x\",\"domain\":[0.0,1.0],\"title\":{\"text\":\"chol\"}},\"legend\":{\"tracegroupgap\":0},\"title\":{\"text\":\"Age vs Cholestrol\"}},                        {\"responsive\": true}                    ).then(function(){\n",
              "                            \n",
              "var gd = document.getElementById('17867b31-041b-45dd-8c1b-65d14c966907');\n",
              "var x = new MutationObserver(function (mutations, observer) {{\n",
              "        var display = window.getComputedStyle(gd).display;\n",
              "        if (!display || display === 'none') {{\n",
              "            console.log([gd, 'removed!']);\n",
              "            Plotly.purge(gd);\n",
              "            observer.disconnect();\n",
              "        }}\n",
              "}});\n",
              "\n",
              "// Listen for the removal of the full notebook cells\n",
              "var notebookContainer = gd.closest('#notebook-container');\n",
              "if (notebookContainer) {{\n",
              "    x.observe(notebookContainer, {childList: true});\n",
              "}}\n",
              "\n",
              "// Listen for the clearing of the current output cell\n",
              "var outputEl = gd.closest('.output');\n",
              "if (outputEl) {{\n",
              "    x.observe(outputEl, {childList: true});\n",
              "}}\n",
              "\n",
              "                        })                };                            </script>        </div>\n",
              "</body>\n",
              "</html>"
            ]
          },
          "metadata": {}
        }
      ]
    },
    {
      "cell_type": "code",
      "source": [
        "fig=px.scatter_3d(df,x='age',y='chol',z='trestbps',color='fbs',color_discrete_map={0:'red',1:'green'},\n",
        "                  title=\"3D scatter plot : Age vs Cholestrol vs Blood Pressure\",\n",
        "                  labels={'age':'Age','chol':'Cholestrol','trestbps':'Blood Pressure'},\n",
        "                  hover_data=['sex'])\n",
        "fig.show()"
      ],
      "metadata": {
        "colab": {
          "base_uri": "https://localhost:8080/",
          "height": 542
        },
        "id": "WMUKPA466YMR",
        "outputId": "7c9063c1-6351-4525-b55e-4c0d9442b463"
      },
      "execution_count": 123,
      "outputs": [
        {
          "output_type": "display_data",
          "data": {
            "text/html": [
              "<html>\n",
              "<head><meta charset=\"utf-8\" /></head>\n",
              "<body>\n",
              "    <div>            <script src=\"https://cdnjs.cloudflare.com/ajax/libs/mathjax/2.7.5/MathJax.js?config=TeX-AMS-MML_SVG\"></script><script type=\"text/javascript\">if (window.MathJax && window.MathJax.Hub && window.MathJax.Hub.Config) {window.MathJax.Hub.Config({SVG: {font: \"STIX-Web\"}});}</script>                <script type=\"text/javascript\">window.PlotlyConfig = {MathJaxConfig: 'local'};</script>\n",
              "        <script charset=\"utf-8\" src=\"https://cdn.plot.ly/plotly-2.35.2.min.js\"></script>                <div id=\"ac843299-d700-4be2-9c36-b0a64f588001\" class=\"plotly-graph-div\" style=\"height:525px; width:100%;\"></div>            <script type=\"text/javascript\">                                    window.PLOTLYENV=window.PLOTLYENV || {};                                    if (document.getElementById(\"ac843299-d700-4be2-9c36-b0a64f588001\")) {                    Plotly.newPlot(                        \"ac843299-d700-4be2-9c36-b0a64f588001\",                        [{\"customdata\":[[1],[1],[1],[1],[0],[0],[1],[1],[1],[1],[0],[0],[0],[1],[1],[0],[0],[1],[0],[1],[1],[0],[1],[0],[0],[0],[1],[0],[1],[0],[1],[0],[1],[1],[1],[1],[1],[1],[1],[1],[0],[1],[0],[1],[0],[1],[1],[0],[0],[1],[0],[0],[1],[1],[1],[1],[1],[1],[1],[1],[1],[0],[1],[1],[1],[1],[1],[1],[0],[0],[1],[1],[1],[1],[1],[1],[1],[1],[1],[1],[1],[1],[1],[1],[0],[1],[1],[0],[0],[1],[0],[0],[1],[1],[1],[0],[0],[1],[1],[0],[0],[1],[1],[1],[1],[1],[1],[1],[1],[1],[1],[1],[1],[1],[1],[0],[1],[1],[1],[1],[1],[1],[1],[0],[1],[0],[1],[1],[1],[1],[0],[0],[1],[1],[1],[0],[0],[0],[1],[1],[1],[0],[1],[1],[1],[1],[0],[1],[1],[1],[1],[1],[1],[1],[1],[1],[1],[1],[0],[1],[1],[1],[1],[1],[1],[1],[1],[0],[1],[0],[1],[1],[1],[0],[1],[0],[1],[1],[1],[0],[1],[1],[1],[1],[1],[1],[1],[1],[1],[1],[1],[1],[0],[1],[1],[1],[1],[1],[0],[1],[0],[1],[1],[1],[0],[1],[1],[1],[1],[1],[1],[1],[1],[1],[1],[1],[1],[1],[1],[1],[0],[1],[1],[0],[1],[1],[1],[0],[1],[0],[1],[1],[1],[0],[0],[1],[1],[1],[1],[0],[0],[1],[1],[1],[1],[1],[1],[1],[0],[1],[1],[0],[1],[1],[1],[0],[0],[0],[1],[1],[1],[1],[1],[0],[0],[1],[1],[1],[1],[0],[1],[1],[0],[1],[1],[1],[1],[1],[1],[0],[0],[1],[0],[1],[1],[0],[0],[0],[0],[1],[1],[1],[1],[1],[0],[1],[1],[1],[1],[1],[0],[1],[0],[1],[0],[1],[0],[1],[1],[0],[1],[1],[1],[0],[1],[1],[0],[0],[1],[0],[0],[0],[1],[1],[1],[0],[1],[1],[1],[0],[0],[0],[1],[0],[1],[1],[1],[1],[1],[1],[1],[1],[0],[1],[1],[1],[1],[0],[1],[0],[1],[1],[1],[1],[1],[0],[1],[1],[1],[0],[1],[1],[0],[1],[0],[1],[1],[1],[1],[1],[0],[1],[0],[1],[0],[1],[1],[0],[1],[1],[1],[1],[1],[1],[1],[1],[0],[1],[1],[1],[0],[1],[1],[0],[1],[0],[1],[1],[1],[1],[1],[0],[1],[0],[1],[1],[1],[1],[0],[1],[0],[1],[1],[1],[1],[0],[1],[1],[0],[0],[0],[0],[0],[0],[1],[0],[0],[1],[1],[1],[1],[0],[0],[1],[0],[0],[0],[1],[1],[1],[0],[1],[1],[1],[1],[1],[1],[1],[0],[1],[0],[0],[0],[0],[0],[1],[1],[0],[1],[1],[1],[1],[1],[1],[0],[1],[1],[1],[1],[1],[0],[0],[0],[1],[1],[1],[1],[1],[1],[1],[0],[0],[1],[1],[1],[1],[1],[1],[0],[1],[0],[1],[1],[1],[1],[1],[1],[1],[1],[0],[0],[0],[0],[0],[1],[0],[1],[0],[0],[0],[0],[1],[1],[1],[1],[1],[1],[0],[1],[1],[1],[1],[0],[1],[1],[0],[0],[0],[1],[1],[0],[0],[0],[0],[0],[0],[0],[1],[1],[1],[1],[1],[0],[1],[1],[1],[1],[0],[0],[1],[1],[1],[0],[1],[1],[1],[1],[1],[0],[1],[0],[0],[0],[1],[1],[0],[0],[1],[0],[1],[0],[1],[1],[1],[1],[1],[1],[1],[0],[1],[1],[1],[1],[1],[1],[1],[1],[1],[0],[1],[0],[0],[1],[0],[1],[1],[1],[1],[1],[0],[0],[1],[0],[0],[1],[0],[1],[1],[1],[0],[0],[0],[0],[1],[0],[0],[1],[0],[1],[1],[1],[1],[0],[1],[1],[1],[1],[1],[0],[1],[1],[1],[0],[1],[1],[0],[0],[0],[1],[0],[0],[0],[1],[1],[1],[1],[1],[0],[0],[0],[1],[1],[0],[1],[0],[1],[0],[0],[1],[1],[1],[1],[1],[0],[0],[0],[1],[1],[1],[1],[0],[1],[1],[1],[1],[1],[1],[1],[0],[1],[1],[1],[1],[1],[1],[0],[1],[1],[0],[0],[1],[0],[1],[0],[1],[1],[0],[1],[1],[1],[1],[1],[0],[1],[1],[1],[1],[0],[0],[1],[1],[1],[0],[0],[1],[1],[0],[1],[0],[1],[1],[1],[0],[0],[0],[0],[1],[1],[1],[0],[1],[1],[1],[0],[1],[1],[1],[1],[1],[1],[1],[0],[1],[1],[0],[1],[1],[1],[1],[1],[1],[0],[1],[1],[0],[1],[1],[1],[0],[0],[1],[0],[1],[0],[1],[1],[1],[1],[1],[0],[1],[0],[0],[0],[0],[1],[0],[1],[1],[0],[1],[1],[0],[1],[1],[1],[1],[1],[0],[1],[1],[1],[1],[0],[1],[1],[1],[0],[1],[1],[1],[1],[0],[1],[0],[1],[1],[1],[1],[0],[1],[1],[0],[1],[1],[1],[1],[1],[1],[0],[1],[0],[1],[1],[1],[0],[1],[1],[1],[1],[1],[1],[1],[1],[1],[1],[0],[1],[1],[1],[1],[0],[1],[1],[1],[1],[0],[1],[0],[1],[1],[1],[1],[1],[1],[1],[0],[1],[0],[1],[1],[1],[1],[1],[1],[0],[1],[1],[1],[1],[0],[1],[1],[1],[1],[1],[1],[0],[1],[1],[1],[1],[1],[1],[1],[1],[1],[1],[0],[0],[0],[0],[1],[1],[1],[0],[1],[1],[0],[1],[1],[0],[0],[1],[1],[1],[1],[0],[1],[1],[1],[0],[1],[1],[1],[1],[1],[1],[1],[1],[1],[1],[1],[1],[0],[1],[1],[1],[1],[1],[1],[1],[0],[1],[1],[1],[1],[1],[1],[0],[0],[0],[0],[1],[0],[1],[0],[0],[1],[1],[1],[0],[0],[0],[0],[1],[0],[1],[0],[0],[0],[0],[1],[0],[0],[0],[1],[0],[1],[1],[1],[1],[1],[1],[1],[1],[0],[1],[1],[1],[1],[1],[0],[1],[1],[1],[0],[1],[1],[0],[1],[1],[0],[1],[1],[1],[0],[1],[1],[1],[1],[1],[1],[1],[0],[0],[1],[1],[1],[1],[1],[1],[1],[1],[0],[1],[1],[1],[1],[1],[1],[1],[1],[0],[1]],\"hovertemplate\":\"Age=%{x}\\u003cbr\\u003eCholestrol=%{y}\\u003cbr\\u003eBlood Pressure=%{z}\\u003cbr\\u003esex=%{customdata[0]}\\u003cbr\\u003efbs=%{marker.color}\\u003cextra\\u003e\\u003c\\u002fextra\\u003e\",\"legendgroup\":\"\",\"marker\":{\"color\":[0,1,0,0,1,0,0,0,0,0,0,1,0,0,1,0,0,0,0,1,0,0,0,0,0,0,0,1,1,0,0,0,0,0,0,0,0,0,0,0,0,0,0,0,0,0,0,1,0,1,1,0,0,0,0,0,0,0,0,0,0,0,0,1,0,0,1,0,0,0,0,0,1,0,1,0,1,0,0,0,0,0,0,0,0,0,1,0,0,1,0,0,0,0,1,0,0,0,0,0,0,1,0,0,0,0,0,0,0,0,0,0,1,0,1,0,0,0,0,0,0,0,0,1,0,0,0,1,0,0,0,0,0,0,0,1,0,0,0,0,0,0,0,0,0,0,0,0,1,0,0,0,0,0,1,0,0,0,0,0,0,0,0,0,1,0,0,0,0,0,0,1,0,0,0,1,1,0,0,0,0,0,0,0,0,1,0,1,0,0,0,0,0,1,0,1,0,0,0,0,0,0,1,0,0,0,1,0,0,0,1,0,0,0,0,0,0,0,0,0,0,0,0,0,0,0,0,0,1,1,0,0,0,0,0,0,0,0,1,0,1,0,0,0,1,0,0,0,0,0,0,0,0,1,0,0,0,0,0,0,0,0,0,0,1,0,0,0,0,1,0,0,0,0,0,1,0,0,0,0,0,0,0,0,0,1,0,0,0,0,0,0,1,1,1,0,0,0,0,0,0,0,0,0,0,0,0,0,1,0,0,1,0,0,0,0,0,0,0,0,0,0,0,0,0,0,0,0,0,0,0,0,0,0,0,0,1,0,1,0,0,0,0,1,0,0,0,0,1,0,0,0,0,0,0,0,1,0,0,0,0,0,0,1,0,1,0,0,0,0,1,0,0,0,0,0,0,0,0,0,0,0,0,0,0,0,0,0,0,1,1,0,0,0,1,0,1,0,0,1,0,0,0,0,0,1,1,0,0,0,0,1,0,0,0,0,0,0,0,0,0,0,0,1,0,0,0,0,1,0,0,0,0,0,0,0,0,0,0,0,0,0,0,0,0,1,1,0,0,0,0,0,1,0,0,1,0,0,0,0,0,1,0,0,0,0,0,0,1,0,0,0,0,0,0,1,1,0,0,0,0,0,0,0,0,0,0,0,1,1,0,0,0,0,1,0,1,0,0,0,0,0,0,0,0,0,0,0,1,0,1,0,0,0,0,0,0,0,0,0,0,0,0,0,0,0,0,0,0,1,0,0,0,0,0,0,0,0,0,0,0,0,0,0,0,0,0,0,0,0,0,0,1,1,0,1,0,0,0,0,0,0,0,0,0,0,0,0,0,1,1,0,0,0,0,0,1,0,0,0,1,0,0,0,0,0,0,1,0,0,0,0,0,0,0,0,0,0,0,0,0,0,0,0,0,1,0,0,0,0,1,0,1,0,0,0,0,0,0,0,0,1,1,0,0,0,0,0,0,1,0,0,0,0,0,0,0,0,1,0,0,0,0,0,0,0,0,0,0,0,0,0,0,1,0,0,0,0,0,0,0,0,0,0,0,1,0,0,0,0,0,0,0,0,1,0,0,0,0,1,0,0,1,0,0,0,1,0,1,1,0,0,1,0,0,0,0,0,0,0,0,0,0,0,0,0,0,0,1,0,0,0,0,0,0,0,0,1,0,1,0,0,0,0,0,0,0,0,0,0,0,0,0,0,1,0,0,0,0,0,0,0,1,0,0,0,0,1,0,0,0,0,0,0,0,1,0,0,0,0,0,0,0,1,0,0,0,1,1,1,0,0,0,0,0,0,0,0,0,0,0,0,0,0,0,0,1,0,1,0,0,0,1,1,0,1,0,0,0,0,0,1,0,0,0,0,0,0,0,0,0,0,0,1,1,0,0,0,0,1,0,0,0,0,0,0,0,0,0,0,0,0,0,0,0,0,0,1,0,0,0,0,0,0,0,0,0,0,1,0,0,0,0,0,1,1,0,0,0,0,0,0,0,0,0,0,0,0,0,0,0,0,0,0,0,0,0,0,0,0,0,0,0,0,0,1,0,0,0,0,0,0,0,1,0,0,0,0,0,0,0,0,0,1,0,0,0,0,0,0,0,1,0,0,0,0,0,0,0,0,0,0,0,0,0,0,0,1,0,0,0,0,0,0,0,0,0,0,0,0,0,0,0,0,1,0,0,0,0,0,0,0,1,0,0,0,0,0,1,0,0,0,1,0,0,0,0,1,1,0,0,1,0,1,0,0,0,1,0,0,0,0,0,0,0,0,0,0,0,0,0,1,0,1,0,0,0,0,0,1,0,0,0,1,0,0,1,0,0,0,0,0,0,0,0,0,1,0,0,0,0,0,0,0,0],\"coloraxis\":\"coloraxis\",\"symbol\":\"circle\"},\"mode\":\"markers\",\"name\":\"\",\"scene\":\"scene\",\"showlegend\":false,\"x\":[52,53,70,61,62,58,58,55,46,54,71,43,34,51,52,34,51,54,50,58,60,67,45,63,42,61,44,58,56,55,44,50,57,70,50,46,51,59,64,57,65,54,61,46,55,42,41,66,66,60,58,57,38,49,55,55,56,48,67,57,29,66,67,59,29,59,53,42,37,62,59,61,56,59,48,47,48,63,52,52,50,49,46,38,37,44,58,59,62,68,54,62,63,44,62,45,57,53,65,76,43,57,54,47,52,47,51,62,40,54,44,53,48,57,59,61,63,43,29,42,54,44,60,65,61,60,66,53,52,57,60,51,41,50,54,58,55,64,47,41,57,63,61,34,47,40,51,41,52,39,58,54,58,54,63,54,40,54,67,41,77,51,77,48,56,59,56,57,43,45,43,56,56,39,54,56,56,64,44,56,63,64,60,42,45,57,40,56,63,64,41,56,67,69,67,59,58,45,60,50,62,34,52,64,66,42,59,41,38,62,42,67,50,43,45,49,65,41,46,54,57,63,64,39,51,54,49,44,52,66,58,56,60,41,49,64,49,57,60,62,54,67,38,60,51,44,54,46,39,42,47,45,55,57,35,62,35,64,38,66,44,54,48,55,58,45,53,67,58,71,43,44,39,54,66,56,57,44,55,41,45,35,41,64,58,71,64,71,58,40,52,58,61,59,56,67,67,58,35,52,46,51,55,60,52,62,44,44,59,56,61,48,70,74,40,42,64,63,59,53,53,48,45,66,48,56,54,57,70,53,37,63,37,54,60,58,57,54,56,60,38,44,65,52,41,66,50,54,43,62,66,50,57,57,57,46,59,67,59,53,48,62,43,53,57,53,58,48,58,51,43,55,54,58,46,66,59,64,67,52,58,58,59,58,35,51,42,77,64,63,58,45,51,62,63,66,68,40,66,63,49,71,70,46,61,56,58,58,46,46,41,56,57,70,59,41,54,52,62,65,57,42,57,58,45,51,54,57,43,47,67,65,60,37,41,57,59,67,47,58,62,60,57,57,47,52,53,55,51,52,63,49,66,49,65,69,47,39,43,51,69,48,52,43,67,38,44,47,61,67,60,64,58,41,48,57,57,57,39,58,51,63,51,35,65,62,41,65,54,61,57,57,64,55,51,59,68,57,54,46,71,35,46,45,47,44,61,41,56,55,54,43,44,54,44,49,60,41,49,61,59,58,67,61,58,51,62,62,59,69,60,65,63,53,54,76,50,52,46,64,58,44,62,59,54,48,70,67,51,68,69,54,43,53,58,67,59,48,39,67,58,65,42,44,56,53,50,41,54,42,54,60,34,44,60,43,52,70,62,58,46,44,55,43,55,40,64,59,61,54,74,63,70,63,64,61,59,38,58,63,62,46,58,63,47,71,66,42,64,55,43,55,58,55,51,50,43,41,49,65,57,48,62,61,59,69,58,38,69,65,45,49,45,61,52,53,59,58,65,58,46,56,64,65,44,50,47,64,71,45,62,41,66,56,41,41,57,39,64,59,61,58,47,58,66,65,35,57,29,66,61,52,68,54,63,58,60,63,41,68,42,59,59,43,60,63,52,58,56,54,58,55,53,63,39,35,50,67,66,35,41,35,71,57,51,58,57,56,60,45,56,35,45,66,51,70,55,56,55,52,64,45,67,68,74,60,48,56,46,55,44,52,51,44,52,50,59,67,58,52,44,41,63,58,60,51,64,60,44,58,55,65,48,65,51,48,64,66,46,61,57,49,56,58,63,57,57,68,46,71,41,45,62,65,48,51,61,53,59,34,44,58,64,56,54,55,67,51,62,62,54,54,68,60,61,62,41,65,59,43,67,63,63,52,58,53,57,44,51,54,40,57,62,53,62,58,70,45,42,58,61,62,60,54,61,63,42,57,44,54,51,58,68,55,42,49,53,52,51,51,70,35,58,59,60,56,35,61,58,52,58,37,52,67,65,46,68,43,68,51,52,64,59,52,59,60,41,41,56,56,48,39,64,57,59,60,61,43,54,59,57,57,57,48,70,57,61,57,60,63,55,64,54,52,51,62,59,52,42,59,61,42,62,59,55,64,42,50,62,50,50,58,35,45,66,46,65,47,59,38,39,58,44,54,61,57,54,42,54,60,65,40,51,38,42,56,43,64,53,49,57,52,69,65,66,56,67,54,70,57,67,62,54,45,53,62,49,50,65,69,52,58,52,57,44,76,58,60,53,52,38,52,52,51,43,39,63,52,44,45,57,39,67,64,59,62,55,57,60,71,56,60,50,43,59,44,56,54,42,67,64,42,66,52,51,55,58,56,42,40,51,45,48,58,44,58,65,53,41,47,59,60,47,50,54],\"y\":[212,203,174,203,294,248,318,289,249,286,149,341,210,298,204,210,308,266,244,211,185,223,208,252,209,307,233,319,256,327,169,244,131,269,196,231,213,271,263,229,360,258,330,249,342,226,203,228,278,230,283,241,175,188,217,217,193,245,212,232,204,278,299,212,204,288,197,315,215,164,326,207,249,177,256,257,255,187,201,201,233,149,231,175,215,220,211,249,268,193,267,209,187,169,208,236,303,282,248,197,213,126,309,257,186,275,299,281,223,206,197,226,256,335,218,307,254,177,204,295,309,169,282,417,260,240,302,197,223,192,240,256,203,196,309,225,342,325,257,235,274,197,234,182,204,167,295,172,298,321,318,283,300,258,330,309,199,258,564,157,304,222,304,274,249,326,184,354,315,160,247,283,240,199,239,288,283,246,197,409,187,211,293,180,308,289,167,249,254,309,250,221,564,234,286,212,234,260,318,200,209,182,298,227,278,244,218,250,175,281,240,299,243,315,308,266,254,157,311,286,236,254,211,199,261,232,149,242,205,228,300,236,258,306,269,227,149,261,230,244,288,212,175,185,245,219,283,311,220,180,275,160,353,289,198,394,183,325,231,302,226,232,222,342,225,208,282,237,224,265,211,263,220,206,228,283,207,219,289,198,234,192,204,211,224,265,313,302,340,223,223,259,243,212,288,299,237,270,192,325,204,227,342,282,196,267,242,220,218,294,260,256,269,269,199,244,313,252,177,216,264,275,309,246,245,294,283,276,322,216,215,269,250,214,206,270,126,273,256,253,175,226,269,199,157,246,243,267,247,263,302,200,335,201,261,243,176,286,204,216,222,231,213,246,236,246,230,229,240,175,341,353,214,284,177,228,221,303,237,186,218,224,239,270,282,175,209,304,246,233,319,264,175,164,330,278,274,167,228,233,188,149,245,204,207,256,211,234,243,231,198,249,276,322,288,204,273,223,209,360,303,265,354,319,309,305,201,168,247,243,212,225,318,250,268,354,249,229,253,284,244,293,274,168,253,205,246,289,295,230,407,271,228,271,225,234,243,220,247,261,254,255,186,211,564,175,219,275,243,286,240,313,197,214,229,126,289,229,321,216,305,407,298,192,248,281,172,254,288,243,303,168,309,353,245,234,274,232,239,177,149,183,177,234,243,242,260,204,288,327,288,177,290,206,220,188,206,198,188,203,177,220,277,203,230,256,164,209,270,234,258,269,197,234,267,197,219,325,249,227,259,235,394,204,273,229,322,223,295,277,254,286,341,197,234,254,177,222,199,237,197,269,209,290,184,234,254,214,201,240,304,282,182,290,258,247,298,322,394,218,197,235,262,177,353,199,309,176,307,286,269,269,269,269,212,203,221,175,284,195,263,311,340,195,253,265,212,315,212,327,341,205,225,217,305,219,303,306,266,248,274,256,294,234,270,254,224,231,239,282,264,266,234,166,212,264,249,340,282,197,243,409,263,177,226,243,243,303,149,234,267,157,226,283,306,235,236,220,309,271,166,318,204,248,226,417,192,261,204,246,330,212,277,258,330,234,253,254,268,274,295,326,176,177,185,407,204,300,288,304,240,250,203,195,219,282,219,212,212,282,214,198,302,201,227,216,229,294,178,264,221,198,160,226,213,245,205,256,250,233,335,260,277,211,269,258,274,221,311,250,220,230,227,141,204,196,239,229,300,255,235,268,330,220,318,222,335,230,226,220,262,360,245,177,256,255,246,228,204,330,276,269,221,283,187,335,335,193,197,265,203,236,244,225,275,222,307,282,204,210,169,218,303,240,232,289,254,298,294,281,239,239,193,178,234,208,203,225,288,303,229,233,197,230,197,226,276,233,227,214,167,261,268,203,208,240,245,260,244,225,207,268,253,239,166,252,180,229,233,266,222,220,277,217,315,149,234,199,213,261,174,183,230,273,293,184,183,166,283,255,284,250,255,229,282,197,211,303,211,299,230,335,288,212,273,240,250,235,240,236,275,321,227,192,273,206,207,213,188,271,207,232,131,274,174,289,260,201,258,407,205,325,239,204,299,263,270,201,265,234,234,265,268,218,262,246,226,244,267,200,233,319,198,208,212,249,254,253,204,231,219,218,263,239,330,131,206,240,266,206,254,223,308,231,180,240,315,335,226,271,241,196,239,177,228,193,277,201,174,207,286,263,304,236,264,231,269,233,417,239,196,248,233,241,141,197,259,178,203,325,175,199,186,245,211,219,269,205,197,309,192,219,223,263,234,231,327,232,293,302,236,230,254,247,239,263,409,188,315,254,212,226,212,233,308,205,211,193,295,223,299,308,229,318,141,216,282,282,172,204,221,258,275,254,188],\"z\":[125,140,145,148,138,100,114,160,120,122,112,132,118,140,128,118,140,124,120,140,140,106,104,135,120,145,130,136,130,180,120,120,130,160,129,150,125,138,128,128,160,120,130,120,132,140,135,178,146,117,150,140,138,120,140,140,120,130,152,154,130,146,100,150,130,170,130,136,120,160,170,140,125,140,130,138,124,140,134,134,140,118,150,138,120,120,140,174,140,144,108,124,140,120,128,138,128,123,110,140,122,150,108,138,118,110,140,120,152,110,110,142,130,110,126,145,130,120,130,120,108,120,145,140,120,150,120,130,138,140,150,130,135,129,108,170,132,180,138,110,152,124,134,118,112,110,120,110,152,140,114,192,125,120,130,108,140,120,115,120,125,100,125,124,125,170,132,120,130,112,150,130,120,94,110,200,130,120,110,134,140,110,140,130,128,165,110,125,130,125,112,130,115,160,160,150,100,115,102,144,124,118,152,170,146,148,126,112,138,120,120,100,150,130,128,130,135,120,140,122,130,130,110,94,140,150,118,118,128,178,125,120,125,126,130,170,118,124,117,150,132,152,138,140,125,130,192,140,138,130,110,112,132,165,120,140,138,180,120,120,120,150,122,132,170,104,123,120,132,110,110,120,138,110,160,130,132,130,160,105,130,122,130,110,132,110,140,160,120,152,138,128,150,150,200,100,120,150,122,120,105,94,132,145,136,120,118,120,126,140,120,130,160,120,140,148,140,135,140,128,130,130,142,160,130,140,192,150,130,128,120,108,130,110,130,150,150,125,130,130,138,120,155,172,120,160,150,108,132,130,120,144,110,110,124,138,164,160,134,128,122,130,122,130,130,130,112,110,105,110,132,132,110,120,142,160,140,130,120,118,146,132,110,150,126,110,120,125,120,145,136,110,110,160,130,146,180,110,160,145,120,112,156,105,140,130,140,100,138,150,105,125,150,130,170,130,125,138,124,160,128,102,120,136,142,130,160,150,132,108,152,150,102,130,112,120,174,120,130,120,150,140,152,150,130,128,130,160,120,112,150,134,178,134,150,160,108,138,150,140,140,124,118,110,115,138,130,110,150,160,150,140,130,130,110,150,165,128,140,128,130,150,140,122,110,120,110,135,132,150,128,150,125,132,125,135,180,154,140,142,112,138,142,130,108,118,120,130,200,180,132,120,112,110,120,120,130,105,120,148,140,125,152,148,112,130,160,124,178,160,150,155,124,138,108,140,120,120,120,170,128,140,140,134,125,110,130,106,120,118,140,122,132,130,100,125,140,122,94,120,130,155,120,112,132,138,110,130,160,120,135,145,118,112,125,150,152,130,140,146,101,140,130,120,132,140,125,164,145,122,120,108,160,108,145,148,140,138,120,140,130,140,120,140,130,110,112,136,145,180,132,128,170,140,130,120,115,126,130,110,152,130,138,134,178,140,132,120,140,138,110,130,130,138,125,130,174,120,138,130,138,134,128,120,120,150,108,130,112,130,120,120,150,130,126,110,130,138,125,138,138,114,112,100,150,140,122,124,130,160,130,125,118,120,130,100,130,130,112,180,120,170,164,120,140,150,128,125,200,135,105,135,140,140,118,126,120,152,112,126,130,120,160,110,94,128,128,140,120,110,130,120,112,150,125,156,128,130,135,108,140,115,152,120,120,150,124,130,140,135,120,112,94,108,128,129,110,120,125,128,140,112,130,125,102,100,140,117,120,125,130,160,130,120,130,124,120,160,105,130,150,130,130,150,140,110,110,144,101,110,135,138,150,150,130,100,145,123,134,118,120,146,130,120,150,160,125,140,138,120,110,110,144,120,134,128,135,150,170,115,120,145,124,112,130,142,150,130,94,110,110,124,140,140,128,105,156,115,148,170,140,140,130,140,138,135,130,128,130,124,100,125,118,140,136,118,138,172,125,140,145,138,112,160,140,132,138,138,150,128,120,130,128,120,138,101,120,115,120,140,112,140,170,125,160,150,112,110,120,120,130,140,170,140,160,130,140,122,120,138,132,154,130,124,145,165,120,110,150,150,128,180,110,128,140,130,178,134,102,135,134,102,140,126,130,120,140,120,120,144,140,136,120,104,112,120,135,130,134,120,118,146,120,140,130,130,110,120,124,130,135,152,140,120,130,120,130,140,142,134,140,136,140,120,178,120,152,160,145,132,160,130,135,138,130,130,130,140,140,140,136,100,108,140,108,140,128,120,140,120,138,172,118,125,110,118,108,128,110,142,140,118,106,128,135,130,180,154,140,160,120,117,110,132,110,120,134,120,136,125,145,140,112,108,140,128,140,120,120,152,140,128,110,114,108,128,138,123,110,112,140,125,110,110,120],\"type\":\"scatter3d\"}],                        {\"template\":{\"data\":{\"histogram2dcontour\":[{\"type\":\"histogram2dcontour\",\"colorbar\":{\"outlinewidth\":0,\"ticks\":\"\"},\"colorscale\":[[0.0,\"#0d0887\"],[0.1111111111111111,\"#46039f\"],[0.2222222222222222,\"#7201a8\"],[0.3333333333333333,\"#9c179e\"],[0.4444444444444444,\"#bd3786\"],[0.5555555555555556,\"#d8576b\"],[0.6666666666666666,\"#ed7953\"],[0.7777777777777778,\"#fb9f3a\"],[0.8888888888888888,\"#fdca26\"],[1.0,\"#f0f921\"]]}],\"choropleth\":[{\"type\":\"choropleth\",\"colorbar\":{\"outlinewidth\":0,\"ticks\":\"\"}}],\"histogram2d\":[{\"type\":\"histogram2d\",\"colorbar\":{\"outlinewidth\":0,\"ticks\":\"\"},\"colorscale\":[[0.0,\"#0d0887\"],[0.1111111111111111,\"#46039f\"],[0.2222222222222222,\"#7201a8\"],[0.3333333333333333,\"#9c179e\"],[0.4444444444444444,\"#bd3786\"],[0.5555555555555556,\"#d8576b\"],[0.6666666666666666,\"#ed7953\"],[0.7777777777777778,\"#fb9f3a\"],[0.8888888888888888,\"#fdca26\"],[1.0,\"#f0f921\"]]}],\"heatmap\":[{\"type\":\"heatmap\",\"colorbar\":{\"outlinewidth\":0,\"ticks\":\"\"},\"colorscale\":[[0.0,\"#0d0887\"],[0.1111111111111111,\"#46039f\"],[0.2222222222222222,\"#7201a8\"],[0.3333333333333333,\"#9c179e\"],[0.4444444444444444,\"#bd3786\"],[0.5555555555555556,\"#d8576b\"],[0.6666666666666666,\"#ed7953\"],[0.7777777777777778,\"#fb9f3a\"],[0.8888888888888888,\"#fdca26\"],[1.0,\"#f0f921\"]]}],\"heatmapgl\":[{\"type\":\"heatmapgl\",\"colorbar\":{\"outlinewidth\":0,\"ticks\":\"\"},\"colorscale\":[[0.0,\"#0d0887\"],[0.1111111111111111,\"#46039f\"],[0.2222222222222222,\"#7201a8\"],[0.3333333333333333,\"#9c179e\"],[0.4444444444444444,\"#bd3786\"],[0.5555555555555556,\"#d8576b\"],[0.6666666666666666,\"#ed7953\"],[0.7777777777777778,\"#fb9f3a\"],[0.8888888888888888,\"#fdca26\"],[1.0,\"#f0f921\"]]}],\"contourcarpet\":[{\"type\":\"contourcarpet\",\"colorbar\":{\"outlinewidth\":0,\"ticks\":\"\"}}],\"contour\":[{\"type\":\"contour\",\"colorbar\":{\"outlinewidth\":0,\"ticks\":\"\"},\"colorscale\":[[0.0,\"#0d0887\"],[0.1111111111111111,\"#46039f\"],[0.2222222222222222,\"#7201a8\"],[0.3333333333333333,\"#9c179e\"],[0.4444444444444444,\"#bd3786\"],[0.5555555555555556,\"#d8576b\"],[0.6666666666666666,\"#ed7953\"],[0.7777777777777778,\"#fb9f3a\"],[0.8888888888888888,\"#fdca26\"],[1.0,\"#f0f921\"]]}],\"surface\":[{\"type\":\"surface\",\"colorbar\":{\"outlinewidth\":0,\"ticks\":\"\"},\"colorscale\":[[0.0,\"#0d0887\"],[0.1111111111111111,\"#46039f\"],[0.2222222222222222,\"#7201a8\"],[0.3333333333333333,\"#9c179e\"],[0.4444444444444444,\"#bd3786\"],[0.5555555555555556,\"#d8576b\"],[0.6666666666666666,\"#ed7953\"],[0.7777777777777778,\"#fb9f3a\"],[0.8888888888888888,\"#fdca26\"],[1.0,\"#f0f921\"]]}],\"mesh3d\":[{\"type\":\"mesh3d\",\"colorbar\":{\"outlinewidth\":0,\"ticks\":\"\"}}],\"scatter\":[{\"fillpattern\":{\"fillmode\":\"overlay\",\"size\":10,\"solidity\":0.2},\"type\":\"scatter\"}],\"parcoords\":[{\"type\":\"parcoords\",\"line\":{\"colorbar\":{\"outlinewidth\":0,\"ticks\":\"\"}}}],\"scatterpolargl\":[{\"type\":\"scatterpolargl\",\"marker\":{\"colorbar\":{\"outlinewidth\":0,\"ticks\":\"\"}}}],\"bar\":[{\"error_x\":{\"color\":\"#2a3f5f\"},\"error_y\":{\"color\":\"#2a3f5f\"},\"marker\":{\"line\":{\"color\":\"#E5ECF6\",\"width\":0.5},\"pattern\":{\"fillmode\":\"overlay\",\"size\":10,\"solidity\":0.2}},\"type\":\"bar\"}],\"scattergeo\":[{\"type\":\"scattergeo\",\"marker\":{\"colorbar\":{\"outlinewidth\":0,\"ticks\":\"\"}}}],\"scatterpolar\":[{\"type\":\"scatterpolar\",\"marker\":{\"colorbar\":{\"outlinewidth\":0,\"ticks\":\"\"}}}],\"histogram\":[{\"marker\":{\"pattern\":{\"fillmode\":\"overlay\",\"size\":10,\"solidity\":0.2}},\"type\":\"histogram\"}],\"scattergl\":[{\"type\":\"scattergl\",\"marker\":{\"colorbar\":{\"outlinewidth\":0,\"ticks\":\"\"}}}],\"scatter3d\":[{\"type\":\"scatter3d\",\"line\":{\"colorbar\":{\"outlinewidth\":0,\"ticks\":\"\"}},\"marker\":{\"colorbar\":{\"outlinewidth\":0,\"ticks\":\"\"}}}],\"scattermapbox\":[{\"type\":\"scattermapbox\",\"marker\":{\"colorbar\":{\"outlinewidth\":0,\"ticks\":\"\"}}}],\"scatterternary\":[{\"type\":\"scatterternary\",\"marker\":{\"colorbar\":{\"outlinewidth\":0,\"ticks\":\"\"}}}],\"scattercarpet\":[{\"type\":\"scattercarpet\",\"marker\":{\"colorbar\":{\"outlinewidth\":0,\"ticks\":\"\"}}}],\"carpet\":[{\"aaxis\":{\"endlinecolor\":\"#2a3f5f\",\"gridcolor\":\"white\",\"linecolor\":\"white\",\"minorgridcolor\":\"white\",\"startlinecolor\":\"#2a3f5f\"},\"baxis\":{\"endlinecolor\":\"#2a3f5f\",\"gridcolor\":\"white\",\"linecolor\":\"white\",\"minorgridcolor\":\"white\",\"startlinecolor\":\"#2a3f5f\"},\"type\":\"carpet\"}],\"table\":[{\"cells\":{\"fill\":{\"color\":\"#EBF0F8\"},\"line\":{\"color\":\"white\"}},\"header\":{\"fill\":{\"color\":\"#C8D4E3\"},\"line\":{\"color\":\"white\"}},\"type\":\"table\"}],\"barpolar\":[{\"marker\":{\"line\":{\"color\":\"#E5ECF6\",\"width\":0.5},\"pattern\":{\"fillmode\":\"overlay\",\"size\":10,\"solidity\":0.2}},\"type\":\"barpolar\"}],\"pie\":[{\"automargin\":true,\"type\":\"pie\"}]},\"layout\":{\"autotypenumbers\":\"strict\",\"colorway\":[\"#636efa\",\"#EF553B\",\"#00cc96\",\"#ab63fa\",\"#FFA15A\",\"#19d3f3\",\"#FF6692\",\"#B6E880\",\"#FF97FF\",\"#FECB52\"],\"font\":{\"color\":\"#2a3f5f\"},\"hovermode\":\"closest\",\"hoverlabel\":{\"align\":\"left\"},\"paper_bgcolor\":\"white\",\"plot_bgcolor\":\"#E5ECF6\",\"polar\":{\"bgcolor\":\"#E5ECF6\",\"angularaxis\":{\"gridcolor\":\"white\",\"linecolor\":\"white\",\"ticks\":\"\"},\"radialaxis\":{\"gridcolor\":\"white\",\"linecolor\":\"white\",\"ticks\":\"\"}},\"ternary\":{\"bgcolor\":\"#E5ECF6\",\"aaxis\":{\"gridcolor\":\"white\",\"linecolor\":\"white\",\"ticks\":\"\"},\"baxis\":{\"gridcolor\":\"white\",\"linecolor\":\"white\",\"ticks\":\"\"},\"caxis\":{\"gridcolor\":\"white\",\"linecolor\":\"white\",\"ticks\":\"\"}},\"coloraxis\":{\"colorbar\":{\"outlinewidth\":0,\"ticks\":\"\"}},\"colorscale\":{\"sequential\":[[0.0,\"#0d0887\"],[0.1111111111111111,\"#46039f\"],[0.2222222222222222,\"#7201a8\"],[0.3333333333333333,\"#9c179e\"],[0.4444444444444444,\"#bd3786\"],[0.5555555555555556,\"#d8576b\"],[0.6666666666666666,\"#ed7953\"],[0.7777777777777778,\"#fb9f3a\"],[0.8888888888888888,\"#fdca26\"],[1.0,\"#f0f921\"]],\"sequentialminus\":[[0.0,\"#0d0887\"],[0.1111111111111111,\"#46039f\"],[0.2222222222222222,\"#7201a8\"],[0.3333333333333333,\"#9c179e\"],[0.4444444444444444,\"#bd3786\"],[0.5555555555555556,\"#d8576b\"],[0.6666666666666666,\"#ed7953\"],[0.7777777777777778,\"#fb9f3a\"],[0.8888888888888888,\"#fdca26\"],[1.0,\"#f0f921\"]],\"diverging\":[[0,\"#8e0152\"],[0.1,\"#c51b7d\"],[0.2,\"#de77ae\"],[0.3,\"#f1b6da\"],[0.4,\"#fde0ef\"],[0.5,\"#f7f7f7\"],[0.6,\"#e6f5d0\"],[0.7,\"#b8e186\"],[0.8,\"#7fbc41\"],[0.9,\"#4d9221\"],[1,\"#276419\"]]},\"xaxis\":{\"gridcolor\":\"white\",\"linecolor\":\"white\",\"ticks\":\"\",\"title\":{\"standoff\":15},\"zerolinecolor\":\"white\",\"automargin\":true,\"zerolinewidth\":2},\"yaxis\":{\"gridcolor\":\"white\",\"linecolor\":\"white\",\"ticks\":\"\",\"title\":{\"standoff\":15},\"zerolinecolor\":\"white\",\"automargin\":true,\"zerolinewidth\":2},\"scene\":{\"xaxis\":{\"backgroundcolor\":\"#E5ECF6\",\"gridcolor\":\"white\",\"linecolor\":\"white\",\"showbackground\":true,\"ticks\":\"\",\"zerolinecolor\":\"white\",\"gridwidth\":2},\"yaxis\":{\"backgroundcolor\":\"#E5ECF6\",\"gridcolor\":\"white\",\"linecolor\":\"white\",\"showbackground\":true,\"ticks\":\"\",\"zerolinecolor\":\"white\",\"gridwidth\":2},\"zaxis\":{\"backgroundcolor\":\"#E5ECF6\",\"gridcolor\":\"white\",\"linecolor\":\"white\",\"showbackground\":true,\"ticks\":\"\",\"zerolinecolor\":\"white\",\"gridwidth\":2}},\"shapedefaults\":{\"line\":{\"color\":\"#2a3f5f\"}},\"annotationdefaults\":{\"arrowcolor\":\"#2a3f5f\",\"arrowhead\":0,\"arrowwidth\":1},\"geo\":{\"bgcolor\":\"white\",\"landcolor\":\"#E5ECF6\",\"subunitcolor\":\"white\",\"showland\":true,\"showlakes\":true,\"lakecolor\":\"white\"},\"title\":{\"x\":0.05},\"mapbox\":{\"style\":\"light\"}}},\"scene\":{\"domain\":{\"x\":[0.0,1.0],\"y\":[0.0,1.0]},\"xaxis\":{\"title\":{\"text\":\"Age\"}},\"yaxis\":{\"title\":{\"text\":\"Cholestrol\"}},\"zaxis\":{\"title\":{\"text\":\"Blood Pressure\"}}},\"coloraxis\":{\"colorbar\":{\"title\":{\"text\":\"fbs\"}},\"colorscale\":[[0.0,\"#0d0887\"],[0.1111111111111111,\"#46039f\"],[0.2222222222222222,\"#7201a8\"],[0.3333333333333333,\"#9c179e\"],[0.4444444444444444,\"#bd3786\"],[0.5555555555555556,\"#d8576b\"],[0.6666666666666666,\"#ed7953\"],[0.7777777777777778,\"#fb9f3a\"],[0.8888888888888888,\"#fdca26\"],[1.0,\"#f0f921\"]]},\"legend\":{\"tracegroupgap\":0},\"title\":{\"text\":\"3D scatter plot : Age vs Cholestrol vs Blood Pressure\"}},                        {\"responsive\": true}                    ).then(function(){\n",
              "                            \n",
              "var gd = document.getElementById('ac843299-d700-4be2-9c36-b0a64f588001');\n",
              "var x = new MutationObserver(function (mutations, observer) {{\n",
              "        var display = window.getComputedStyle(gd).display;\n",
              "        if (!display || display === 'none') {{\n",
              "            console.log([gd, 'removed!']);\n",
              "            Plotly.purge(gd);\n",
              "            observer.disconnect();\n",
              "        }}\n",
              "}});\n",
              "\n",
              "// Listen for the removal of the full notebook cells\n",
              "var notebookContainer = gd.closest('#notebook-container');\n",
              "if (notebookContainer) {{\n",
              "    x.observe(notebookContainer, {childList: true});\n",
              "}}\n",
              "\n",
              "// Listen for the clearing of the current output cell\n",
              "var outputEl = gd.closest('.output');\n",
              "if (outputEl) {{\n",
              "    x.observe(outputEl, {childList: true});\n",
              "}}\n",
              "\n",
              "                        })                };                            </script>        </div>\n",
              "</body>\n",
              "</html>"
            ]
          },
          "metadata": {}
        }
      ]
    },
    {
      "cell_type": "code",
      "source": [
        "print(df['fbs'].unique())\n"
      ],
      "metadata": {
        "colab": {
          "base_uri": "https://localhost:8080/"
        },
        "id": "HhwDhV31ASH0",
        "outputId": "c3af706f-cf20-4d52-dcd9-902754257f50"
      },
      "execution_count": 124,
      "outputs": [
        {
          "output_type": "stream",
          "name": "stdout",
          "text": [
            "[0 1]\n"
          ]
        }
      ]
    },
    {
      "cell_type": "markdown",
      "source": [
        "Filtering females"
      ],
      "metadata": {
        "id": "gTT11dWNq7T3"
      }
    },
    {
      "cell_type": "code",
      "source": [
        "females=df[df['sex']==0]"
      ],
      "metadata": {
        "id": "BUzjJuZtq-aD"
      },
      "execution_count": 125,
      "outputs": []
    },
    {
      "cell_type": "code",
      "source": [
        "females_high_col_sum=females[females['chol']>200].value_counts().sum()\n",
        "females_high_col_sum"
      ],
      "metadata": {
        "colab": {
          "base_uri": "https://localhost:8080/"
        },
        "id": "CBYUq2PhxCjn",
        "outputId": "7374414e-7fc9-476e-ad72-8ed8d3a16693"
      },
      "execution_count": 126,
      "outputs": [
        {
          "output_type": "execute_result",
          "data": {
            "text/plain": [
              "np.int64(267)"
            ]
          },
          "metadata": {},
          "execution_count": 126
        }
      ]
    },
    {
      "cell_type": "code",
      "source": [
        "females_high_col=females[females['chol']>200]\n"
      ],
      "metadata": {
        "id": "VA8e06nJy03f"
      },
      "execution_count": 127,
      "outputs": []
    },
    {
      "cell_type": "code",
      "source": [
        "fig=px.scatter(females_high_col,x='age',y='chol',color='target',title='Age vs cholestrol (Females)')\n",
        "fig.update_traces(\n",
        "    marker=dict(symbol='circle',size=13,color='pink',\n",
        "              line=dict(width=2,color='purple')))\n",
        "fig.show()"
      ],
      "metadata": {
        "colab": {
          "base_uri": "https://localhost:8080/",
          "height": 542
        },
        "id": "KR55NUoNroHB",
        "outputId": "9ea02627-430a-45dd-8196-dae32affaf16"
      },
      "execution_count": 128,
      "outputs": [
        {
          "output_type": "display_data",
          "data": {
            "text/html": [
              "<html>\n",
              "<head><meta charset=\"utf-8\" /></head>\n",
              "<body>\n",
              "    <div>            <script src=\"https://cdnjs.cloudflare.com/ajax/libs/mathjax/2.7.5/MathJax.js?config=TeX-AMS-MML_SVG\"></script><script type=\"text/javascript\">if (window.MathJax && window.MathJax.Hub && window.MathJax.Hub.Config) {window.MathJax.Hub.Config({SVG: {font: \"STIX-Web\"}});}</script>                <script type=\"text/javascript\">window.PlotlyConfig = {MathJaxConfig: 'local'};</script>\n",
              "        <script charset=\"utf-8\" src=\"https://cdn.plot.ly/plotly-2.35.2.min.js\"></script>                <div id=\"8e17b541-040c-466d-9828-548583e340ba\" class=\"plotly-graph-div\" style=\"height:525px; width:100%;\"></div>            <script type=\"text/javascript\">                                    window.PLOTLYENV=window.PLOTLYENV || {};                                    if (document.getElementById(\"8e17b541-040c-466d-9828-548583e340ba\")) {                    Plotly.newPlot(                        \"8e17b541-040c-466d-9828-548583e340ba\",                        [{\"hovertemplate\":\"age=%{x}\\u003cbr\\u003echol=%{y}\\u003cbr\\u003etarget=%{marker.color}\\u003cextra\\u003e\\u003c\\u002fextra\\u003e\",\"legendgroup\":\"\",\"marker\":{\"color\":\"pink\",\"coloraxis\":\"coloraxis\",\"symbol\":\"circle\",\"line\":{\"color\":\"purple\",\"width\":2},\"size\":13},\"mode\":\"markers\",\"name\":\"\",\"orientation\":\"v\",\"showlegend\":false,\"x\":[62,58,43,34,34,51,50,67,63,42,61,58,55,50,65,61,55,66,66,58,57,66,37,37,59,62,54,62,45,57,43,61,65,60,60,51,58,55,64,51,67,57,56,56,67,60,62,66,57,44,66,41,49,62,54,39,62,64,55,58,71,39,45,41,71,64,71,58,56,46,55,44,56,74,64,63,53,53,48,56,53,37,63,54,65,54,62,46,53,43,57,43,54,64,42,58,66,46,46,41,62,65,57,42,57,58,51,54,65,60,41,57,59,62,51,63,49,66,49,65,39,67,60,64,51,63,54,57,45,44,41,56,55,54,67,51,62,60,65,53,54,50,62,67,51,43,65,42,53,50,54,54,62,61,74,63,63,62,58,71,55,43,55,58,51,50,41,62,69,45,53,59,58,46,56,64,45,66,41,57,39,58,66,65,61,41,63,56,54,55,50,71,56,66,55,55,67,68,74,60,55,41,60,65,51,46,61,49,58,71,45,62,65,48,61,34,64,62,65,54,62,58,62,63,53,58,68,68,60,48,43,60,63,55,64,62,42,42,62,50,58,61,51,49,57,69,66,67,54,62,54,45,53,49,65,69,58,57,63,67,55,71,50,56,51,55,50],\"xaxis\":\"x\",\"y\":[294,248,341,210,210,308,244,223,252,209,307,319,327,244,360,330,342,228,278,283,241,278,215,215,249,268,267,209,236,303,213,307,417,240,240,256,225,342,325,295,564,354,288,409,564,318,209,278,236,242,228,306,269,244,288,220,394,325,342,225,265,220,234,204,265,313,302,340,288,204,342,242,294,269,313,252,216,264,275,294,216,215,269,214,269,267,263,243,216,213,236,341,214,303,209,319,278,204,243,204,209,360,303,265,354,319,305,201,225,318,268,354,249,244,295,407,271,228,271,225,220,564,240,313,305,407,288,303,234,242,204,288,327,288,277,256,209,258,269,234,267,219,394,223,295,341,269,209,234,254,201,304,394,307,269,269,269,263,340,265,327,341,205,225,305,219,306,294,239,234,264,249,340,243,409,303,234,226,306,236,220,248,226,417,330,268,407,288,304,250,219,302,294,226,205,250,277,211,269,258,250,268,318,360,256,204,330,269,283,265,236,244,225,275,307,210,303,294,225,214,268,225,268,252,234,283,211,211,240,275,213,258,407,205,325,263,265,265,268,244,319,330,308,271,241,239,228,277,201,263,304,236,264,269,417,239,248,241,269,223,327,302,254,409,308,205,254],\"yaxis\":\"y\",\"type\":\"scatter\"}],                        {\"template\":{\"data\":{\"histogram2dcontour\":[{\"type\":\"histogram2dcontour\",\"colorbar\":{\"outlinewidth\":0,\"ticks\":\"\"},\"colorscale\":[[0.0,\"#0d0887\"],[0.1111111111111111,\"#46039f\"],[0.2222222222222222,\"#7201a8\"],[0.3333333333333333,\"#9c179e\"],[0.4444444444444444,\"#bd3786\"],[0.5555555555555556,\"#d8576b\"],[0.6666666666666666,\"#ed7953\"],[0.7777777777777778,\"#fb9f3a\"],[0.8888888888888888,\"#fdca26\"],[1.0,\"#f0f921\"]]}],\"choropleth\":[{\"type\":\"choropleth\",\"colorbar\":{\"outlinewidth\":0,\"ticks\":\"\"}}],\"histogram2d\":[{\"type\":\"histogram2d\",\"colorbar\":{\"outlinewidth\":0,\"ticks\":\"\"},\"colorscale\":[[0.0,\"#0d0887\"],[0.1111111111111111,\"#46039f\"],[0.2222222222222222,\"#7201a8\"],[0.3333333333333333,\"#9c179e\"],[0.4444444444444444,\"#bd3786\"],[0.5555555555555556,\"#d8576b\"],[0.6666666666666666,\"#ed7953\"],[0.7777777777777778,\"#fb9f3a\"],[0.8888888888888888,\"#fdca26\"],[1.0,\"#f0f921\"]]}],\"heatmap\":[{\"type\":\"heatmap\",\"colorbar\":{\"outlinewidth\":0,\"ticks\":\"\"},\"colorscale\":[[0.0,\"#0d0887\"],[0.1111111111111111,\"#46039f\"],[0.2222222222222222,\"#7201a8\"],[0.3333333333333333,\"#9c179e\"],[0.4444444444444444,\"#bd3786\"],[0.5555555555555556,\"#d8576b\"],[0.6666666666666666,\"#ed7953\"],[0.7777777777777778,\"#fb9f3a\"],[0.8888888888888888,\"#fdca26\"],[1.0,\"#f0f921\"]]}],\"heatmapgl\":[{\"type\":\"heatmapgl\",\"colorbar\":{\"outlinewidth\":0,\"ticks\":\"\"},\"colorscale\":[[0.0,\"#0d0887\"],[0.1111111111111111,\"#46039f\"],[0.2222222222222222,\"#7201a8\"],[0.3333333333333333,\"#9c179e\"],[0.4444444444444444,\"#bd3786\"],[0.5555555555555556,\"#d8576b\"],[0.6666666666666666,\"#ed7953\"],[0.7777777777777778,\"#fb9f3a\"],[0.8888888888888888,\"#fdca26\"],[1.0,\"#f0f921\"]]}],\"contourcarpet\":[{\"type\":\"contourcarpet\",\"colorbar\":{\"outlinewidth\":0,\"ticks\":\"\"}}],\"contour\":[{\"type\":\"contour\",\"colorbar\":{\"outlinewidth\":0,\"ticks\":\"\"},\"colorscale\":[[0.0,\"#0d0887\"],[0.1111111111111111,\"#46039f\"],[0.2222222222222222,\"#7201a8\"],[0.3333333333333333,\"#9c179e\"],[0.4444444444444444,\"#bd3786\"],[0.5555555555555556,\"#d8576b\"],[0.6666666666666666,\"#ed7953\"],[0.7777777777777778,\"#fb9f3a\"],[0.8888888888888888,\"#fdca26\"],[1.0,\"#f0f921\"]]}],\"surface\":[{\"type\":\"surface\",\"colorbar\":{\"outlinewidth\":0,\"ticks\":\"\"},\"colorscale\":[[0.0,\"#0d0887\"],[0.1111111111111111,\"#46039f\"],[0.2222222222222222,\"#7201a8\"],[0.3333333333333333,\"#9c179e\"],[0.4444444444444444,\"#bd3786\"],[0.5555555555555556,\"#d8576b\"],[0.6666666666666666,\"#ed7953\"],[0.7777777777777778,\"#fb9f3a\"],[0.8888888888888888,\"#fdca26\"],[1.0,\"#f0f921\"]]}],\"mesh3d\":[{\"type\":\"mesh3d\",\"colorbar\":{\"outlinewidth\":0,\"ticks\":\"\"}}],\"scatter\":[{\"fillpattern\":{\"fillmode\":\"overlay\",\"size\":10,\"solidity\":0.2},\"type\":\"scatter\"}],\"parcoords\":[{\"type\":\"parcoords\",\"line\":{\"colorbar\":{\"outlinewidth\":0,\"ticks\":\"\"}}}],\"scatterpolargl\":[{\"type\":\"scatterpolargl\",\"marker\":{\"colorbar\":{\"outlinewidth\":0,\"ticks\":\"\"}}}],\"bar\":[{\"error_x\":{\"color\":\"#2a3f5f\"},\"error_y\":{\"color\":\"#2a3f5f\"},\"marker\":{\"line\":{\"color\":\"#E5ECF6\",\"width\":0.5},\"pattern\":{\"fillmode\":\"overlay\",\"size\":10,\"solidity\":0.2}},\"type\":\"bar\"}],\"scattergeo\":[{\"type\":\"scattergeo\",\"marker\":{\"colorbar\":{\"outlinewidth\":0,\"ticks\":\"\"}}}],\"scatterpolar\":[{\"type\":\"scatterpolar\",\"marker\":{\"colorbar\":{\"outlinewidth\":0,\"ticks\":\"\"}}}],\"histogram\":[{\"marker\":{\"pattern\":{\"fillmode\":\"overlay\",\"size\":10,\"solidity\":0.2}},\"type\":\"histogram\"}],\"scattergl\":[{\"type\":\"scattergl\",\"marker\":{\"colorbar\":{\"outlinewidth\":0,\"ticks\":\"\"}}}],\"scatter3d\":[{\"type\":\"scatter3d\",\"line\":{\"colorbar\":{\"outlinewidth\":0,\"ticks\":\"\"}},\"marker\":{\"colorbar\":{\"outlinewidth\":0,\"ticks\":\"\"}}}],\"scattermapbox\":[{\"type\":\"scattermapbox\",\"marker\":{\"colorbar\":{\"outlinewidth\":0,\"ticks\":\"\"}}}],\"scatterternary\":[{\"type\":\"scatterternary\",\"marker\":{\"colorbar\":{\"outlinewidth\":0,\"ticks\":\"\"}}}],\"scattercarpet\":[{\"type\":\"scattercarpet\",\"marker\":{\"colorbar\":{\"outlinewidth\":0,\"ticks\":\"\"}}}],\"carpet\":[{\"aaxis\":{\"endlinecolor\":\"#2a3f5f\",\"gridcolor\":\"white\",\"linecolor\":\"white\",\"minorgridcolor\":\"white\",\"startlinecolor\":\"#2a3f5f\"},\"baxis\":{\"endlinecolor\":\"#2a3f5f\",\"gridcolor\":\"white\",\"linecolor\":\"white\",\"minorgridcolor\":\"white\",\"startlinecolor\":\"#2a3f5f\"},\"type\":\"carpet\"}],\"table\":[{\"cells\":{\"fill\":{\"color\":\"#EBF0F8\"},\"line\":{\"color\":\"white\"}},\"header\":{\"fill\":{\"color\":\"#C8D4E3\"},\"line\":{\"color\":\"white\"}},\"type\":\"table\"}],\"barpolar\":[{\"marker\":{\"line\":{\"color\":\"#E5ECF6\",\"width\":0.5},\"pattern\":{\"fillmode\":\"overlay\",\"size\":10,\"solidity\":0.2}},\"type\":\"barpolar\"}],\"pie\":[{\"automargin\":true,\"type\":\"pie\"}]},\"layout\":{\"autotypenumbers\":\"strict\",\"colorway\":[\"#636efa\",\"#EF553B\",\"#00cc96\",\"#ab63fa\",\"#FFA15A\",\"#19d3f3\",\"#FF6692\",\"#B6E880\",\"#FF97FF\",\"#FECB52\"],\"font\":{\"color\":\"#2a3f5f\"},\"hovermode\":\"closest\",\"hoverlabel\":{\"align\":\"left\"},\"paper_bgcolor\":\"white\",\"plot_bgcolor\":\"#E5ECF6\",\"polar\":{\"bgcolor\":\"#E5ECF6\",\"angularaxis\":{\"gridcolor\":\"white\",\"linecolor\":\"white\",\"ticks\":\"\"},\"radialaxis\":{\"gridcolor\":\"white\",\"linecolor\":\"white\",\"ticks\":\"\"}},\"ternary\":{\"bgcolor\":\"#E5ECF6\",\"aaxis\":{\"gridcolor\":\"white\",\"linecolor\":\"white\",\"ticks\":\"\"},\"baxis\":{\"gridcolor\":\"white\",\"linecolor\":\"white\",\"ticks\":\"\"},\"caxis\":{\"gridcolor\":\"white\",\"linecolor\":\"white\",\"ticks\":\"\"}},\"coloraxis\":{\"colorbar\":{\"outlinewidth\":0,\"ticks\":\"\"}},\"colorscale\":{\"sequential\":[[0.0,\"#0d0887\"],[0.1111111111111111,\"#46039f\"],[0.2222222222222222,\"#7201a8\"],[0.3333333333333333,\"#9c179e\"],[0.4444444444444444,\"#bd3786\"],[0.5555555555555556,\"#d8576b\"],[0.6666666666666666,\"#ed7953\"],[0.7777777777777778,\"#fb9f3a\"],[0.8888888888888888,\"#fdca26\"],[1.0,\"#f0f921\"]],\"sequentialminus\":[[0.0,\"#0d0887\"],[0.1111111111111111,\"#46039f\"],[0.2222222222222222,\"#7201a8\"],[0.3333333333333333,\"#9c179e\"],[0.4444444444444444,\"#bd3786\"],[0.5555555555555556,\"#d8576b\"],[0.6666666666666666,\"#ed7953\"],[0.7777777777777778,\"#fb9f3a\"],[0.8888888888888888,\"#fdca26\"],[1.0,\"#f0f921\"]],\"diverging\":[[0,\"#8e0152\"],[0.1,\"#c51b7d\"],[0.2,\"#de77ae\"],[0.3,\"#f1b6da\"],[0.4,\"#fde0ef\"],[0.5,\"#f7f7f7\"],[0.6,\"#e6f5d0\"],[0.7,\"#b8e186\"],[0.8,\"#7fbc41\"],[0.9,\"#4d9221\"],[1,\"#276419\"]]},\"xaxis\":{\"gridcolor\":\"white\",\"linecolor\":\"white\",\"ticks\":\"\",\"title\":{\"standoff\":15},\"zerolinecolor\":\"white\",\"automargin\":true,\"zerolinewidth\":2},\"yaxis\":{\"gridcolor\":\"white\",\"linecolor\":\"white\",\"ticks\":\"\",\"title\":{\"standoff\":15},\"zerolinecolor\":\"white\",\"automargin\":true,\"zerolinewidth\":2},\"scene\":{\"xaxis\":{\"backgroundcolor\":\"#E5ECF6\",\"gridcolor\":\"white\",\"linecolor\":\"white\",\"showbackground\":true,\"ticks\":\"\",\"zerolinecolor\":\"white\",\"gridwidth\":2},\"yaxis\":{\"backgroundcolor\":\"#E5ECF6\",\"gridcolor\":\"white\",\"linecolor\":\"white\",\"showbackground\":true,\"ticks\":\"\",\"zerolinecolor\":\"white\",\"gridwidth\":2},\"zaxis\":{\"backgroundcolor\":\"#E5ECF6\",\"gridcolor\":\"white\",\"linecolor\":\"white\",\"showbackground\":true,\"ticks\":\"\",\"zerolinecolor\":\"white\",\"gridwidth\":2}},\"shapedefaults\":{\"line\":{\"color\":\"#2a3f5f\"}},\"annotationdefaults\":{\"arrowcolor\":\"#2a3f5f\",\"arrowhead\":0,\"arrowwidth\":1},\"geo\":{\"bgcolor\":\"white\",\"landcolor\":\"#E5ECF6\",\"subunitcolor\":\"white\",\"showland\":true,\"showlakes\":true,\"lakecolor\":\"white\"},\"title\":{\"x\":0.05},\"mapbox\":{\"style\":\"light\"}}},\"xaxis\":{\"anchor\":\"y\",\"domain\":[0.0,1.0],\"title\":{\"text\":\"age\"}},\"yaxis\":{\"anchor\":\"x\",\"domain\":[0.0,1.0],\"title\":{\"text\":\"chol\"}},\"coloraxis\":{\"colorbar\":{\"title\":{\"text\":\"target\"}},\"colorscale\":[[0.0,\"#0d0887\"],[0.1111111111111111,\"#46039f\"],[0.2222222222222222,\"#7201a8\"],[0.3333333333333333,\"#9c179e\"],[0.4444444444444444,\"#bd3786\"],[0.5555555555555556,\"#d8576b\"],[0.6666666666666666,\"#ed7953\"],[0.7777777777777778,\"#fb9f3a\"],[0.8888888888888888,\"#fdca26\"],[1.0,\"#f0f921\"]]},\"legend\":{\"tracegroupgap\":0},\"title\":{\"text\":\"Age vs cholestrol (Females)\"}},                        {\"responsive\": true}                    ).then(function(){\n",
              "                            \n",
              "var gd = document.getElementById('8e17b541-040c-466d-9828-548583e340ba');\n",
              "var x = new MutationObserver(function (mutations, observer) {{\n",
              "        var display = window.getComputedStyle(gd).display;\n",
              "        if (!display || display === 'none') {{\n",
              "            console.log([gd, 'removed!']);\n",
              "            Plotly.purge(gd);\n",
              "            observer.disconnect();\n",
              "        }}\n",
              "}});\n",
              "\n",
              "// Listen for the removal of the full notebook cells\n",
              "var notebookContainer = gd.closest('#notebook-container');\n",
              "if (notebookContainer) {{\n",
              "    x.observe(notebookContainer, {childList: true});\n",
              "}}\n",
              "\n",
              "// Listen for the clearing of the current output cell\n",
              "var outputEl = gd.closest('.output');\n",
              "if (outputEl) {{\n",
              "    x.observe(outputEl, {childList: true});\n",
              "}}\n",
              "\n",
              "                        })                };                            </script>        </div>\n",
              "</body>\n",
              "</html>"
            ]
          },
          "metadata": {}
        }
      ]
    },
    {
      "cell_type": "markdown",
      "source": [
        "Filtering male Cholestrol"
      ],
      "metadata": {
        "id": "F0BSNb_cxuhr"
      }
    },
    {
      "cell_type": "code",
      "source": [
        "male=df[df['sex']==1]"
      ],
      "metadata": {
        "id": "3CCZ5-0vxyhP"
      },
      "execution_count": 129,
      "outputs": []
    },
    {
      "cell_type": "code",
      "source": [
        "male_high_col_sum=male[male['chol']>200].value_counts().sum()\n",
        "male_high_col_sum"
      ],
      "metadata": {
        "colab": {
          "base_uri": "https://localhost:8080/"
        },
        "id": "XJtTgY-JyBYa",
        "outputId": "ecae678c-b33b-4bd4-e14b-2081c22d778a"
      },
      "execution_count": 130,
      "outputs": [
        {
          "output_type": "execute_result",
          "data": {
            "text/plain": [
              "np.int64(586)"
            ]
          },
          "metadata": {},
          "execution_count": 130
        }
      ]
    },
    {
      "cell_type": "code",
      "source": [
        "male_high_col=male[male['chol']>200]"
      ],
      "metadata": {
        "id": "r324KefdzBo1"
      },
      "execution_count": 131,
      "outputs": []
    },
    {
      "cell_type": "code",
      "source": [
        "fig=px.scatter(male_high_col,x='age',y='chol',title='Age vs Cholestol (Male)')\n",
        "fig.update_traces(\n",
        "    marker=dict(symbol='circle',size=13,color='blue',\n",
        "                line=dict(width=2,color='light blue'))\n",
        ")\n",
        "fig.show()"
      ],
      "metadata": {
        "colab": {
          "base_uri": "https://localhost:8080/",
          "height": 542
        },
        "id": "WQFPgXN9yIJn",
        "outputId": "d9abf615-28b9-4ffe-bcb8-957a32b8b212"
      },
      "execution_count": 132,
      "outputs": [
        {
          "output_type": "display_data",
          "data": {
            "text/html": [
              "<html>\n",
              "<head><meta charset=\"utf-8\" /></head>\n",
              "<body>\n",
              "    <div>            <script src=\"https://cdnjs.cloudflare.com/ajax/libs/mathjax/2.7.5/MathJax.js?config=TeX-AMS-MML_SVG\"></script><script type=\"text/javascript\">if (window.MathJax && window.MathJax.Hub && window.MathJax.Hub.Config) {window.MathJax.Hub.Config({SVG: {font: \"STIX-Web\"}});}</script>                <script type=\"text/javascript\">window.PlotlyConfig = {MathJaxConfig: 'local'};</script>\n",
              "        <script charset=\"utf-8\" src=\"https://cdn.plot.ly/plotly-2.35.2.min.js\"></script>                <div id=\"9e8fcb6d-3fe0-47bd-96f7-7f0395eedf1e\" class=\"plotly-graph-div\" style=\"height:525px; width:100%;\"></div>            <script type=\"text/javascript\">                                    window.PLOTLYENV=window.PLOTLYENV || {};                                    if (document.getElementById(\"9e8fcb6d-3fe0-47bd-96f7-7f0395eedf1e\")) {                    Plotly.newPlot(                        \"9e8fcb6d-3fe0-47bd-96f7-7f0395eedf1e\",                        [{\"hovertemplate\":\"age=%{x}\\u003cbr\\u003echol=%{y}\\u003cextra\\u003e\\u003c\\u002fextra\\u003e\",\"legendgroup\":\"\",\"marker\":{\"color\":\"blue\",\"symbol\":\"circle\",\"line\":{\"color\":\"light blue\",\"width\":2},\"size\":13},\"mode\":\"markers\",\"name\":\"\",\"orientation\":\"v\",\"showlegend\":false,\"x\":[52,53,61,58,55,46,54,51,52,54,58,45,44,56,70,46,51,59,64,57,54,46,42,41,60,55,55,48,67,57,29,67,59,29,59,42,59,61,56,48,47,48,52,52,50,46,44,58,62,53,65,54,47,47,51,62,40,54,53,48,57,59,63,29,42,54,60,61,66,52,41,54,47,41,57,61,47,52,39,58,54,58,54,63,54,54,77,51,77,48,56,59,43,43,56,56,54,56,64,64,60,45,57,56,63,64,41,56,69,67,59,58,45,52,64,42,59,41,62,42,67,50,43,45,49,65,46,54,63,64,51,54,52,58,56,60,64,57,60,67,51,44,54,46,47,55,57,38,66,44,54,48,45,53,67,58,43,44,54,66,56,57,44,55,64,58,40,52,58,61,59,67,67,58,52,51,60,62,44,59,61,48,70,42,45,66,48,54,57,70,37,60,58,54,56,60,44,66,50,43,66,57,57,57,67,59,48,62,53,53,58,48,58,55,58,66,59,67,58,58,59,58,35,77,64,63,45,63,68,66,63,70,61,56,58,58,46,56,57,70,59,54,52,45,43,47,67,37,67,47,58,60,57,47,52,53,55,52,69,47,43,51,69,48,43,44,47,61,67,41,48,57,57,39,58,51,65,62,65,61,64,55,51,59,68,57,54,47,61,44,54,44,60,61,58,61,58,59,69,52,46,64,58,44,59,54,48,70,68,69,54,58,67,48,67,44,41,42,60,44,60,43,52,70,58,44,55,55,64,54,70,64,61,59,58,46,47,66,42,64,55,43,49,65,57,48,61,59,69,58,38,65,45,49,52,65,64,44,50,47,62,56,41,64,59,58,47,57,29,66,52,68,54,63,58,60,63,68,42,59,52,58,58,53,39,35,67,66,35,41,57,51,58,57,45,56,51,70,56,52,64,45,48,56,46,44,52,51,52,59,67,58,52,44,63,58,51,64,60,44,58,55,48,48,64,66,57,56,57,57,41,51,53,59,58,56,54,55,67,51,62,54,54,61,62,41,59,43,67,63,52,53,57,44,51,57,53,62,58,70,45,42,61,60,54,57,44,54,51,58,68,55,42,51,51,58,59,60,52,58,37,52,67,65,43,51,52,64,59,52,59,41,41,56,56,39,64,59,60,61,59,57,57,48,57,61,57,54,52,51,59,52,59,61,59,55,64,42,62,50,45,66,46,65,47,59,38,39,58,44,54,54,42,54,60,65,40,38,56,43,64,53,57,67,62,50,52,58,53,52,51,43,39,52,45,39,64,59,62,57,60,56,60,43,59,44,42,67,64,42,66,52,58,42,40,51,45,48,58,58,65,53,47,59,60,47],\"xaxis\":\"x\",\"y\":[212,203,203,318,289,249,286,298,204,266,211,208,233,256,269,231,213,271,263,229,258,249,226,203,230,217,217,245,212,232,204,299,212,204,288,315,326,207,249,256,257,255,201,201,233,231,220,211,208,282,248,309,257,275,299,281,223,206,226,256,335,218,254,204,295,309,282,260,302,223,203,309,257,235,274,234,204,298,321,318,283,300,258,330,309,258,304,222,304,274,249,326,315,247,283,240,239,283,246,211,293,308,289,249,254,309,250,221,234,286,212,234,260,298,227,244,218,250,281,240,299,243,315,308,266,254,311,286,254,211,261,232,205,300,236,258,227,261,230,212,245,219,283,311,275,353,289,231,302,226,232,222,208,282,237,224,211,263,206,228,283,207,219,289,211,224,223,223,259,243,212,299,237,270,325,227,282,267,220,218,260,256,269,244,309,246,245,283,276,322,250,206,270,273,256,253,226,246,243,247,302,335,201,261,286,204,222,231,246,246,230,229,240,353,284,228,221,237,218,224,239,270,282,304,246,233,264,330,274,228,233,245,207,256,211,234,231,249,276,322,288,273,223,309,247,243,212,250,229,253,284,293,274,253,205,246,289,230,234,243,247,261,254,255,211,219,275,243,286,214,229,289,229,321,216,298,248,281,254,243,309,353,245,234,274,232,239,243,260,290,206,220,206,203,220,203,230,270,234,325,249,227,259,235,204,273,229,322,277,254,286,234,254,222,237,290,214,240,282,290,258,247,298,322,218,235,262,353,309,286,269,212,203,221,284,311,253,212,315,212,217,303,266,248,274,256,234,270,254,224,231,282,264,266,212,282,263,226,243,243,267,283,235,309,271,318,204,261,204,246,212,277,258,330,234,253,254,274,295,326,204,300,240,203,219,282,212,212,282,214,201,227,216,229,264,221,213,245,256,233,335,260,274,221,311,220,230,227,204,239,229,300,255,235,330,220,222,335,230,226,220,262,245,255,246,228,276,221,335,335,203,222,282,204,218,240,232,289,254,298,281,239,239,234,208,203,288,303,229,233,230,226,276,233,227,261,203,208,240,245,260,244,207,253,239,229,233,266,222,220,277,217,315,213,261,230,273,293,255,284,250,255,229,282,303,299,230,335,288,212,273,250,235,240,236,321,227,273,206,207,271,207,232,274,289,260,201,239,204,299,270,201,234,234,218,262,246,226,267,233,208,212,249,254,253,204,231,219,218,263,239,206,240,266,206,254,223,231,240,315,335,226,207,286,231,233,233,259,203,325,245,211,219,205,309,219,263,234,231,232,293,236,230,247,239,263,315,254,212,226,212,233,211,295,223,299,308,229,318,216,282,282,204,221,258,275],\"yaxis\":\"y\",\"type\":\"scatter\"}],                        {\"template\":{\"data\":{\"histogram2dcontour\":[{\"type\":\"histogram2dcontour\",\"colorbar\":{\"outlinewidth\":0,\"ticks\":\"\"},\"colorscale\":[[0.0,\"#0d0887\"],[0.1111111111111111,\"#46039f\"],[0.2222222222222222,\"#7201a8\"],[0.3333333333333333,\"#9c179e\"],[0.4444444444444444,\"#bd3786\"],[0.5555555555555556,\"#d8576b\"],[0.6666666666666666,\"#ed7953\"],[0.7777777777777778,\"#fb9f3a\"],[0.8888888888888888,\"#fdca26\"],[1.0,\"#f0f921\"]]}],\"choropleth\":[{\"type\":\"choropleth\",\"colorbar\":{\"outlinewidth\":0,\"ticks\":\"\"}}],\"histogram2d\":[{\"type\":\"histogram2d\",\"colorbar\":{\"outlinewidth\":0,\"ticks\":\"\"},\"colorscale\":[[0.0,\"#0d0887\"],[0.1111111111111111,\"#46039f\"],[0.2222222222222222,\"#7201a8\"],[0.3333333333333333,\"#9c179e\"],[0.4444444444444444,\"#bd3786\"],[0.5555555555555556,\"#d8576b\"],[0.6666666666666666,\"#ed7953\"],[0.7777777777777778,\"#fb9f3a\"],[0.8888888888888888,\"#fdca26\"],[1.0,\"#f0f921\"]]}],\"heatmap\":[{\"type\":\"heatmap\",\"colorbar\":{\"outlinewidth\":0,\"ticks\":\"\"},\"colorscale\":[[0.0,\"#0d0887\"],[0.1111111111111111,\"#46039f\"],[0.2222222222222222,\"#7201a8\"],[0.3333333333333333,\"#9c179e\"],[0.4444444444444444,\"#bd3786\"],[0.5555555555555556,\"#d8576b\"],[0.6666666666666666,\"#ed7953\"],[0.7777777777777778,\"#fb9f3a\"],[0.8888888888888888,\"#fdca26\"],[1.0,\"#f0f921\"]]}],\"heatmapgl\":[{\"type\":\"heatmapgl\",\"colorbar\":{\"outlinewidth\":0,\"ticks\":\"\"},\"colorscale\":[[0.0,\"#0d0887\"],[0.1111111111111111,\"#46039f\"],[0.2222222222222222,\"#7201a8\"],[0.3333333333333333,\"#9c179e\"],[0.4444444444444444,\"#bd3786\"],[0.5555555555555556,\"#d8576b\"],[0.6666666666666666,\"#ed7953\"],[0.7777777777777778,\"#fb9f3a\"],[0.8888888888888888,\"#fdca26\"],[1.0,\"#f0f921\"]]}],\"contourcarpet\":[{\"type\":\"contourcarpet\",\"colorbar\":{\"outlinewidth\":0,\"ticks\":\"\"}}],\"contour\":[{\"type\":\"contour\",\"colorbar\":{\"outlinewidth\":0,\"ticks\":\"\"},\"colorscale\":[[0.0,\"#0d0887\"],[0.1111111111111111,\"#46039f\"],[0.2222222222222222,\"#7201a8\"],[0.3333333333333333,\"#9c179e\"],[0.4444444444444444,\"#bd3786\"],[0.5555555555555556,\"#d8576b\"],[0.6666666666666666,\"#ed7953\"],[0.7777777777777778,\"#fb9f3a\"],[0.8888888888888888,\"#fdca26\"],[1.0,\"#f0f921\"]]}],\"surface\":[{\"type\":\"surface\",\"colorbar\":{\"outlinewidth\":0,\"ticks\":\"\"},\"colorscale\":[[0.0,\"#0d0887\"],[0.1111111111111111,\"#46039f\"],[0.2222222222222222,\"#7201a8\"],[0.3333333333333333,\"#9c179e\"],[0.4444444444444444,\"#bd3786\"],[0.5555555555555556,\"#d8576b\"],[0.6666666666666666,\"#ed7953\"],[0.7777777777777778,\"#fb9f3a\"],[0.8888888888888888,\"#fdca26\"],[1.0,\"#f0f921\"]]}],\"mesh3d\":[{\"type\":\"mesh3d\",\"colorbar\":{\"outlinewidth\":0,\"ticks\":\"\"}}],\"scatter\":[{\"fillpattern\":{\"fillmode\":\"overlay\",\"size\":10,\"solidity\":0.2},\"type\":\"scatter\"}],\"parcoords\":[{\"type\":\"parcoords\",\"line\":{\"colorbar\":{\"outlinewidth\":0,\"ticks\":\"\"}}}],\"scatterpolargl\":[{\"type\":\"scatterpolargl\",\"marker\":{\"colorbar\":{\"outlinewidth\":0,\"ticks\":\"\"}}}],\"bar\":[{\"error_x\":{\"color\":\"#2a3f5f\"},\"error_y\":{\"color\":\"#2a3f5f\"},\"marker\":{\"line\":{\"color\":\"#E5ECF6\",\"width\":0.5},\"pattern\":{\"fillmode\":\"overlay\",\"size\":10,\"solidity\":0.2}},\"type\":\"bar\"}],\"scattergeo\":[{\"type\":\"scattergeo\",\"marker\":{\"colorbar\":{\"outlinewidth\":0,\"ticks\":\"\"}}}],\"scatterpolar\":[{\"type\":\"scatterpolar\",\"marker\":{\"colorbar\":{\"outlinewidth\":0,\"ticks\":\"\"}}}],\"histogram\":[{\"marker\":{\"pattern\":{\"fillmode\":\"overlay\",\"size\":10,\"solidity\":0.2}},\"type\":\"histogram\"}],\"scattergl\":[{\"type\":\"scattergl\",\"marker\":{\"colorbar\":{\"outlinewidth\":0,\"ticks\":\"\"}}}],\"scatter3d\":[{\"type\":\"scatter3d\",\"line\":{\"colorbar\":{\"outlinewidth\":0,\"ticks\":\"\"}},\"marker\":{\"colorbar\":{\"outlinewidth\":0,\"ticks\":\"\"}}}],\"scattermapbox\":[{\"type\":\"scattermapbox\",\"marker\":{\"colorbar\":{\"outlinewidth\":0,\"ticks\":\"\"}}}],\"scatterternary\":[{\"type\":\"scatterternary\",\"marker\":{\"colorbar\":{\"outlinewidth\":0,\"ticks\":\"\"}}}],\"scattercarpet\":[{\"type\":\"scattercarpet\",\"marker\":{\"colorbar\":{\"outlinewidth\":0,\"ticks\":\"\"}}}],\"carpet\":[{\"aaxis\":{\"endlinecolor\":\"#2a3f5f\",\"gridcolor\":\"white\",\"linecolor\":\"white\",\"minorgridcolor\":\"white\",\"startlinecolor\":\"#2a3f5f\"},\"baxis\":{\"endlinecolor\":\"#2a3f5f\",\"gridcolor\":\"white\",\"linecolor\":\"white\",\"minorgridcolor\":\"white\",\"startlinecolor\":\"#2a3f5f\"},\"type\":\"carpet\"}],\"table\":[{\"cells\":{\"fill\":{\"color\":\"#EBF0F8\"},\"line\":{\"color\":\"white\"}},\"header\":{\"fill\":{\"color\":\"#C8D4E3\"},\"line\":{\"color\":\"white\"}},\"type\":\"table\"}],\"barpolar\":[{\"marker\":{\"line\":{\"color\":\"#E5ECF6\",\"width\":0.5},\"pattern\":{\"fillmode\":\"overlay\",\"size\":10,\"solidity\":0.2}},\"type\":\"barpolar\"}],\"pie\":[{\"automargin\":true,\"type\":\"pie\"}]},\"layout\":{\"autotypenumbers\":\"strict\",\"colorway\":[\"#636efa\",\"#EF553B\",\"#00cc96\",\"#ab63fa\",\"#FFA15A\",\"#19d3f3\",\"#FF6692\",\"#B6E880\",\"#FF97FF\",\"#FECB52\"],\"font\":{\"color\":\"#2a3f5f\"},\"hovermode\":\"closest\",\"hoverlabel\":{\"align\":\"left\"},\"paper_bgcolor\":\"white\",\"plot_bgcolor\":\"#E5ECF6\",\"polar\":{\"bgcolor\":\"#E5ECF6\",\"angularaxis\":{\"gridcolor\":\"white\",\"linecolor\":\"white\",\"ticks\":\"\"},\"radialaxis\":{\"gridcolor\":\"white\",\"linecolor\":\"white\",\"ticks\":\"\"}},\"ternary\":{\"bgcolor\":\"#E5ECF6\",\"aaxis\":{\"gridcolor\":\"white\",\"linecolor\":\"white\",\"ticks\":\"\"},\"baxis\":{\"gridcolor\":\"white\",\"linecolor\":\"white\",\"ticks\":\"\"},\"caxis\":{\"gridcolor\":\"white\",\"linecolor\":\"white\",\"ticks\":\"\"}},\"coloraxis\":{\"colorbar\":{\"outlinewidth\":0,\"ticks\":\"\"}},\"colorscale\":{\"sequential\":[[0.0,\"#0d0887\"],[0.1111111111111111,\"#46039f\"],[0.2222222222222222,\"#7201a8\"],[0.3333333333333333,\"#9c179e\"],[0.4444444444444444,\"#bd3786\"],[0.5555555555555556,\"#d8576b\"],[0.6666666666666666,\"#ed7953\"],[0.7777777777777778,\"#fb9f3a\"],[0.8888888888888888,\"#fdca26\"],[1.0,\"#f0f921\"]],\"sequentialminus\":[[0.0,\"#0d0887\"],[0.1111111111111111,\"#46039f\"],[0.2222222222222222,\"#7201a8\"],[0.3333333333333333,\"#9c179e\"],[0.4444444444444444,\"#bd3786\"],[0.5555555555555556,\"#d8576b\"],[0.6666666666666666,\"#ed7953\"],[0.7777777777777778,\"#fb9f3a\"],[0.8888888888888888,\"#fdca26\"],[1.0,\"#f0f921\"]],\"diverging\":[[0,\"#8e0152\"],[0.1,\"#c51b7d\"],[0.2,\"#de77ae\"],[0.3,\"#f1b6da\"],[0.4,\"#fde0ef\"],[0.5,\"#f7f7f7\"],[0.6,\"#e6f5d0\"],[0.7,\"#b8e186\"],[0.8,\"#7fbc41\"],[0.9,\"#4d9221\"],[1,\"#276419\"]]},\"xaxis\":{\"gridcolor\":\"white\",\"linecolor\":\"white\",\"ticks\":\"\",\"title\":{\"standoff\":15},\"zerolinecolor\":\"white\",\"automargin\":true,\"zerolinewidth\":2},\"yaxis\":{\"gridcolor\":\"white\",\"linecolor\":\"white\",\"ticks\":\"\",\"title\":{\"standoff\":15},\"zerolinecolor\":\"white\",\"automargin\":true,\"zerolinewidth\":2},\"scene\":{\"xaxis\":{\"backgroundcolor\":\"#E5ECF6\",\"gridcolor\":\"white\",\"linecolor\":\"white\",\"showbackground\":true,\"ticks\":\"\",\"zerolinecolor\":\"white\",\"gridwidth\":2},\"yaxis\":{\"backgroundcolor\":\"#E5ECF6\",\"gridcolor\":\"white\",\"linecolor\":\"white\",\"showbackground\":true,\"ticks\":\"\",\"zerolinecolor\":\"white\",\"gridwidth\":2},\"zaxis\":{\"backgroundcolor\":\"#E5ECF6\",\"gridcolor\":\"white\",\"linecolor\":\"white\",\"showbackground\":true,\"ticks\":\"\",\"zerolinecolor\":\"white\",\"gridwidth\":2}},\"shapedefaults\":{\"line\":{\"color\":\"#2a3f5f\"}},\"annotationdefaults\":{\"arrowcolor\":\"#2a3f5f\",\"arrowhead\":0,\"arrowwidth\":1},\"geo\":{\"bgcolor\":\"white\",\"landcolor\":\"#E5ECF6\",\"subunitcolor\":\"white\",\"showland\":true,\"showlakes\":true,\"lakecolor\":\"white\"},\"title\":{\"x\":0.05},\"mapbox\":{\"style\":\"light\"}}},\"xaxis\":{\"anchor\":\"y\",\"domain\":[0.0,1.0],\"title\":{\"text\":\"age\"}},\"yaxis\":{\"anchor\":\"x\",\"domain\":[0.0,1.0],\"title\":{\"text\":\"chol\"}},\"legend\":{\"tracegroupgap\":0},\"title\":{\"text\":\"Age vs Cholestol (Male)\"}},                        {\"responsive\": true}                    ).then(function(){\n",
              "                            \n",
              "var gd = document.getElementById('9e8fcb6d-3fe0-47bd-96f7-7f0395eedf1e');\n",
              "var x = new MutationObserver(function (mutations, observer) {{\n",
              "        var display = window.getComputedStyle(gd).display;\n",
              "        if (!display || display === 'none') {{\n",
              "            console.log([gd, 'removed!']);\n",
              "            Plotly.purge(gd);\n",
              "            observer.disconnect();\n",
              "        }}\n",
              "}});\n",
              "\n",
              "// Listen for the removal of the full notebook cells\n",
              "var notebookContainer = gd.closest('#notebook-container');\n",
              "if (notebookContainer) {{\n",
              "    x.observe(notebookContainer, {childList: true});\n",
              "}}\n",
              "\n",
              "// Listen for the clearing of the current output cell\n",
              "var outputEl = gd.closest('.output');\n",
              "if (outputEl) {{\n",
              "    x.observe(outputEl, {childList: true});\n",
              "}}\n",
              "\n",
              "                        })                };                            </script>        </div>\n",
              "</body>\n",
              "</html>"
            ]
          },
          "metadata": {}
        }
      ]
    },
    {
      "cell_type": "code",
      "source": [
        "fig = px.bar(df.groupby('sex')['chol'].mean().reset_index(),\n",
        "             x='sex', y='chol', title='Avg Cholesterol by Gender')\n",
        "fig.show()"
      ],
      "metadata": {
        "colab": {
          "base_uri": "https://localhost:8080/",
          "height": 542
        },
        "id": "kUHzFVbN6PcG",
        "outputId": "6d72c1fd-6533-4f3c-ee9a-90b86da8c097"
      },
      "execution_count": 133,
      "outputs": [
        {
          "output_type": "display_data",
          "data": {
            "text/html": [
              "<html>\n",
              "<head><meta charset=\"utf-8\" /></head>\n",
              "<body>\n",
              "    <div>            <script src=\"https://cdnjs.cloudflare.com/ajax/libs/mathjax/2.7.5/MathJax.js?config=TeX-AMS-MML_SVG\"></script><script type=\"text/javascript\">if (window.MathJax && window.MathJax.Hub && window.MathJax.Hub.Config) {window.MathJax.Hub.Config({SVG: {font: \"STIX-Web\"}});}</script>                <script type=\"text/javascript\">window.PlotlyConfig = {MathJaxConfig: 'local'};</script>\n",
              "        <script charset=\"utf-8\" src=\"https://cdn.plot.ly/plotly-2.35.2.min.js\"></script>                <div id=\"01757920-c350-444b-bece-8b27c750f214\" class=\"plotly-graph-div\" style=\"height:525px; width:100%;\"></div>            <script type=\"text/javascript\">                                    window.PLOTLYENV=window.PLOTLYENV || {};                                    if (document.getElementById(\"01757920-c350-444b-bece-8b27c750f214\")) {                    Plotly.newPlot(                        \"01757920-c350-444b-bece-8b27c750f214\",                        [{\"alignmentgroup\":\"True\",\"hovertemplate\":\"sex=%{x}\\u003cbr\\u003echol=%{y}\\u003cextra\\u003e\\u003c\\u002fextra\\u003e\",\"legendgroup\":\"\",\"marker\":{\"color\":\"#636efa\",\"pattern\":{\"shape\":\"\"}},\"name\":\"\",\"offsetgroup\":\"\",\"orientation\":\"v\",\"showlegend\":false,\"textposition\":\"auto\",\"x\":[0,1],\"xaxis\":\"x\",\"y\":[261.45512820512823,239.23702664796633],\"yaxis\":\"y\",\"type\":\"bar\"}],                        {\"template\":{\"data\":{\"histogram2dcontour\":[{\"type\":\"histogram2dcontour\",\"colorbar\":{\"outlinewidth\":0,\"ticks\":\"\"},\"colorscale\":[[0.0,\"#0d0887\"],[0.1111111111111111,\"#46039f\"],[0.2222222222222222,\"#7201a8\"],[0.3333333333333333,\"#9c179e\"],[0.4444444444444444,\"#bd3786\"],[0.5555555555555556,\"#d8576b\"],[0.6666666666666666,\"#ed7953\"],[0.7777777777777778,\"#fb9f3a\"],[0.8888888888888888,\"#fdca26\"],[1.0,\"#f0f921\"]]}],\"choropleth\":[{\"type\":\"choropleth\",\"colorbar\":{\"outlinewidth\":0,\"ticks\":\"\"}}],\"histogram2d\":[{\"type\":\"histogram2d\",\"colorbar\":{\"outlinewidth\":0,\"ticks\":\"\"},\"colorscale\":[[0.0,\"#0d0887\"],[0.1111111111111111,\"#46039f\"],[0.2222222222222222,\"#7201a8\"],[0.3333333333333333,\"#9c179e\"],[0.4444444444444444,\"#bd3786\"],[0.5555555555555556,\"#d8576b\"],[0.6666666666666666,\"#ed7953\"],[0.7777777777777778,\"#fb9f3a\"],[0.8888888888888888,\"#fdca26\"],[1.0,\"#f0f921\"]]}],\"heatmap\":[{\"type\":\"heatmap\",\"colorbar\":{\"outlinewidth\":0,\"ticks\":\"\"},\"colorscale\":[[0.0,\"#0d0887\"],[0.1111111111111111,\"#46039f\"],[0.2222222222222222,\"#7201a8\"],[0.3333333333333333,\"#9c179e\"],[0.4444444444444444,\"#bd3786\"],[0.5555555555555556,\"#d8576b\"],[0.6666666666666666,\"#ed7953\"],[0.7777777777777778,\"#fb9f3a\"],[0.8888888888888888,\"#fdca26\"],[1.0,\"#f0f921\"]]}],\"heatmapgl\":[{\"type\":\"heatmapgl\",\"colorbar\":{\"outlinewidth\":0,\"ticks\":\"\"},\"colorscale\":[[0.0,\"#0d0887\"],[0.1111111111111111,\"#46039f\"],[0.2222222222222222,\"#7201a8\"],[0.3333333333333333,\"#9c179e\"],[0.4444444444444444,\"#bd3786\"],[0.5555555555555556,\"#d8576b\"],[0.6666666666666666,\"#ed7953\"],[0.7777777777777778,\"#fb9f3a\"],[0.8888888888888888,\"#fdca26\"],[1.0,\"#f0f921\"]]}],\"contourcarpet\":[{\"type\":\"contourcarpet\",\"colorbar\":{\"outlinewidth\":0,\"ticks\":\"\"}}],\"contour\":[{\"type\":\"contour\",\"colorbar\":{\"outlinewidth\":0,\"ticks\":\"\"},\"colorscale\":[[0.0,\"#0d0887\"],[0.1111111111111111,\"#46039f\"],[0.2222222222222222,\"#7201a8\"],[0.3333333333333333,\"#9c179e\"],[0.4444444444444444,\"#bd3786\"],[0.5555555555555556,\"#d8576b\"],[0.6666666666666666,\"#ed7953\"],[0.7777777777777778,\"#fb9f3a\"],[0.8888888888888888,\"#fdca26\"],[1.0,\"#f0f921\"]]}],\"surface\":[{\"type\":\"surface\",\"colorbar\":{\"outlinewidth\":0,\"ticks\":\"\"},\"colorscale\":[[0.0,\"#0d0887\"],[0.1111111111111111,\"#46039f\"],[0.2222222222222222,\"#7201a8\"],[0.3333333333333333,\"#9c179e\"],[0.4444444444444444,\"#bd3786\"],[0.5555555555555556,\"#d8576b\"],[0.6666666666666666,\"#ed7953\"],[0.7777777777777778,\"#fb9f3a\"],[0.8888888888888888,\"#fdca26\"],[1.0,\"#f0f921\"]]}],\"mesh3d\":[{\"type\":\"mesh3d\",\"colorbar\":{\"outlinewidth\":0,\"ticks\":\"\"}}],\"scatter\":[{\"fillpattern\":{\"fillmode\":\"overlay\",\"size\":10,\"solidity\":0.2},\"type\":\"scatter\"}],\"parcoords\":[{\"type\":\"parcoords\",\"line\":{\"colorbar\":{\"outlinewidth\":0,\"ticks\":\"\"}}}],\"scatterpolargl\":[{\"type\":\"scatterpolargl\",\"marker\":{\"colorbar\":{\"outlinewidth\":0,\"ticks\":\"\"}}}],\"bar\":[{\"error_x\":{\"color\":\"#2a3f5f\"},\"error_y\":{\"color\":\"#2a3f5f\"},\"marker\":{\"line\":{\"color\":\"#E5ECF6\",\"width\":0.5},\"pattern\":{\"fillmode\":\"overlay\",\"size\":10,\"solidity\":0.2}},\"type\":\"bar\"}],\"scattergeo\":[{\"type\":\"scattergeo\",\"marker\":{\"colorbar\":{\"outlinewidth\":0,\"ticks\":\"\"}}}],\"scatterpolar\":[{\"type\":\"scatterpolar\",\"marker\":{\"colorbar\":{\"outlinewidth\":0,\"ticks\":\"\"}}}],\"histogram\":[{\"marker\":{\"pattern\":{\"fillmode\":\"overlay\",\"size\":10,\"solidity\":0.2}},\"type\":\"histogram\"}],\"scattergl\":[{\"type\":\"scattergl\",\"marker\":{\"colorbar\":{\"outlinewidth\":0,\"ticks\":\"\"}}}],\"scatter3d\":[{\"type\":\"scatter3d\",\"line\":{\"colorbar\":{\"outlinewidth\":0,\"ticks\":\"\"}},\"marker\":{\"colorbar\":{\"outlinewidth\":0,\"ticks\":\"\"}}}],\"scattermapbox\":[{\"type\":\"scattermapbox\",\"marker\":{\"colorbar\":{\"outlinewidth\":0,\"ticks\":\"\"}}}],\"scatterternary\":[{\"type\":\"scatterternary\",\"marker\":{\"colorbar\":{\"outlinewidth\":0,\"ticks\":\"\"}}}],\"scattercarpet\":[{\"type\":\"scattercarpet\",\"marker\":{\"colorbar\":{\"outlinewidth\":0,\"ticks\":\"\"}}}],\"carpet\":[{\"aaxis\":{\"endlinecolor\":\"#2a3f5f\",\"gridcolor\":\"white\",\"linecolor\":\"white\",\"minorgridcolor\":\"white\",\"startlinecolor\":\"#2a3f5f\"},\"baxis\":{\"endlinecolor\":\"#2a3f5f\",\"gridcolor\":\"white\",\"linecolor\":\"white\",\"minorgridcolor\":\"white\",\"startlinecolor\":\"#2a3f5f\"},\"type\":\"carpet\"}],\"table\":[{\"cells\":{\"fill\":{\"color\":\"#EBF0F8\"},\"line\":{\"color\":\"white\"}},\"header\":{\"fill\":{\"color\":\"#C8D4E3\"},\"line\":{\"color\":\"white\"}},\"type\":\"table\"}],\"barpolar\":[{\"marker\":{\"line\":{\"color\":\"#E5ECF6\",\"width\":0.5},\"pattern\":{\"fillmode\":\"overlay\",\"size\":10,\"solidity\":0.2}},\"type\":\"barpolar\"}],\"pie\":[{\"automargin\":true,\"type\":\"pie\"}]},\"layout\":{\"autotypenumbers\":\"strict\",\"colorway\":[\"#636efa\",\"#EF553B\",\"#00cc96\",\"#ab63fa\",\"#FFA15A\",\"#19d3f3\",\"#FF6692\",\"#B6E880\",\"#FF97FF\",\"#FECB52\"],\"font\":{\"color\":\"#2a3f5f\"},\"hovermode\":\"closest\",\"hoverlabel\":{\"align\":\"left\"},\"paper_bgcolor\":\"white\",\"plot_bgcolor\":\"#E5ECF6\",\"polar\":{\"bgcolor\":\"#E5ECF6\",\"angularaxis\":{\"gridcolor\":\"white\",\"linecolor\":\"white\",\"ticks\":\"\"},\"radialaxis\":{\"gridcolor\":\"white\",\"linecolor\":\"white\",\"ticks\":\"\"}},\"ternary\":{\"bgcolor\":\"#E5ECF6\",\"aaxis\":{\"gridcolor\":\"white\",\"linecolor\":\"white\",\"ticks\":\"\"},\"baxis\":{\"gridcolor\":\"white\",\"linecolor\":\"white\",\"ticks\":\"\"},\"caxis\":{\"gridcolor\":\"white\",\"linecolor\":\"white\",\"ticks\":\"\"}},\"coloraxis\":{\"colorbar\":{\"outlinewidth\":0,\"ticks\":\"\"}},\"colorscale\":{\"sequential\":[[0.0,\"#0d0887\"],[0.1111111111111111,\"#46039f\"],[0.2222222222222222,\"#7201a8\"],[0.3333333333333333,\"#9c179e\"],[0.4444444444444444,\"#bd3786\"],[0.5555555555555556,\"#d8576b\"],[0.6666666666666666,\"#ed7953\"],[0.7777777777777778,\"#fb9f3a\"],[0.8888888888888888,\"#fdca26\"],[1.0,\"#f0f921\"]],\"sequentialminus\":[[0.0,\"#0d0887\"],[0.1111111111111111,\"#46039f\"],[0.2222222222222222,\"#7201a8\"],[0.3333333333333333,\"#9c179e\"],[0.4444444444444444,\"#bd3786\"],[0.5555555555555556,\"#d8576b\"],[0.6666666666666666,\"#ed7953\"],[0.7777777777777778,\"#fb9f3a\"],[0.8888888888888888,\"#fdca26\"],[1.0,\"#f0f921\"]],\"diverging\":[[0,\"#8e0152\"],[0.1,\"#c51b7d\"],[0.2,\"#de77ae\"],[0.3,\"#f1b6da\"],[0.4,\"#fde0ef\"],[0.5,\"#f7f7f7\"],[0.6,\"#e6f5d0\"],[0.7,\"#b8e186\"],[0.8,\"#7fbc41\"],[0.9,\"#4d9221\"],[1,\"#276419\"]]},\"xaxis\":{\"gridcolor\":\"white\",\"linecolor\":\"white\",\"ticks\":\"\",\"title\":{\"standoff\":15},\"zerolinecolor\":\"white\",\"automargin\":true,\"zerolinewidth\":2},\"yaxis\":{\"gridcolor\":\"white\",\"linecolor\":\"white\",\"ticks\":\"\",\"title\":{\"standoff\":15},\"zerolinecolor\":\"white\",\"automargin\":true,\"zerolinewidth\":2},\"scene\":{\"xaxis\":{\"backgroundcolor\":\"#E5ECF6\",\"gridcolor\":\"white\",\"linecolor\":\"white\",\"showbackground\":true,\"ticks\":\"\",\"zerolinecolor\":\"white\",\"gridwidth\":2},\"yaxis\":{\"backgroundcolor\":\"#E5ECF6\",\"gridcolor\":\"white\",\"linecolor\":\"white\",\"showbackground\":true,\"ticks\":\"\",\"zerolinecolor\":\"white\",\"gridwidth\":2},\"zaxis\":{\"backgroundcolor\":\"#E5ECF6\",\"gridcolor\":\"white\",\"linecolor\":\"white\",\"showbackground\":true,\"ticks\":\"\",\"zerolinecolor\":\"white\",\"gridwidth\":2}},\"shapedefaults\":{\"line\":{\"color\":\"#2a3f5f\"}},\"annotationdefaults\":{\"arrowcolor\":\"#2a3f5f\",\"arrowhead\":0,\"arrowwidth\":1},\"geo\":{\"bgcolor\":\"white\",\"landcolor\":\"#E5ECF6\",\"subunitcolor\":\"white\",\"showland\":true,\"showlakes\":true,\"lakecolor\":\"white\"},\"title\":{\"x\":0.05},\"mapbox\":{\"style\":\"light\"}}},\"xaxis\":{\"anchor\":\"y\",\"domain\":[0.0,1.0],\"title\":{\"text\":\"sex\"}},\"yaxis\":{\"anchor\":\"x\",\"domain\":[0.0,1.0],\"title\":{\"text\":\"chol\"}},\"legend\":{\"tracegroupgap\":0},\"title\":{\"text\":\"Avg Cholesterol by Gender\"},\"barmode\":\"relative\"},                        {\"responsive\": true}                    ).then(function(){\n",
              "                            \n",
              "var gd = document.getElementById('01757920-c350-444b-bece-8b27c750f214');\n",
              "var x = new MutationObserver(function (mutations, observer) {{\n",
              "        var display = window.getComputedStyle(gd).display;\n",
              "        if (!display || display === 'none') {{\n",
              "            console.log([gd, 'removed!']);\n",
              "            Plotly.purge(gd);\n",
              "            observer.disconnect();\n",
              "        }}\n",
              "}});\n",
              "\n",
              "// Listen for the removal of the full notebook cells\n",
              "var notebookContainer = gd.closest('#notebook-container');\n",
              "if (notebookContainer) {{\n",
              "    x.observe(notebookContainer, {childList: true});\n",
              "}}\n",
              "\n",
              "// Listen for the clearing of the current output cell\n",
              "var outputEl = gd.closest('.output');\n",
              "if (outputEl) {{\n",
              "    x.observe(outputEl, {childList: true});\n",
              "}}\n",
              "\n",
              "                        })                };                            </script>        </div>\n",
              "</body>\n",
              "</html>"
            ]
          },
          "metadata": {}
        }
      ]
    },
    {
      "cell_type": "markdown",
      "source": [
        "Drill Down"
      ],
      "metadata": {
        "id": "QRTyd8bHMWJN"
      }
    },
    {
      "cell_type": "code",
      "source": [
        "app = dash.Dash(__name__)\n",
        "\n",
        "\n",
        "fig1 = px.bar(df.groupby('sex')['thalach'].mean().reset_index(),\n",
        "              x='sex', y='thalach', title='Max Heart rate by Gender')\n",
        "\n",
        "app.layout = html.Div([\n",
        "    dcc.Graph(id='main-plot', figure=fig1),\n",
        "    dcc.Graph(id='detail-plot')\n",
        "])\n",
        "\n",
        "@app.callback(\n",
        "    Output('detail-plot', 'figure'),\n",
        "    Input('main-plot', 'clickData')\n",
        ")\n",
        "def update_detail_plot(clickData):\n",
        "    if clickData is None:\n",
        "        return px.scatter(title=\"Click a bar to drill down\")\n",
        "\n",
        "    selected_sex = int(clickData['points'][0]['x'])\n",
        "    filtered_df = df[df['sex'] == selected_sex]\n",
        "\n",
        "    fig = px.scatter(filtered_df, x='age', y='thalach', color='target',\n",
        "                     title=f'Max Heart Rate vs Age (Sex = {selected_sex})')\n",
        "\n",
        "    fig.update_traces(\n",
        "        marker=dict(size=12, symbol='circle', line=dict(width=2, color='darkblue'))\n",
        "    )\n",
        "\n",
        "    return fig\n",
        "\n",
        "if __name__ == '__main__':\n",
        "    app.run(debug=True)\n",
        "\n"
      ],
      "metadata": {
        "colab": {
          "base_uri": "https://localhost:8080/",
          "height": 671
        },
        "id": "3F0eaID77Yip",
        "outputId": "bfa575ad-2fbf-4abd-c3f9-7498f987ce4e"
      },
      "execution_count": 134,
      "outputs": [
        {
          "output_type": "display_data",
          "data": {
            "text/plain": [
              "<IPython.core.display.Javascript object>"
            ],
            "application/javascript": [
              "(async (port, path, width, height, cache, element) => {\n",
              "    if (!google.colab.kernel.accessAllowed && !cache) {\n",
              "      return;\n",
              "    }\n",
              "    element.appendChild(document.createTextNode(''));\n",
              "    const url = await google.colab.kernel.proxyPort(port, {cache});\n",
              "    const iframe = document.createElement('iframe');\n",
              "    iframe.src = new URL(path, url).toString();\n",
              "    iframe.height = height;\n",
              "    iframe.width = width;\n",
              "    iframe.style.border = 0;\n",
              "    iframe.allow = [\n",
              "        'accelerometer',\n",
              "        'autoplay',\n",
              "        'camera',\n",
              "        'clipboard-read',\n",
              "        'clipboard-write',\n",
              "        'gyroscope',\n",
              "        'magnetometer',\n",
              "        'microphone',\n",
              "        'serial',\n",
              "        'usb',\n",
              "        'xr-spatial-tracking',\n",
              "    ].join('; ');\n",
              "    element.appendChild(iframe);\n",
              "  })(8050, \"/\", \"100%\", 650, false, window.element)"
            ]
          },
          "metadata": {}
        }
      ]
    },
    {
      "cell_type": "code",
      "source": [
        "sns.displot(df, x='chol', hue='target', kind='kde', fill=True)\n",
        "plt.title(\"Cholesterol Distribution by Heart Disease\")\n",
        "plt.show()"
      ],
      "metadata": {
        "colab": {
          "base_uri": "https://localhost:8080/",
          "height": 529
        },
        "id": "lltKZjNNOiHm",
        "outputId": "0951cee2-ac39-41f9-a234-41f214085da0"
      },
      "execution_count": 135,
      "outputs": [
        {
          "output_type": "display_data",
          "data": {
            "text/plain": [
              "<Figure size 558.875x500 with 1 Axes>"
            ],
            "image/png": "[encoded data removed]"
          },
          "metadata": {}
        }
      ]
    },
    {
      "cell_type": "code",
      "source": [
        "fig = go.Figure()\n",
        "\n",
        "for t in df['target'].unique():\n",
        "    fig.add_trace(go.Box(\n",
        "        y=df[df['target'] == t]['oldpeak'],\n",
        "        name=f'Target {t}',\n",
        "        boxmean=True\n",
        "    ))\n",
        "\n",
        "fig.update_layout(title='Oldpeak Distribution by Target',\n",
        "                  yaxis_title='Oldpeak')\n",
        "fig.show()\n"
      ],
      "metadata": {
        "colab": {
          "base_uri": "https://localhost:8080/",
          "height": 542
        },
        "id": "_45UI5yy2U2i",
        "outputId": "48541061-48f8-4f8b-c2cf-9dc09811619b"
      },
      "execution_count": 136,
      "outputs": [
        {
          "output_type": "display_data",
          "data": {
            "text/html": [
              "<html>\n",
              "<head><meta charset=\"utf-8\" /></head>\n",
              "<body>\n",
              "    <div>            <script src=\"https://cdnjs.cloudflare.com/ajax/libs/mathjax/2.7.5/MathJax.js?config=TeX-AMS-MML_SVG\"></script><script type=\"text/javascript\">if (window.MathJax && window.MathJax.Hub && window.MathJax.Hub.Config) {window.MathJax.Hub.Config({SVG: {font: \"STIX-Web\"}});}</script>                <script type=\"text/javascript\">window.PlotlyConfig = {MathJaxConfig: 'local'};</script>\n",
              "        <script charset=\"utf-8\" src=\"https://cdn.plot.ly/plotly-2.35.2.min.js\"></script>                <div id=\"522634da-c157-48ba-8ab3-992eae1a14dc\" class=\"plotly-graph-div\" style=\"height:525px; width:100%;\"></div>            <script type=\"text/javascript\">                                    window.PLOTLYENV=window.PLOTLYENV || {};                                    if (document.getElementById(\"522634da-c157-48ba-8ab3-992eae1a14dc\")) {                    Plotly.newPlot(                        \"522634da-c157-48ba-8ab3-992eae1a14dc\",                        [{\"boxmean\":true,\"name\":\"Target 0\",\"y\":[1.0,3.1,2.6,0.0,1.9,4.4,0.8,0.8,3.2,3.0,4.2,1.0,2.2,3.0,1.0,0.0,0.6,3.4,2.8,1.2,2.9,3.6,0.4,0.0,0.8,1.0,1.4,0.2,2.0,5.6,5.6,0.8,0.0,0.9,0.2,1.8,6.2,3.4,1.9,1.2,0.0,0.0,4.0,0.6,0.8,3.6,0.0,3.6,3.4,4.0,2.8,2.0,0.6,1.0,1.6,1.4,0.0,0.0,0.0,0.0,3.0,2.2,1.0,1.4,2.5,2.8,2.8,3.6,2.8,1.2,0.0,2.6,2.0,0.0,4.4,0.0,0.0,1.8,0.0,0.0,0.5,1.2,3.4,2.1,1.6,2.8,4.0,1.6,2.2,0.0,1.9,4.0,1.2,1.0,2.0,1.2,1.4,1.8,1.5,0.1,0.9,2.2,1.4,0.9,2.6,2.8,1.8,3.2,0.0,1.4,0.8,1.0,0.0,2.8,0.8,0.3,1.4,1.4,0.8,3.0,0.0,1.8,1.0,1.2,1.0,1.6,3.8,2.8,2.0,1.0,3.2,0.0,1.6,0.8,3.2,0.0,3.0,4.0,0.9,1.0,0.8,2.8,1.8,2.2,3.6,0.0,2.9,0.0,0.0,0.0,0.0,0.6,2.4,1.8,2.4,0.8,0.6,1.4,0.0,2.6,0.1,1.2,0.9,3.0,0.3,1.0,1.5,0.8,0.0,2.5,1.0,3.0,1.2,1.8,1.0,2.0,3.2,1.2,0.8,0.0,0.0,2.2,0.0,1.2,6.2,1.8,1.6,2.0,2.0,1.9,0.6,0.1,3.6,1.2,0.6,2.4,0.2,0.0,0.0,1.2,0.1,0.0,0.8,1.0,0.0,2.6,1.8,1.4,1.2,1.2,0.8,0.0,4.0,1.0,1.0,0.0,2.0,1.0,1.5,1.0,1.0,0.4,2.2,1.2,4.0,4.2,0.6,1.4,0.0,2.8,1.8,1.2,1.6,0.0,0.0,3.6,4.0,3.4,2.5,0.0,0.0,2.0,2.4,2.0,0.0,0.0,0.0,2.5,6.2,2.6,0.0,0.8,3.0,0.8,1.0,2.4,2.0,3.2,3.0,0.1,0.2,0.0,1.0,0.0,2.1,2.8,0.0,2.8,2.4,2.0,2.5,1.2,1.8,1.0,1.0,3.2,1.8,2.9,1.8,2.0,0.0,1.8,1.2,1.8,0.1,1.8,2.0,3.4,3.0,2.0,2.8,5.6,1.2,0.6,1.2,0.0,1.9,2.6,2.0,3.2,3.8,1.4,1.2,3.6,1.0,0.0,1.4,1.9,2.6,0.0,1.8,1.6,0.0,1.8,3.6,4.4,0.3,0.0,0.0,1.0,1.8,0.1,1.4,1.4,1.6,3.4,1.0,2.5,3.0,4.0,1.0,0.0,4.0,3.1,1.2,0.0,0.8,0.1,0.0,1.6,2.2,0.4,1.2,1.6,2.0,0.6,0.0,2.6,0.5,1.8,0.0,1.0,1.2,2.6,0.0,0.0,1.8,0.0,1.4,2.2,0.0,0.6,4.0,3.0,3.0,3.4,1.4,1.0,1.0,2.0,0.8,2.8,2.0,0.8,0.2,4.2,1.9,1.4,2.8,2.8,3.4,2.6,1.0,0.2,2.6,0.0,0.0,0.6,2.0,0.3,3.6,3.1,2.8,1.9,3.6,1.4,3.6,0.4,2.2,5.6,1.8,0.8,2.6,2.5,0.0,1.2,2.1,3.6,0.0,1.8,0.0,2.6,1.4,1.6,0.0,0.0,0.2,1.0,0.0,0.0,2.4,1.9,1.4,0.0,1.2,0.5,2.6,1.0,3.6,2.6,4.0,2.0,2.8,1.0,1.6,1.2,2.6,3.6,2.2,2.2,1.8,0.9,0.6,0.0,1.6,0.1,0.8,2.8,0.8,3.8,1.2,2.0,0.0,1.2,0.0,2.2,2.4,2.8,0.0,3.8,0.0,0.2,1.0,2.6,1.5,1.2,0.6,0.2,3.0,3.1,1.2,1.8,0.0,0.0,1.2,3.4,0.0,1.2,1.4,0.1,1.2,1.9,1.4,1.8,0.2,2.0,0.1,2.0,0.0,1.6,1.0,4.4,2.2,1.4,2.0,0.0,2.8,1.0,1.4],\"type\":\"box\"},{\"boxmean\":true,\"name\":\"Target 1\",\"y\":[1.0,1.6,0.7,0.7,1.5,1.1,0.0,0.3,3.0,0.0,0.0,0.4,1.1,0.0,1.4,0.0,0.2,0.8,0.4,1.2,0.0,0.0,0.0,1.0,0.0,1.9,0.2,0.0,0.0,1.6,0.0,1.2,0.0,0.0,0.0,0.8,0.8,0.0,0.0,0.0,0.0,0.0,0.0,0.0,0.2,0.0,1.1,0.2,0.2,0.0,0.0,0.0,0.0,0.0,0.0,0.0,0.8,0.9,0.4,1.2,0.0,0.4,0.9,0.5,0.0,0.0,0.0,1.2,0.0,0.0,0.0,0.0,0.1,0.6,1.2,0.0,0.4,0.0,1.4,0.4,1.6,0.0,1.2,0.6,1.9,0.0,1.5,0.0,0.0,1.8,0.0,0.0,0.0,0.0,1.6,0.1,1.6,0.0,0.0,0.0,0.0,1.2,0.6,0.0,0.8,0.0,0.0,0.8,1.9,0.0,0.6,0.0,1.8,0.0,0.0,1.6,0.3,0.0,0.8,0.0,0.0,0.6,0.0,0.0,2.4,0.0,0.0,0.0,0.0,1.2,1.4,0.0,0.4,0.0,1.6,0.0,1.2,3.0,0.0,0.0,0.0,0.0,2.3,0.0,0.0,0.0,0.6,0.0,1.4,1.8,0.0,0.2,0.4,0.0,0.0,1.0,1.6,0.0,0.2,0.0,0.0,1.2,0.1,0.3,0.0,1.3,0.2,1.4,0.8,0.2,0.0,0.0,0.4,0.2,0.2,1.3,0.0,0.0,3.5,1.6,0.2,0.5,0.0,0.0,0.8,0.5,0.0,0.0,0.4,1.5,0.0,0.0,0.0,1.8,0.2,0.0,0.0,0.6,0.6,1.6,1.4,2.3,0.0,2.0,0.0,0.6,0.0,2.3,0.6,0.0,2.3,2.3,1.6,0.0,0.0,0.0,0.0,0.0,1.4,0.5,0.0,0.0,0.8,0.0,0.6,0.6,0.0,1.6,0.0,3.5,0.0,0.6,0.0,1.6,0.0,0.0,0.0,0.6,0.0,0.0,0.1,0.0,1.5,0.0,0.0,0.0,0.0,1.6,0.0,0.0,1.0,0.9,0.2,0.6,2.0,0.2,0.0,0.0,0.0,1.0,0.0,1.6,2.4,0.5,1.2,1.4,1.6,1.4,1.4,0.6,0.3,1.4,0.0,0.0,0.0,0.4,0.0,0.5,0.0,4.2,0.1,0.8,0.0,0.0,1.1,1.6,0.2,0.6,0.0,1.2,0.5,0.3,0.6,1.0,1.2,0.0,0.0,0.6,0.8,0.0,0.0,0.0,2.0,0.0,0.8,0.0,0.0,1.5,1.2,1.2,0.0,0.0,0.0,1.4,0.2,0.0,0.0,0.0,0.0,0.0,0.0,0.0,1.6,1.2,0.0,0.6,4.2,1.8,0.6,0.6,0.4,0.0,0.6,0.0,0.2,0.4,0.0,2.0,1.6,0.6,0.0,2.6,0.0,0.0,0.0,0.0,0.1,1.0,2.6,0.8,0.0,0.0,1.0,0.4,0.0,0.0,0.0,0.6,1.4,0.0,1.6,2.0,0.4,1.5,0.0,1.3,0.0,0.0,0.0,2.6,1.4,0.0,1.4,0.1,0.0,0.0,1.5,0.2,0.0,1.4,0.0,0.0,0.6,0.0,0.0,0.0,0.4,0.0,1.2,0.0,0.4,0.0,0.8,0.2,0.4,0.5,0.0,2.3,0.0,0.0,0.0,1.0,0.0,0.0,0.0,0.2,0.2,1.2,0.7,2.0,0.0,1.6,0.0,0.0,0.0,1.2,2.3,0.6,0.0,0.4,0.0,1.6,0.0,0.6,0.0,0.0,0.8,1.2,0.0,0.0,0.4,1.2,0.4,1.0,0.0,0.5,1.4,0.0,1.4,1.4,1.0,3.5,0.0,1.5,1.2,1.5,0.9,0.0,0.0,0.0,0.8,0.2,0.0,0.6,0.4,0.2,0.0,0.0,1.5,0.0,4.2,0.8,0.6,0.5,0.6,0.0,0.0,1.1,3.0,0.0,0.0,1.2,0.8,1.5,0.0,0.0,1.9,0.0,0.0,0.1,1.8,0.4,1.9,0.0,0.0,0.0,0.0,0.2,0.4,1.8,0.0,0.8,1.8,0.1,1.0,0.1,0.6,1.1,0.0,0.2,0.0,0.5,0.0,2.4,0.0,0.0,0.4,0.3,0.2,0.5,1.8,0.4,0.8,0.0,0.0,0.0,0.1,1.5,0.0,1.9,0.0,0.0,0.6,0.1,0.0,0.0],\"type\":\"box\"}],                        {\"template\":{\"data\":{\"histogram2dcontour\":[{\"type\":\"histogram2dcontour\",\"colorbar\":{\"outlinewidth\":0,\"ticks\":\"\"},\"colorscale\":[[0.0,\"#0d0887\"],[0.1111111111111111,\"#46039f\"],[0.2222222222222222,\"#7201a8\"],[0.3333333333333333,\"#9c179e\"],[0.4444444444444444,\"#bd3786\"],[0.5555555555555556,\"#d8576b\"],[0.6666666666666666,\"#ed7953\"],[0.7777777777777778,\"#fb9f3a\"],[0.8888888888888888,\"#fdca26\"],[1.0,\"#f0f921\"]]}],\"choropleth\":[{\"type\":\"choropleth\",\"colorbar\":{\"outlinewidth\":0,\"ticks\":\"\"}}],\"histogram2d\":[{\"type\":\"histogram2d\",\"colorbar\":{\"outlinewidth\":0,\"ticks\":\"\"},\"colorscale\":[[0.0,\"#0d0887\"],[0.1111111111111111,\"#46039f\"],[0.2222222222222222,\"#7201a8\"],[0.3333333333333333,\"#9c179e\"],[0.4444444444444444,\"#bd3786\"],[0.5555555555555556,\"#d8576b\"],[0.6666666666666666,\"#ed7953\"],[0.7777777777777778,\"#fb9f3a\"],[0.8888888888888888,\"#fdca26\"],[1.0,\"#f0f921\"]]}],\"heatmap\":[{\"type\":\"heatmap\",\"colorbar\":{\"outlinewidth\":0,\"ticks\":\"\"},\"colorscale\":[[0.0,\"#0d0887\"],[0.1111111111111111,\"#46039f\"],[0.2222222222222222,\"#7201a8\"],[0.3333333333333333,\"#9c179e\"],[0.4444444444444444,\"#bd3786\"],[0.5555555555555556,\"#d8576b\"],[0.6666666666666666,\"#ed7953\"],[0.7777777777777778,\"#fb9f3a\"],[0.8888888888888888,\"#fdca26\"],[1.0,\"#f0f921\"]]}],\"heatmapgl\":[{\"type\":\"heatmapgl\",\"colorbar\":{\"outlinewidth\":0,\"ticks\":\"\"},\"colorscale\":[[0.0,\"#0d0887\"],[0.1111111111111111,\"#46039f\"],[0.2222222222222222,\"#7201a8\"],[0.3333333333333333,\"#9c179e\"],[0.4444444444444444,\"#bd3786\"],[0.5555555555555556,\"#d8576b\"],[0.6666666666666666,\"#ed7953\"],[0.7777777777777778,\"#fb9f3a\"],[0.8888888888888888,\"#fdca26\"],[1.0,\"#f0f921\"]]}],\"contourcarpet\":[{\"type\":\"contourcarpet\",\"colorbar\":{\"outlinewidth\":0,\"ticks\":\"\"}}],\"contour\":[{\"type\":\"contour\",\"colorbar\":{\"outlinewidth\":0,\"ticks\":\"\"},\"colorscale\":[[0.0,\"#0d0887\"],[0.1111111111111111,\"#46039f\"],[0.2222222222222222,\"#7201a8\"],[0.3333333333333333,\"#9c179e\"],[0.4444444444444444,\"#bd3786\"],[0.5555555555555556,\"#d8576b\"],[0.6666666666666666,\"#ed7953\"],[0.7777777777777778,\"#fb9f3a\"],[0.8888888888888888,\"#fdca26\"],[1.0,\"#f0f921\"]]}],\"surface\":[{\"type\":\"surface\",\"colorbar\":{\"outlinewidth\":0,\"ticks\":\"\"},\"colorscale\":[[0.0,\"#0d0887\"],[0.1111111111111111,\"#46039f\"],[0.2222222222222222,\"#7201a8\"],[0.3333333333333333,\"#9c179e\"],[0.4444444444444444,\"#bd3786\"],[0.5555555555555556,\"#d8576b\"],[0.6666666666666666,\"#ed7953\"],[0.7777777777777778,\"#fb9f3a\"],[0.8888888888888888,\"#fdca26\"],[1.0,\"#f0f921\"]]}],\"mesh3d\":[{\"type\":\"mesh3d\",\"colorbar\":{\"outlinewidth\":0,\"ticks\":\"\"}}],\"scatter\":[{\"fillpattern\":{\"fillmode\":\"overlay\",\"size\":10,\"solidity\":0.2},\"type\":\"scatter\"}],\"parcoords\":[{\"type\":\"parcoords\",\"line\":{\"colorbar\":{\"outlinewidth\":0,\"ticks\":\"\"}}}],\"scatterpolargl\":[{\"type\":\"scatterpolargl\",\"marker\":{\"colorbar\":{\"outlinewidth\":0,\"ticks\":\"\"}}}],\"bar\":[{\"error_x\":{\"color\":\"#2a3f5f\"},\"error_y\":{\"color\":\"#2a3f5f\"},\"marker\":{\"line\":{\"color\":\"#E5ECF6\",\"width\":0.5},\"pattern\":{\"fillmode\":\"overlay\",\"size\":10,\"solidity\":0.2}},\"type\":\"bar\"}],\"scattergeo\":[{\"type\":\"scattergeo\",\"marker\":{\"colorbar\":{\"outlinewidth\":0,\"ticks\":\"\"}}}],\"scatterpolar\":[{\"type\":\"scatterpolar\",\"marker\":{\"colorbar\":{\"outlinewidth\":0,\"ticks\":\"\"}}}],\"histogram\":[{\"marker\":{\"pattern\":{\"fillmode\":\"overlay\",\"size\":10,\"solidity\":0.2}},\"type\":\"histogram\"}],\"scattergl\":[{\"type\":\"scattergl\",\"marker\":{\"colorbar\":{\"outlinewidth\":0,\"ticks\":\"\"}}}],\"scatter3d\":[{\"type\":\"scatter3d\",\"line\":{\"colorbar\":{\"outlinewidth\":0,\"ticks\":\"\"}},\"marker\":{\"colorbar\":{\"outlinewidth\":0,\"ticks\":\"\"}}}],\"scattermapbox\":[{\"type\":\"scattermapbox\",\"marker\":{\"colorbar\":{\"outlinewidth\":0,\"ticks\":\"\"}}}],\"scatterternary\":[{\"type\":\"scatterternary\",\"marker\":{\"colorbar\":{\"outlinewidth\":0,\"ticks\":\"\"}}}],\"scattercarpet\":[{\"type\":\"scattercarpet\",\"marker\":{\"colorbar\":{\"outlinewidth\":0,\"ticks\":\"\"}}}],\"carpet\":[{\"aaxis\":{\"endlinecolor\":\"#2a3f5f\",\"gridcolor\":\"white\",\"linecolor\":\"white\",\"minorgridcolor\":\"white\",\"startlinecolor\":\"#2a3f5f\"},\"baxis\":{\"endlinecolor\":\"#2a3f5f\",\"gridcolor\":\"white\",\"linecolor\":\"white\",\"minorgridcolor\":\"white\",\"startlinecolor\":\"#2a3f5f\"},\"type\":\"carpet\"}],\"table\":[{\"cells\":{\"fill\":{\"color\":\"#EBF0F8\"},\"line\":{\"color\":\"white\"}},\"header\":{\"fill\":{\"color\":\"#C8D4E3\"},\"line\":{\"color\":\"white\"}},\"type\":\"table\"}],\"barpolar\":[{\"marker\":{\"line\":{\"color\":\"#E5ECF6\",\"width\":0.5},\"pattern\":{\"fillmode\":\"overlay\",\"size\":10,\"solidity\":0.2}},\"type\":\"barpolar\"}],\"pie\":[{\"automargin\":true,\"type\":\"pie\"}]},\"layout\":{\"autotypenumbers\":\"strict\",\"colorway\":[\"#636efa\",\"#EF553B\",\"#00cc96\",\"#ab63fa\",\"#FFA15A\",\"#19d3f3\",\"#FF6692\",\"#B6E880\",\"#FF97FF\",\"#FECB52\"],\"font\":{\"color\":\"#2a3f5f\"},\"hovermode\":\"closest\",\"hoverlabel\":{\"align\":\"left\"},\"paper_bgcolor\":\"white\",\"plot_bgcolor\":\"#E5ECF6\",\"polar\":{\"bgcolor\":\"#E5ECF6\",\"angularaxis\":{\"gridcolor\":\"white\",\"linecolor\":\"white\",\"ticks\":\"\"},\"radialaxis\":{\"gridcolor\":\"white\",\"linecolor\":\"white\",\"ticks\":\"\"}},\"ternary\":{\"bgcolor\":\"#E5ECF6\",\"aaxis\":{\"gridcolor\":\"white\",\"linecolor\":\"white\",\"ticks\":\"\"},\"baxis\":{\"gridcolor\":\"white\",\"linecolor\":\"white\",\"ticks\":\"\"},\"caxis\":{\"gridcolor\":\"white\",\"linecolor\":\"white\",\"ticks\":\"\"}},\"coloraxis\":{\"colorbar\":{\"outlinewidth\":0,\"ticks\":\"\"}},\"colorscale\":{\"sequential\":[[0.0,\"#0d0887\"],[0.1111111111111111,\"#46039f\"],[0.2222222222222222,\"#7201a8\"],[0.3333333333333333,\"#9c179e\"],[0.4444444444444444,\"#bd3786\"],[0.5555555555555556,\"#d8576b\"],[0.6666666666666666,\"#ed7953\"],[0.7777777777777778,\"#fb9f3a\"],[0.8888888888888888,\"#fdca26\"],[1.0,\"#f0f921\"]],\"sequentialminus\":[[0.0,\"#0d0887\"],[0.1111111111111111,\"#46039f\"],[0.2222222222222222,\"#7201a8\"],[0.3333333333333333,\"#9c179e\"],[0.4444444444444444,\"#bd3786\"],[0.5555555555555556,\"#d8576b\"],[0.6666666666666666,\"#ed7953\"],[0.7777777777777778,\"#fb9f3a\"],[0.8888888888888888,\"#fdca26\"],[1.0,\"#f0f921\"]],\"diverging\":[[0,\"#8e0152\"],[0.1,\"#c51b7d\"],[0.2,\"#de77ae\"],[0.3,\"#f1b6da\"],[0.4,\"#fde0ef\"],[0.5,\"#f7f7f7\"],[0.6,\"#e6f5d0\"],[0.7,\"#b8e186\"],[0.8,\"#7fbc41\"],[0.9,\"#4d9221\"],[1,\"#276419\"]]},\"xaxis\":{\"gridcolor\":\"white\",\"linecolor\":\"white\",\"ticks\":\"\",\"title\":{\"standoff\":15},\"zerolinecolor\":\"white\",\"automargin\":true,\"zerolinewidth\":2},\"yaxis\":{\"gridcolor\":\"white\",\"linecolor\":\"white\",\"ticks\":\"\",\"title\":{\"standoff\":15},\"zerolinecolor\":\"white\",\"automargin\":true,\"zerolinewidth\":2},\"scene\":{\"xaxis\":{\"backgroundcolor\":\"#E5ECF6\",\"gridcolor\":\"white\",\"linecolor\":\"white\",\"showbackground\":true,\"ticks\":\"\",\"zerolinecolor\":\"white\",\"gridwidth\":2},\"yaxis\":{\"backgroundcolor\":\"#E5ECF6\",\"gridcolor\":\"white\",\"linecolor\":\"white\",\"showbackground\":true,\"ticks\":\"\",\"zerolinecolor\":\"white\",\"gridwidth\":2},\"zaxis\":{\"backgroundcolor\":\"#E5ECF6\",\"gridcolor\":\"white\",\"linecolor\":\"white\",\"showbackground\":true,\"ticks\":\"\",\"zerolinecolor\":\"white\",\"gridwidth\":2}},\"shapedefaults\":{\"line\":{\"color\":\"#2a3f5f\"}},\"annotationdefaults\":{\"arrowcolor\":\"#2a3f5f\",\"arrowhead\":0,\"arrowwidth\":1},\"geo\":{\"bgcolor\":\"white\",\"landcolor\":\"#E5ECF6\",\"subunitcolor\":\"white\",\"showland\":true,\"showlakes\":true,\"lakecolor\":\"white\"},\"title\":{\"x\":0.05},\"mapbox\":{\"style\":\"light\"}}},\"title\":{\"text\":\"Oldpeak Distribution by Target\"},\"yaxis\":{\"title\":{\"text\":\"Oldpeak\"}}},                        {\"responsive\": true}                    ).then(function(){\n",
              "                            \n",
              "var gd = document.getElementById('522634da-c157-48ba-8ab3-992eae1a14dc');\n",
              "var x = new MutationObserver(function (mutations, observer) {{\n",
              "        var display = window.getComputedStyle(gd).display;\n",
              "        if (!display || display === 'none') {{\n",
              "            console.log([gd, 'removed!']);\n",
              "            Plotly.purge(gd);\n",
              "            observer.disconnect();\n",
              "        }}\n",
              "}});\n",
              "\n",
              "// Listen for the removal of the full notebook cells\n",
              "var notebookContainer = gd.closest('#notebook-container');\n",
              "if (notebookContainer) {{\n",
              "    x.observe(notebookContainer, {childList: true});\n",
              "}}\n",
              "\n",
              "// Listen for the clearing of the current output cell\n",
              "var outputEl = gd.closest('.output');\n",
              "if (outputEl) {{\n",
              "    x.observe(outputEl, {childList: true});\n",
              "}}\n",
              "\n",
              "                        })                };                            </script>        </div>\n",
              "</body>\n",
              "</html>"
            ]
          },
          "metadata": {}
        }
      ]
    }
  ]
}